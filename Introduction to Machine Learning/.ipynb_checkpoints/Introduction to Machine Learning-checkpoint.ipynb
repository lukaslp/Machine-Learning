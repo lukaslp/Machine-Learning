{
 "cells": [
  {
   "cell_type": "markdown",
   "metadata": {},
   "source": [
    "# Introduction to Machine Learning\n",
    "\n",
    "## Content:\n",
    "\n",
    "### 1. Definition\n",
    "### 2. Data Science Pipeline\n",
    "### 3. Basic Paradigm\n",
    "### 4. Supervised versus Unsupervised Learning\n"
   ]
  },
  {
   "cell_type": "markdown",
   "metadata": {},
   "source": [
    "## 1. Definition\n",
    "\n",
    "- \"Machine Learning is the field of study that gives computers the ability to learn without being explicitly programmed\"\n",
    "\n",
    "<div style=\"font-size: 9pt; text-align: right\"> Arthur Samuel (1959).\n",
    "Computer pioneer who wrote the first self-learning program, wich played checkers - learned from experience.</div>\n",
    "\n",
    "\n",
    "<img src='Data/traditional_programming.png'>\n",
    "<img src='Data/machine_learning.png'>\n",
    "\n",
    "These ability to learn things, which tries to imitate the way humans learn, are primary through memorization or generalization.\n",
    "\n",
    "<strong style=\"font-size: 12pt\"> Memorization</strong>\n",
    "   - Acumulation of individual facts <strong style=\"font-size: 12pt; color: blue; \"> Declarative knowledge</strong>\n",
    "   - Limited by time to observe facts and memory to store facts       \n",
    "\n",
    "<strong style=\"font-size: 12pt\"> Generalization</strong>\n",
    "   - Deduce new facts from old facts <strong style=\"font-size: 12pt; color: blue; \"> Imperative knowledge</strong>\n",
    "   - Limited by accuracy of deduction process\n",
    "   - Essentially a predictive activity\n",
    "   - Assumes that the past predicts the future in some magnitude"
   ]
  },
  {
   "cell_type": "markdown",
   "metadata": {},
   "source": [
    "## 2. Data Science Pipeline\n",
    "\n",
    "\n",
    "\n",
    "<img src='Data/pipeline.png'/>\n",
    "\n",
    "\n",
    "- **Question**: problem you want to solve with data science\n",
    "- **Data Wrangling**: process of transforming and mapping data from one \"raw\" data form into another format with the intent of making it more appropriate and valuable.\n",
    "- **Data cleansing**: process of detecting and correcting (or removing) corrupt or inaccurate records from a record set, table, or database. Refers to indentifying incomplete, incorrect, inaccurate or irrelevant parts of the data and then replacing.\n",
    "- **Data exploration**: approach whereby a data analyst uses visual exploration to understand what is in a dataset and the characteristics of the data.\n",
    "- **Data preprocessing**: is the step in which the data gets transformed, or Encoded, to bring it to such a state that now the machine can easily parse it. Handle null values, multicollinearity, categorical variables and perform standardization of features are commom in the preprocessing step.\n",
    "- **Data modeling**: decision-making process whereby the data scientist must choose a model that best suit the data set and will probably explain data behavior.\n",
    "- **Model validation**: process where a trained model is evaluated with a testing data set.\n",
    "- **Tell a story**: you must find a structured approach of communicating insights from data through stories and visuals to an audience.\n"
   ]
  },
  {
   "cell_type": "markdown",
   "metadata": {},
   "source": [
    "## 3. Basic Paradigm\n",
    "\n",
    "- Observe a set of examples <strong style=\"font-size: 12pt; color: red; \"> training data</strong>\n",
    "- Infer something about process that generated that data\n",
    "- Use inference to make predictions abou previously unseen data <strong style=\"font-size: 12pt; color: red; \"> test data</strong>\n",
    "\n",
    "- Variations on paradigm:\n",
    "    - **Supervised:** given a set of feature/label pairs, find a rule that predicts the label associated with a previously unseen input.\n",
    "    - **Unsupervised:** given a set of feature vectors (without labels) group them into \"natural clusters\" (or create labels for groups).\n",
    "\n",
    "### Given the set of players of the 2018 World Cup German team, labeled by position, with height and weight data, find a canonical model of position (for defenders and midfielders) and predict the position of new players."
   ]
  },
  {
   "cell_type": "code",
   "execution_count": 4,
   "metadata": {},
   "outputs": [
    {
     "data": {
      "text/html": [
       "<div>\n",
       "<style scoped>\n",
       "    .dataframe tbody tr th:only-of-type {\n",
       "        vertical-align: middle;\n",
       "    }\n",
       "\n",
       "    .dataframe tbody tr th {\n",
       "        vertical-align: top;\n",
       "    }\n",
       "\n",
       "    .dataframe thead th {\n",
       "        text-align: right;\n",
       "    }\n",
       "</style>\n",
       "<table border=\"1\" class=\"dataframe\">\n",
       "  <thead>\n",
       "    <tr style=\"text-align: right;\">\n",
       "      <th></th>\n",
       "      <th>Position</th>\n",
       "      <th>FIFA Popular Name</th>\n",
       "      <th>Height</th>\n",
       "      <th>Weight</th>\n",
       "    </tr>\n",
       "    <tr>\n",
       "      <th>#</th>\n",
       "      <th></th>\n",
       "      <th></th>\n",
       "      <th></th>\n",
       "      <th></th>\n",
       "    </tr>\n",
       "  </thead>\n",
       "  <tbody>\n",
       "    <tr>\n",
       "      <th>1</th>\n",
       "      <td>GK</td>\n",
       "      <td>NEUER Manuel</td>\n",
       "      <td>193</td>\n",
       "      <td>93</td>\n",
       "    </tr>\n",
       "    <tr>\n",
       "      <th>2</th>\n",
       "      <td>DF</td>\n",
       "      <td>PLATTENHARDT Marvin</td>\n",
       "      <td>181</td>\n",
       "      <td>76</td>\n",
       "    </tr>\n",
       "    <tr>\n",
       "      <th>3</th>\n",
       "      <td>DF</td>\n",
       "      <td>HECTOR Jonas</td>\n",
       "      <td>185</td>\n",
       "      <td>75</td>\n",
       "    </tr>\n",
       "    <tr>\n",
       "      <th>4</th>\n",
       "      <td>DF</td>\n",
       "      <td>GINTER Matthias</td>\n",
       "      <td>189</td>\n",
       "      <td>85</td>\n",
       "    </tr>\n",
       "    <tr>\n",
       "      <th>5</th>\n",
       "      <td>DF</td>\n",
       "      <td>HUMMELS Mats</td>\n",
       "      <td>192</td>\n",
       "      <td>90</td>\n",
       "    </tr>\n",
       "    <tr>\n",
       "      <th>6</th>\n",
       "      <td>DF</td>\n",
       "      <td>KHEDIRA Sami</td>\n",
       "      <td>189</td>\n",
       "      <td>81</td>\n",
       "    </tr>\n",
       "    <tr>\n",
       "      <th>7</th>\n",
       "      <td>MF</td>\n",
       "      <td>DRAXLER Julian</td>\n",
       "      <td>185</td>\n",
       "      <td>74</td>\n",
       "    </tr>\n",
       "    <tr>\n",
       "      <th>8</th>\n",
       "      <td>MF</td>\n",
       "      <td>KROOS Toni</td>\n",
       "      <td>182</td>\n",
       "      <td>78</td>\n",
       "    </tr>\n",
       "    <tr>\n",
       "      <th>9</th>\n",
       "      <td>FW</td>\n",
       "      <td>WERNER Timo</td>\n",
       "      <td>181</td>\n",
       "      <td>75</td>\n",
       "    </tr>\n",
       "    <tr>\n",
       "      <th>10</th>\n",
       "      <td>MF</td>\n",
       "      <td>OEZIL Mesut</td>\n",
       "      <td>180</td>\n",
       "      <td>70</td>\n",
       "    </tr>\n",
       "    <tr>\n",
       "      <th>11</th>\n",
       "      <td>FW</td>\n",
       "      <td>REUS Marco</td>\n",
       "      <td>180</td>\n",
       "      <td>67</td>\n",
       "    </tr>\n",
       "    <tr>\n",
       "      <th>12</th>\n",
       "      <td>GK</td>\n",
       "      <td>TRAPP Kevin</td>\n",
       "      <td>189</td>\n",
       "      <td>88</td>\n",
       "    </tr>\n",
       "    <tr>\n",
       "      <th>13</th>\n",
       "      <td>MF</td>\n",
       "      <td>MUELLER Thomas</td>\n",
       "      <td>186</td>\n",
       "      <td>75</td>\n",
       "    </tr>\n",
       "    <tr>\n",
       "      <th>14</th>\n",
       "      <td>MF</td>\n",
       "      <td>GORETZKA Leon</td>\n",
       "      <td>189</td>\n",
       "      <td>76</td>\n",
       "    </tr>\n",
       "    <tr>\n",
       "      <th>15</th>\n",
       "      <td>DF</td>\n",
       "      <td>SUELE Niklas</td>\n",
       "      <td>195</td>\n",
       "      <td>89</td>\n",
       "    </tr>\n",
       "    <tr>\n",
       "      <th>16</th>\n",
       "      <td>DF</td>\n",
       "      <td>RUEDIGER Antonio</td>\n",
       "      <td>191</td>\n",
       "      <td>85</td>\n",
       "    </tr>\n",
       "    <tr>\n",
       "      <th>17</th>\n",
       "      <td>DF</td>\n",
       "      <td>BOATENG Jerome</td>\n",
       "      <td>192</td>\n",
       "      <td>90</td>\n",
       "    </tr>\n",
       "    <tr>\n",
       "      <th>18</th>\n",
       "      <td>DF</td>\n",
       "      <td>KIMMICH Joshua</td>\n",
       "      <td>176</td>\n",
       "      <td>72</td>\n",
       "    </tr>\n",
       "    <tr>\n",
       "      <th>19</th>\n",
       "      <td>MF</td>\n",
       "      <td>RUDY Sebastian</td>\n",
       "      <td>179</td>\n",
       "      <td>74</td>\n",
       "    </tr>\n",
       "    <tr>\n",
       "      <th>20</th>\n",
       "      <td>MF</td>\n",
       "      <td>BRANDT Julian</td>\n",
       "      <td>183</td>\n",
       "      <td>82</td>\n",
       "    </tr>\n",
       "    <tr>\n",
       "      <th>21</th>\n",
       "      <td>MF</td>\n",
       "      <td>GUENDOGAN Ilkay</td>\n",
       "      <td>180</td>\n",
       "      <td>79</td>\n",
       "    </tr>\n",
       "    <tr>\n",
       "      <th>22</th>\n",
       "      <td>GK</td>\n",
       "      <td>TER STEGEN Marc-Andre</td>\n",
       "      <td>187</td>\n",
       "      <td>85</td>\n",
       "    </tr>\n",
       "    <tr>\n",
       "      <th>23</th>\n",
       "      <td>FW</td>\n",
       "      <td>GOMEZ Mario</td>\n",
       "      <td>189</td>\n",
       "      <td>82</td>\n",
       "    </tr>\n",
       "  </tbody>\n",
       "</table>\n",
       "</div>"
      ],
      "text/plain": [
       "   Position      FIFA Popular Name  Height  Weight\n",
       "#                                                 \n",
       "1        GK           NEUER Manuel     193      93\n",
       "2        DF    PLATTENHARDT Marvin     181      76\n",
       "3        DF           HECTOR Jonas     185      75\n",
       "4        DF        GINTER Matthias     189      85\n",
       "5        DF           HUMMELS Mats     192      90\n",
       "6        DF           KHEDIRA Sami     189      81\n",
       "7        MF         DRAXLER Julian     185      74\n",
       "8        MF             KROOS Toni     182      78\n",
       "9        FW            WERNER Timo     181      75\n",
       "10       MF            OEZIL Mesut     180      70\n",
       "11       FW             REUS Marco     180      67\n",
       "12       GK            TRAPP Kevin     189      88\n",
       "13       MF         MUELLER Thomas     186      75\n",
       "14       MF          GORETZKA Leon     189      76\n",
       "15       DF           SUELE Niklas     195      89\n",
       "16       DF       RUEDIGER Antonio     191      85\n",
       "17       DF         BOATENG Jerome     192      90\n",
       "18       DF         KIMMICH Joshua     176      72\n",
       "19       MF         RUDY Sebastian     179      74\n",
       "20       MF          BRANDT Julian     183      82\n",
       "21       MF        GUENDOGAN Ilkay     180      79\n",
       "22       GK  TER STEGEN Marc-Andre     187      85\n",
       "23       FW            GOMEZ Mario     189      82"
      ]
     },
     "execution_count": 4,
     "metadata": {},
     "output_type": "execute_result"
    }
   ],
   "source": [
    "import pandas as pd\n",
    "from matplotlib import pyplot as plt\n",
    "\n",
    "df_players = pd.read_csv('Data/players.csv', sep=';')\n",
    "df_players = df_players.set_index('#')\n",
    "df_players\n",
    "\n"
   ]
  },
  {
   "cell_type": "code",
   "execution_count": 5,
   "metadata": {},
   "outputs": [],
   "source": [
    "## First lets use a training dataset\n",
    "\n",
    "training = df_players.filter(items=[2,5,6,7,8,13,14,15,16], axis= 0)\n",
    "test = df_players.filter(items=[4, 19, 20, 21, 2, 3, 17, 18, 10], axis=0)\n"
   ]
  },
  {
   "cell_type": "code",
   "execution_count": 6,
   "metadata": {},
   "outputs": [
    {
     "data": {
      "text/html": [
       "<div>\n",
       "<style scoped>\n",
       "    .dataframe tbody tr th:only-of-type {\n",
       "        vertical-align: middle;\n",
       "    }\n",
       "\n",
       "    .dataframe tbody tr th {\n",
       "        vertical-align: top;\n",
       "    }\n",
       "\n",
       "    .dataframe thead th {\n",
       "        text-align: right;\n",
       "    }\n",
       "</style>\n",
       "<table border=\"1\" class=\"dataframe\">\n",
       "  <thead>\n",
       "    <tr style=\"text-align: right;\">\n",
       "      <th></th>\n",
       "      <th>Position</th>\n",
       "      <th>FIFA Popular Name</th>\n",
       "      <th>Height</th>\n",
       "      <th>Weight</th>\n",
       "    </tr>\n",
       "    <tr>\n",
       "      <th>#</th>\n",
       "      <th></th>\n",
       "      <th></th>\n",
       "      <th></th>\n",
       "      <th></th>\n",
       "    </tr>\n",
       "  </thead>\n",
       "  <tbody>\n",
       "    <tr>\n",
       "      <th>2</th>\n",
       "      <td>DF</td>\n",
       "      <td>PLATTENHARDT Marvin</td>\n",
       "      <td>181</td>\n",
       "      <td>76</td>\n",
       "    </tr>\n",
       "    <tr>\n",
       "      <th>5</th>\n",
       "      <td>DF</td>\n",
       "      <td>HUMMELS Mats</td>\n",
       "      <td>192</td>\n",
       "      <td>90</td>\n",
       "    </tr>\n",
       "    <tr>\n",
       "      <th>6</th>\n",
       "      <td>DF</td>\n",
       "      <td>KHEDIRA Sami</td>\n",
       "      <td>189</td>\n",
       "      <td>81</td>\n",
       "    </tr>\n",
       "    <tr>\n",
       "      <th>7</th>\n",
       "      <td>MF</td>\n",
       "      <td>DRAXLER Julian</td>\n",
       "      <td>185</td>\n",
       "      <td>74</td>\n",
       "    </tr>\n",
       "    <tr>\n",
       "      <th>8</th>\n",
       "      <td>MF</td>\n",
       "      <td>KROOS Toni</td>\n",
       "      <td>182</td>\n",
       "      <td>78</td>\n",
       "    </tr>\n",
       "    <tr>\n",
       "      <th>13</th>\n",
       "      <td>MF</td>\n",
       "      <td>MUELLER Thomas</td>\n",
       "      <td>186</td>\n",
       "      <td>75</td>\n",
       "    </tr>\n",
       "    <tr>\n",
       "      <th>14</th>\n",
       "      <td>MF</td>\n",
       "      <td>GORETZKA Leon</td>\n",
       "      <td>189</td>\n",
       "      <td>76</td>\n",
       "    </tr>\n",
       "    <tr>\n",
       "      <th>15</th>\n",
       "      <td>DF</td>\n",
       "      <td>SUELE Niklas</td>\n",
       "      <td>195</td>\n",
       "      <td>89</td>\n",
       "    </tr>\n",
       "    <tr>\n",
       "      <th>16</th>\n",
       "      <td>DF</td>\n",
       "      <td>RUEDIGER Antonio</td>\n",
       "      <td>191</td>\n",
       "      <td>85</td>\n",
       "    </tr>\n",
       "  </tbody>\n",
       "</table>\n",
       "</div>"
      ],
      "text/plain": [
       "   Position    FIFA Popular Name  Height  Weight\n",
       "#                                               \n",
       "2        DF  PLATTENHARDT Marvin     181      76\n",
       "5        DF         HUMMELS Mats     192      90\n",
       "6        DF         KHEDIRA Sami     189      81\n",
       "7        MF       DRAXLER Julian     185      74\n",
       "8        MF           KROOS Toni     182      78\n",
       "13       MF       MUELLER Thomas     186      75\n",
       "14       MF        GORETZKA Leon     189      76\n",
       "15       DF         SUELE Niklas     195      89\n",
       "16       DF     RUEDIGER Antonio     191      85"
      ]
     },
     "execution_count": 6,
     "metadata": {},
     "output_type": "execute_result"
    }
   ],
   "source": [
    "training"
   ]
  },
  {
   "cell_type": "code",
   "execution_count": 7,
   "metadata": {},
   "outputs": [
    {
     "data": {
      "text/plain": [
       "<matplotlib.legend.Legend at 0x219774e4708>"
      ]
     },
     "execution_count": 7,
     "metadata": {},
     "output_type": "execute_result"
    },
    {
     "data": {
      "image/png": "[encoded data removed]",
      "text/plain": [
       "<Figure size 432x288 with 1 Axes>"
      ]
     },
     "metadata": {
      "needs_background": "light"
     },
     "output_type": "display_data"
    }
   ],
   "source": [
    "fig, ax = plt.subplots()\n",
    "defenders = training[training['Position'] == 'DF']\n",
    "midfielders = training[training['Position'] == 'MF']\n",
    "ax.scatter(defenders['Height'],defenders['Weight'], label='defenders',c='blue')\n",
    "ax.scatter(midfielders['Height'],midfielders['Weight'], label='midfielders', c='red')\n",
    "ax.legend()"
   ]
  },
  {
   "cell_type": "markdown",
   "metadata": {},
   "source": [
    "We can see, that to these data, cleary the height and the weight of the defenders are much bigger, we can than trace a number of lines at the plot separating those two groups. That would be our 1st canonichal model for this task:"
   ]
  },
  {
   "cell_type": "code",
   "execution_count": 8,
   "metadata": {},
   "outputs": [
    {
     "data": {
      "text/plain": [
       "<matplotlib.legend.Legend at 0x21977a96f48>"
      ]
     },
     "execution_count": 8,
     "metadata": {},
     "output_type": "execute_result"
    },
    {
     "data": {
      "image/png": "[encoded data removed]",
      "text/plain": [
       "<Figure size 432x288 with 1 Axes>"
      ]
     },
     "metadata": {
      "needs_background": "light"
     },
     "output_type": "display_data"
    }
   ],
   "source": [
    "fig, ax = plt.subplots()\n",
    "ax.scatter(defenders['Height'],defenders['Weight'], label='defenders',c='blue')\n",
    "ax.scatter(midfielders['Height'],midfielders['Weight'], label='midfielders', c='red')\n",
    "p1= [195,77.5]\n",
    "p2= [180,82.5]\n",
    "ax.plot([p1[0], p2[0]], [p1[1], p2[1]], c='black')\n",
    "p3= [188,74]\n",
    "p4= [186, 90]\n",
    "ax.plot([p3[0], p4[0]], [p3[1], p4[1]], c='black', linestyle= '--')\n",
    "ax.legend()"
   ]
  },
  {
   "cell_type": "markdown",
   "metadata": {},
   "source": [
    "So, we will at first two options for our first canonical model:\n",
    " - Model 1: Our first canonical model of a program will be a program that states that every player above the black line is a defender and every player below the black line is a midfielder.\n",
    " - Model 2: Or our first canonical model will be a program that states that every player right of the the dashed line is a defender and every player left from the dashed line is a midfielder.\n",
    "\n",
    "We can then take a look at the training accuracy of the models using a so called Confusion Matrix:\n",
    "\n",
    "\\begin{equation*}\n",
    "accuracy =\n",
    "\\frac{true\\,\\ positive + true\\,\\ negative}{true\\,\\ positive + true\\,\\ negative, false\\,\\ positive + false\\,\\ negative},\n",
    "\\end{equation*}\n",
    "\n",
    "<img src='Data/training_accuracy.png'>\n",
    "\n",
    "\\begin{equation*}\n",
    "accuracy_{model1} =0.89\n",
    "\\end{equation*}\n",
    "\n",
    "$$\n",
    "\\begin{equation*}\n",
    "accuracy_{model2} =0.78\n",
    "\\end{equation*}\n",
    "$$\n",
    "\n",
    "\n",
    "\n",
    "\n",
    "We choose model 1 as our first canonical model., through its higher accuracy in the training data. That, however, doesn't me that this is the best model.\n",
    "\n",
    "This model is also capable of infer about the tendency of a performance of a forward out of his position (wheter midfielder or defender). This doesn't mean that the model will be right, but at least will state something through a classification method. Lets see that working testing both Marco Reus and Mario Gomez."
   ]
  },
  {
   "cell_type": "code",
   "execution_count": 9,
   "metadata": {},
   "outputs": [
    {
     "data": {
      "text/plain": [
       "<matplotlib.legend.Legend at 0x21977b15e48>"
      ]
     },
     "execution_count": 9,
     "metadata": {},
     "output_type": "execute_result"
    },
    {
     "data": {
      "image/png": "[encoded data removed]",
      "text/plain": [
       "<Figure size 432x288 with 1 Axes>"
      ]
     },
     "metadata": {
      "needs_background": "light"
     },
     "output_type": "display_data"
    }
   ],
   "source": [
    "fig, ax = plt.subplots()\n",
    "defenders = training[training['Position'] == 'DF']\n",
    "midfielders = training[training['Position'] == 'MF']\n",
    "forwards =  df_players.filter(items=[9,23], axis= 0) ##choosing Reus and Gomer\n",
    "p1= [195,77.5]\n",
    "p2= [180,82.5]\n",
    "ax.plot([p1[0], p2[0]], [p1[1], p2[1]], c='black')\n",
    "ax.scatter(forwards['Height'],forwards['Weight'], label='forwards', c='black')\n",
    "ax.scatter(defenders['Height'],defenders['Weight'], label='defenders',c='blue')\n",
    "ax.scatter(midfielders['Height'],midfielders['Weight'], label='midfielders', c='red')\n",
    "ax.legend()\n"
   ]
  },
  {
   "cell_type": "markdown",
   "metadata": {},
   "source": [
    "As you can see, our model gives our first output, as it is stating that Reus would be more suited to the midfielder position and that Gomez to the defender position.\n",
    "\n",
    "We can then, test the accuracy of our model using a test dataset:\n",
    "\n"
   ]
  },
  {
   "cell_type": "code",
   "execution_count": 10,
   "metadata": {},
   "outputs": [
    {
     "data": {
      "text/html": [
       "<div>\n",
       "<style scoped>\n",
       "    .dataframe tbody tr th:only-of-type {\n",
       "        vertical-align: middle;\n",
       "    }\n",
       "\n",
       "    .dataframe tbody tr th {\n",
       "        vertical-align: top;\n",
       "    }\n",
       "\n",
       "    .dataframe thead th {\n",
       "        text-align: right;\n",
       "    }\n",
       "</style>\n",
       "<table border=\"1\" class=\"dataframe\">\n",
       "  <thead>\n",
       "    <tr style=\"text-align: right;\">\n",
       "      <th></th>\n",
       "      <th>Position</th>\n",
       "      <th>FIFA Popular Name</th>\n",
       "      <th>Height</th>\n",
       "      <th>Weight</th>\n",
       "    </tr>\n",
       "    <tr>\n",
       "      <th>#</th>\n",
       "      <th></th>\n",
       "      <th></th>\n",
       "      <th></th>\n",
       "      <th></th>\n",
       "    </tr>\n",
       "  </thead>\n",
       "  <tbody>\n",
       "    <tr>\n",
       "      <th>4</th>\n",
       "      <td>DF</td>\n",
       "      <td>GINTER Matthias</td>\n",
       "      <td>189</td>\n",
       "      <td>85</td>\n",
       "    </tr>\n",
       "    <tr>\n",
       "      <th>19</th>\n",
       "      <td>MF</td>\n",
       "      <td>RUDY Sebastian</td>\n",
       "      <td>179</td>\n",
       "      <td>74</td>\n",
       "    </tr>\n",
       "    <tr>\n",
       "      <th>20</th>\n",
       "      <td>MF</td>\n",
       "      <td>BRANDT Julian</td>\n",
       "      <td>183</td>\n",
       "      <td>82</td>\n",
       "    </tr>\n",
       "    <tr>\n",
       "      <th>21</th>\n",
       "      <td>MF</td>\n",
       "      <td>GUENDOGAN Ilkay</td>\n",
       "      <td>180</td>\n",
       "      <td>79</td>\n",
       "    </tr>\n",
       "    <tr>\n",
       "      <th>2</th>\n",
       "      <td>DF</td>\n",
       "      <td>PLATTENHARDT Marvin</td>\n",
       "      <td>181</td>\n",
       "      <td>76</td>\n",
       "    </tr>\n",
       "    <tr>\n",
       "      <th>3</th>\n",
       "      <td>DF</td>\n",
       "      <td>HECTOR Jonas</td>\n",
       "      <td>185</td>\n",
       "      <td>75</td>\n",
       "    </tr>\n",
       "    <tr>\n",
       "      <th>17</th>\n",
       "      <td>DF</td>\n",
       "      <td>BOATENG Jerome</td>\n",
       "      <td>192</td>\n",
       "      <td>90</td>\n",
       "    </tr>\n",
       "    <tr>\n",
       "      <th>18</th>\n",
       "      <td>DF</td>\n",
       "      <td>KIMMICH Joshua</td>\n",
       "      <td>176</td>\n",
       "      <td>72</td>\n",
       "    </tr>\n",
       "    <tr>\n",
       "      <th>10</th>\n",
       "      <td>MF</td>\n",
       "      <td>OEZIL Mesut</td>\n",
       "      <td>180</td>\n",
       "      <td>70</td>\n",
       "    </tr>\n",
       "  </tbody>\n",
       "</table>\n",
       "</div>"
      ],
      "text/plain": [
       "   Position    FIFA Popular Name  Height  Weight\n",
       "#                                               \n",
       "4        DF      GINTER Matthias     189      85\n",
       "19       MF       RUDY Sebastian     179      74\n",
       "20       MF        BRANDT Julian     183      82\n",
       "21       MF      GUENDOGAN Ilkay     180      79\n",
       "2        DF  PLATTENHARDT Marvin     181      76\n",
       "3        DF         HECTOR Jonas     185      75\n",
       "17       DF       BOATENG Jerome     192      90\n",
       "18       DF       KIMMICH Joshua     176      72\n",
       "10       MF          OEZIL Mesut     180      70"
      ]
     },
     "execution_count": 10,
     "metadata": {},
     "output_type": "execute_result"
    }
   ],
   "source": [
    "test"
   ]
  },
  {
   "cell_type": "code",
   "execution_count": 11,
   "metadata": {},
   "outputs": [
    {
     "data": {
      "text/plain": [
       "<matplotlib.legend.Legend at 0x21977b9f808>"
      ]
     },
     "execution_count": 11,
     "metadata": {},
     "output_type": "execute_result"
    },
    {
     "data": {
      "image/png": "[encoded data removed]",
      "text/plain": [
       "<Figure size 432x288 with 1 Axes>"
      ]
     },
     "metadata": {
      "needs_background": "light"
     },
     "output_type": "display_data"
    }
   ],
   "source": [
    "fig, ax = plt.subplots()\n",
    "defenders = test[test['Position'] == 'DF']\n",
    "midfielders = test[test['Position'] == 'MF']\n",
    "ax.scatter(defenders['Height'],defenders['Weight'], label='defenders',c='blue')\n",
    "ax.scatter(midfielders['Height'],midfielders['Weight'], label='midfielders', c='red')\n",
    "p1= [195,77.5]\n",
    "p2= [180,82.5]\n",
    "ax.plot([p1[0], p2[0]], [p1[1], p2[1]], c='black')\n",
    "ax.legend()"
   ]
  },
  {
   "cell_type": "markdown",
   "metadata": {},
   "source": [
    "<img src='Data/test_accuracy.png'>\n",
    "\n",
    "As the test accuracy falls almost 40% to 0.56, we can now try to find a better canonical model to the given problem.\n",
    "We have other statistical measures as well, e.g., positive predictive value, sensitivity and specificity.\n",
    "\n",
    "\\begin{equation*}\n",
    "positive\\,\\  predictive\\,\\ value =\n",
    "\\frac{true\\,\\ positive }{true\\,\\ positive, false\\,\\ positive}\n",
    "\\end{equation*}\n",
    "\n",
    "\\begin{equation*}\n",
    "sensitivity =\n",
    "\\frac{true\\,\\ positive }{true\\,\\ positive, false\\,\\ positive}\n",
    "\\quad\\ Percentage\\,\\ correctly\\,\\ found\n",
    "\\end{equation*} \n",
    "\n",
    "\\begin{equation*}\n",
    "specificity =\n",
    "\\frac{true\\,\\ negative }{true\\,\\ negative, false\\,\\ negative}\n",
    "\\quad\\ Percentage\\,\\ correctly\\,\\ rejected\n",
    "\\end{equation*} \n"
   ]
  },
  {
   "cell_type": "markdown",
   "metadata": {},
   "source": [
    "## Exercise 1\n",
    "Would a curve like this povide a better model? Find a canonical linear model with higher accuracy with testing dataset."
   ]
  },
  {
   "cell_type": "code",
   "execution_count": 20,
   "metadata": {},
   "outputs": [
    {
     "data": {
      "text/plain": [
       "<matplotlib.legend.Legend at 0x2197b6e3ec8>"
      ]
     },
     "execution_count": 20,
     "metadata": {},
     "output_type": "execute_result"
    },
    {
     "data": {
      "image/png": "[encoded data removed]",
      "text/plain": [
       "<Figure size 432x288 with 1 Axes>"
      ]
     },
     "metadata": {
      "needs_background": "light"
     },
     "output_type": "display_data"
    }
   ],
   "source": [
    "fig, ax = plt.subplots()\n",
    "defenders = training[training['Position'] == 'DF']\n",
    "midfielders = training[training['Position'] == 'MF']\n",
    "ax.scatter(defenders['Height'],defenders['Weight'], label='defenders',c='blue')\n",
    "ax.scatter(midfielders['Height'],midfielders['Weight'], label='midfielders', c='red')\n",
    "p1= [190,77.5]\n",
    "p2= [180,82.5]\n",
    "p3= [190, 74]\n",
    "p4= [182.3, 74]\n",
    "ax.plot([p1[0], p2[0]], [p1[1], p2[1]], c='black')\n",
    "ax.plot([p4[0], p2[0]], [p4[1], p2[1]], c='black')\n",
    "ax.plot([p1[0], p3[0]], [p1[1], p3[1]], c='black')\n",
    "ax.legend()"
   ]
  },
  {
   "cell_type": "markdown",
   "metadata": {},
   "source": [
    "## 4. Supervised versus Unsupervised Learning\n",
    "\n",
    " - **Supervised Learning:** uses labeled data and creates classifiers that optimally separate data into known classes. When given labeled data, the supervised learning aims to lear a mathematical surface that \"best\" separates labeled examples, subject to constraints on complexity of surface (watch out to not over fit).\n",
    " \n",
    "     The classification method used in the first example is, therefore, supervised.\n",
    "     \n",
    "     `Classification approaches:`\n",
    "     \n",
    "     `When trying to find boundaries in feature space that saparete different classes of labeled examples do:`\n",
    "         - Look for simple surface (e.g. best line or plane) that separates classes\n",
    "         - Look for more complex surfaces that separates classes\n",
    "         - Find k nearest training examples\n",
    "         \n",
    "       \n",
    "     Methods:\n",
    "     - K-Nearest Neighbors\n",
    "     - Support Vector Machines\n",
    "     - Decision Tree Classifiers\n",
    "     - Random Forests\n",
    "     - Naive Bayes\n",
    "     - Linear Discriminant Analysis\n",
    "     - Logistic Regression\n",
    "    \n",
    "\n",
    " - **Unspervised Learning:** tries to infer latent variables by clustering training examples into nearby groups. When given unlabeled data, tries to find clusters of examples near each other, generally using centroids of clusters as definition of each learned class. New data should be assigned to closest cluster. \n",
    "     \n",
    "      `Clustering approaches:`\n",
    "     \n",
    "     `Supposing we know that there are k different groups in our training data and don't know any labels:`\n",
    "         - Pick k samples as exemplars.\n",
    "         - Cluster remaining samples by minimiying distance between samples in same cluster (objective function), i.e. put the samples in group with closest exemplar.\n",
    "         - Find median example in each cluster as new exemplar\n",
    "         - Repeat until no change\n",
    "     \n",
    "     Methods:\n",
    "     - Hierarchical clustering\n",
    "     - K-means clustering\n",
    "     - DBSCAN - Density-based spatial clustering of applications with noise\n",
    "      \n",
    "     \n",
    "All of these (and many others) pseudo algorithms could be used to code all the functions and methods from scratch. Luckly we will use a python library regarding this matter.\n",
    "\n",
    "**Scikit-learn:** is a free software machine learning library for the Python programming language. It features various classification, regression and clustering algorithms including `support vector machines, random forests, gradient boosting, k-means and DBSCAN`, and is designed to interoperate with the Python numerical and scientific libraries NumPy, SciPy and Pandas."
   ]
  },
  {
   "cell_type": "markdown",
   "metadata": {},
   "source": [
    "### Metrics for regression models\n",
    "\n",
    "**1. R-squared score:** Proportion of variation in the outcome that is explained by the predictor variables, i.e. (total variance explained by model)/(total variance). In multiple regression models, R2 corresponds to the squared correlation between the observed outcome values and the predicted values by the model. The Higher the R-squared, the better the model.\n",
    "    \n",
    "**2. Mean Standard Error (MSE):**  Measures the average of the squares of the errors, i.e. the average squared difference between the estimated values and the actual value.\n",
    "\n",
    "**3. Root Mean Squared Error (RMSE):** Measures the average error performed by the model in predicting the outcome for an observation. Mathematically, the RMSE is the square root of the mean squared error (MSE), which is the average squared difference between the observed actual outome values and the values predicted by the model. So, MSE = mean((observeds - predicteds)^2) and RMSE = sqrt(MSE). The lower the RMSE, the better the model.\n",
    "\n",
    "\n",
    "    \n",
    "    "
   ]
  },
  {
   "cell_type": "markdown",
   "metadata": {},
   "source": [
    "### Regression example"
   ]
  },
  {
   "cell_type": "code",
   "execution_count": 2,
   "metadata": {},
   "outputs": [
    {
     "name": "stdout",
     "output_type": "stream",
     "text": [
      "Coefficients: \n",
      " [[2.015]]\n",
      "R2 score : 0.62\n",
      "Mean squared error: 2.34\n",
      "actual= [9.]  observed= [8.05666667]\n",
      "actual= [8.5]  observed= [10.07166667]\n",
      "actual= [14.]  observed= [12.08666667]\n",
      "MSE [2.34028611]\n",
      "variance 1.2881398892129672\n",
      "average of errors  2.340286111111112\n",
      "average of observed values 10.5\n",
      "total sum of squares [18.5]\n",
      "ẗotal sum of residuals  [7.02085833]\n",
      "r2 calculated [0.62049414]\n"
     ]
    }
   ],
   "source": [
    "import matplotlib.pyplot as plt\n",
    "from sklearn import linear_model\n",
    "import numpy as np\n",
    "from sklearn.metrics import mean_squared_error, r2_score\n",
    "\n",
    "reg = linear_model.LinearRegression()\n",
    "ar = np.array([[[1],[2],[3]], [[2.01],[4.03],[6.04]]])\n",
    "y = ar[1,:]\n",
    "x = ar[0,:]\n",
    "reg.fit(x,y)\n",
    "print('Coefficients: \\n', reg.coef_)\n",
    "xTest = np.array([[4],[5],[6]])\n",
    "ytest =  np.array([[9],[8.5],[14]])\n",
    "\n",
    "preds = reg.predict(xTest)\n",
    "print(\"R2 score : %.2f\" % r2_score(ytest,preds))\n",
    "print(\"Mean squared error: %.2f\" % mean_squared_error(ytest,preds))\n",
    "\n",
    "er = []\n",
    "g = 0\n",
    "for i in range(len(ytest)):\n",
    "    print( \"actual=\", ytest[i], \" observed=\", preds[i])\n",
    "    x = (ytest[i] - preds[i]) **2\n",
    "    er.append(x)\n",
    "    g = g + x\n",
    "    \n",
    "x = 0\n",
    "for i in range(len(er)):\n",
    "   x = x + er[i]\n",
    "\n",
    "print (\"MSE\", x / len(er))\n",
    "\n",
    "v = np.var(er)\n",
    "print (\"variance\", v)\n",
    "\n",
    "print (\"average of errors \", np.mean(er))\n",
    "\n",
    "m = np.mean(ytest)\n",
    "print (\"average of observed values\", m)\n",
    "\n",
    "y = 0\n",
    "for i in range(len(ytest)):\n",
    "    y = y + ((ytest[i] - m) ** 2)\n",
    "\n",
    "print (\"total sum of squares\", y)\n",
    "print (\"ẗotal sum of residuals \", g)\n",
    "print (\"r2 calculated\", 1 - (g / y))"
   ]
  },
  {
   "cell_type": "markdown",
   "metadata": {},
   "source": [
    "### Classification example: recognizing hand-written digits"
   ]
  },
  {
   "cell_type": "code",
   "execution_count": 3,
   "metadata": {},
   "outputs": [
    {
     "name": "stdout",
     "output_type": "stream",
     "text": [
      "Automatically created module for IPython interactive environment\n"
     ]
    },
    {
     "data": {
      "image/png": "[encoded data removed]",
      "text/plain": [
       "<Figure size 432x288 with 8 Axes>"
      ]
     },
     "metadata": {
      "needs_background": "light"
     },
     "output_type": "display_data"
    },
    {
     "name": "stdout",
     "output_type": "stream",
     "text": [
      "Classification report for classifier SVC(C=1.0, break_ties=False, cache_size=200, class_weight=None, coef0=0.0,\n",
      "    decision_function_shape='ovr', degree=3, gamma=0.001, kernel='rbf',\n",
      "    max_iter=-1, probability=False, random_state=None, shrinking=True,\n",
      "    tol=0.001, verbose=False):\n",
      "              precision    recall  f1-score   support\n",
      "\n",
      "           0       1.00      0.99      0.99        88\n",
      "           1       0.99      0.97      0.98        91\n",
      "           2       0.99      0.99      0.99        86\n",
      "           3       0.98      0.87      0.92        91\n",
      "           4       0.99      0.96      0.97        92\n",
      "           5       0.95      0.97      0.96        91\n",
      "           6       0.99      0.99      0.99        91\n",
      "           7       0.96      0.99      0.97        89\n",
      "           8       0.94      1.00      0.97        88\n",
      "           9       0.93      0.98      0.95        92\n",
      "\n",
      "    accuracy                           0.97       899\n",
      "   macro avg       0.97      0.97      0.97       899\n",
      "weighted avg       0.97      0.97      0.97       899\n",
      "\n",
      "\n",
      "Confusion matrix:\n",
      "[[87  0  0  0  1  0  0  0  0  0]\n",
      " [ 0 88  1  0  0  0  0  0  1  1]\n",
      " [ 0  0 85  1  0  0  0  0  0  0]\n",
      " [ 0  0  0 79  0  3  0  4  5  0]\n",
      " [ 0  0  0  0 88  0  0  0  0  4]\n",
      " [ 0  0  0  0  0 88  1  0  0  2]\n",
      " [ 0  1  0  0  0  0 90  0  0  0]\n",
      " [ 0  0  0  0  0  1  0 88  0  0]\n",
      " [ 0  0  0  0  0  0  0  0 88  0]\n",
      " [ 0  0  0  1  0  1  0  0  0 90]]\n"
     ]
    },
    {
     "data": {
      "image/png": "[encoded data removed]",
      "text/plain": [
       "<Figure size 432x288 with 2 Axes>"
      ]
     },
     "metadata": {
      "needs_background": "light"
     },
     "output_type": "display_data"
    }
   ],
   "source": [
    "print(__doc__)\n",
    "\n",
    "# Author: Gael Varoquaux <gael dot varoquaux at normalesup dot org>\n",
    "# License: BSD 3 clause\n",
    "\n",
    "# Standard scientific Python imports\n",
    "import matplotlib.pyplot as plt\n",
    "\n",
    "# Import datasets, classifiers and performance metrics\n",
    "from sklearn import datasets, svm, metrics\n",
    "from sklearn.model_selection import train_test_split\n",
    "\n",
    "# The digits dataset\n",
    "digits = datasets.load_digits()\n",
    "\n",
    "# The data that we are interested in is made of 8x8 images of digits, let's\n",
    "# have a look at the first 4 images, stored in the `images` attribute of the\n",
    "# dataset.  If we were working from image files, we could load them using\n",
    "# matplotlib.pyplot.imread.  Note that each image must have the same size. For these\n",
    "# images, we know which digit they represent: it is given in the 'target' of\n",
    "# the dataset.\n",
    "_, axes = plt.subplots(2, 4)\n",
    "images_and_labels = list(zip(digits.images, digits.target))\n",
    "for ax, (image, label) in zip(axes[0, :], images_and_labels[:4]):\n",
    "    ax.set_axis_off()\n",
    "    ax.imshow(image, cmap=plt.cm.gray_r, interpolation='nearest')\n",
    "    ax.set_title('Training: %i' % label)\n",
    "\n",
    "# To apply a classifier on this data, we need to flatten the image, to\n",
    "# turn the data in a (samples, feature) matrix:\n",
    "n_samples = len(digits.images)\n",
    "data = digits.images.reshape((n_samples, -1))\n",
    "\n",
    "# Create a classifier: a support vector classifier\n",
    "classifier = svm.SVC(gamma=0.001)\n",
    "\n",
    "# Split data into train and test subsets\n",
    "X_train, X_test, y_train, y_test = train_test_split(\n",
    "    data, digits.target, test_size=0.5, shuffle=False)\n",
    "\n",
    "# We learn the digits on the first half of the digits\n",
    "classifier.fit(X_train, y_train)\n",
    "\n",
    "# Now predict the value of the digit on the second half:\n",
    "predicted = classifier.predict(X_test)\n",
    "\n",
    "images_and_predictions = list(zip(digits.images[n_samples // 2:], predicted))\n",
    "for ax, (image, prediction) in zip(axes[1, :], images_and_predictions[:4]):\n",
    "    ax.set_axis_off()\n",
    "    ax.imshow(image, cmap=plt.cm.gray_r, interpolation='nearest')\n",
    "    ax.set_title('Prediction: %i' % prediction)\n",
    "\n",
    "plt.show()\n",
    "\n",
    "print(\"Classification report for classifier %s:\\n%s\\n\"\n",
    "      % (classifier, metrics.classification_report(y_test, predicted)))\n",
    "disp = metrics.plot_confusion_matrix(classifier, X_test, y_test)\n",
    "disp.figure_.suptitle(\"Confusion Matrix\")\n",
    "print(\"Confusion matrix:\\n%s\" % disp.confusion_matrix)"
   ]
  },
  {
   "cell_type": "markdown",
   "metadata": {},
   "source": [
    "### Clustering Example: Kmeans Algorithm"
   ]
  },
  {
   "cell_type": "code",
   "execution_count": 15,
   "metadata": {},
   "outputs": [
    {
     "data": {
      "image/png": "[encoded data removed]",
      "text/plain": [
       "<Figure size 432x216 with 2 Axes>"
      ]
     },
     "metadata": {
      "needs_background": "light"
     },
     "output_type": "display_data"
    }
   ],
   "source": [
    "import numpy as np\n",
    "import matplotlib.pyplot as plt\n",
    "\n",
    "from sklearn.metrics import silhouette_score\n",
    "from sklearn import cluster, datasets, mixture\n",
    "from sklearn.neighbors import kneighbors_graph\n",
    "\n",
    "np.random.seed(844)\n",
    "clust1 = np.random.normal(5, 2, (1000,2))\n",
    "clust2 = np.random.normal(15, 3, (1000,2))\n",
    "clust3 = np.random.multivariate_normal([17,3], [[1,0],[0,1]], 1000)\n",
    "clust4 = np.random.multivariate_normal([2,16], [[1,0],[0,1]], 1000)\n",
    "dataset1 = np.concatenate((clust1, clust2, clust3, clust4))\n",
    "\n",
    "# we take the first array as the second array has the cluster labels\n",
    "dataset2 = datasets.make_circles(n_samples=1000, factor=.5, noise=.05)[0]\n",
    "\n",
    "# plot clustering output on the two datasets\n",
    "def cluster_plots(set1, set2, colours1 = 'gray', colours2 = 'gray', \n",
    "                  title1 = 'Dataset 1',  title2 = 'Dataset 2'):\n",
    "    fig,(ax1,ax2) = plt.subplots(1, 2)\n",
    "    fig.set_size_inches(6, 3)\n",
    "    ax1.set_title(title1,fontsize=14)\n",
    "    ax1.set_xlim(min(set1[:,0]), max(set1[:,0]))\n",
    "    ax1.set_ylim(min(set1[:,1]), max(set1[:,1]))\n",
    "    ax1.scatter(set1[:, 0], set1[:, 1],s=8,lw=0,c= colours1)\n",
    "    ax2.set_title(title2,fontsize=14)\n",
    "    ax2.set_xlim(min(set2[:,0]), max(set2[:,0]))\n",
    "    ax2.set_ylim(min(set2[:,1]), max(set2[:,1]))\n",
    "    ax2.scatter(set2[:, 0], set2[:, 1],s=8,lw=0,c=colours2)\n",
    "    fig.tight_layout()\n",
    "    plt.show()\n",
    "\n",
    "cluster_plots(dataset1, dataset2)"
   ]
  },
  {
   "cell_type": "markdown",
   "metadata": {},
   "source": [
    "'<img src=\"Data/Kmeans.gif\"/>"
   ]
  },
  {
   "cell_type": "code",
   "execution_count": 14,
   "metadata": {},
   "outputs": [
    {
     "name": "stdout",
     "output_type": "stream",
     "text": [
      "Dataset1\n",
      "Cluster 0: 952\n",
      "Cluster 1: 1022\n",
      "Cluster 2: 1018\n",
      "Cluster 3: 1008\n"
     ]
    },
    {
     "data": {
      "image/png": "[encoded data removed]",
      "text/plain": [
       "<Figure size 432x216 with 2 Axes>"
      ]
     },
     "metadata": {
      "needs_background": "light"
     },
     "output_type": "display_data"
    }
   ],
   "source": [
    "# implementing k-means clustering\n",
    "kmeans_dataset1 = cluster.KMeans(n_clusters=4, max_iter=300, \n",
    "                                 init='k-means++',n_init=10).fit_predict(dataset1)\n",
    "kmeans_dataset2 = cluster.KMeans(n_clusters=2, max_iter=300, \n",
    "                                 init='k-means++',n_init=10).fit_predict(dataset2)\n",
    "print('Dataset1')\n",
    "print(*[\"Cluster \"+str(i)+\": \"+ str(sum(kmeans_dataset1==i)) for i in range(4)], sep='\\n')\n",
    "cluster_plots(dataset1, dataset2, \n",
    "              kmeans_dataset1, kmeans_dataset2)"
   ]
  },
  {
   "cell_type": "markdown",
   "metadata": {},
   "source": [
    "K-means performs quite well on `Dataset1`, but fails miserably on `Dataset2`. In fact, these two datasets illustrate the strenghts and weaknesses of k-means. The algorithm seeks and identifies globular (essentially spherical) clusters. If this assumption doesn’t hold, the model output may be inadaquate (or just really bad)."
   ]
  },
  {
   "cell_type": "markdown",
   "metadata": {},
   "source": [
    "## Exercise 2\n",
    "\n",
    "This program can predict the series number of the product in the file `Data/mechanical_setup.csv` using k-Nearest Neighbors Algorithm. Was all the data science pipeline steps performed? Perform the steps that weren't made."
   ]
  },
  {
   "cell_type": "code",
   "execution_count": 1,
   "metadata": {},
   "outputs": [
    {
     "name": "stdout",
     "output_type": "stream",
     "text": [
      "[[647   7  59]\n",
      " [  8 578  40]\n",
      " [ 45  27 589]]\n",
      "              precision    recall  f1-score   support\n",
      "\n",
      "  WK00001576       0.92      0.91      0.92       713\n",
      "  XK00001402       0.94      0.92      0.93       626\n",
      "  YZ00001723       0.86      0.89      0.87       661\n",
      "\n",
      "    accuracy                           0.91      2000\n",
      "   macro avg       0.91      0.91      0.91      2000\n",
      "weighted avg       0.91      0.91      0.91      2000\n",
      "\n"
     ]
    }
   ],
   "source": [
    "import pandas as pd\n",
    "import matplotlib.pyplot as plt\n",
    "import numpy as np\n",
    "from sklearn import metrics\n",
    "from sklearn.neighbors import KNeighborsClassifier\n",
    "from sklearn.preprocessing import StandardScaler\n",
    "from sklearn.model_selection import train_test_split\n",
    "\n",
    "#Importing the dataset\n",
    "\n",
    "df= pd.read_csv('Data/mechanical_setup.csv')\n",
    "df = df.set_index('Product_No').sort_values('Product_No')\n",
    "df = df.filter(items=['Product_No', 'Series_No', 'Turning_Cut_Depth', 'Milling_Gear_Depth', 'Drilling_Surf_Quality', 'Drill_Pressure'])\n",
    "\n",
    "#Preprocessing\n",
    "\n",
    "x = df.iloc[:,1:5].values # x contains the last 4 columns of the dataset\n",
    "y = df.iloc[:,0].values # y contains the labels\n",
    "\n",
    "#Train Test Split\n",
    "\n",
    "#The above script splits the dataset into 80% train data and 20% test data. \n",
    "#This means that out of total 10000 records, the training set will contain 8000 records \n",
    "#and the test set contains 2000 of those records.\n",
    "\n",
    "x_train, x_test, y_train, y_test = train_test_split(x,y, test_size = 0.20) \n",
    "\n",
    "#Feature Scaling\n",
    "\n",
    "scaler = StandardScaler()\n",
    "scaler.fit(x_train)\n",
    "\n",
    "x_train = scaler.transform(x_train)\n",
    "x_test = scaler.transform(x_test)\n",
    "\n",
    "#Training and Predictions\n",
    "\n",
    "classifier = KNeighborsClassifier(n_neighbors=5)\n",
    "classifier.fit(x_train, y_train)\n",
    "\n",
    "y_pred = classifier.predict(x_test)\n",
    "\n",
    "#Evaluating the Algorithm through the confusion matrix\n",
    "\n",
    "print(metrics.confusion_matrix(y_test, y_pred))\n",
    "print(metrics.classification_report(y_test, y_pred))"
   ]
  },
  {
   "cell_type": "markdown",
   "metadata": {},
   "source": [
    "### Kmeans Algorithm for clustering\n",
    "\n"
   ]
  },
  {
   "cell_type": "markdown",
   "metadata": {},
   "source": [
    "## Exercise 3\n",
    "\n",
    "Out of the file `Data/mechanical_setup.csv`, build a program that can predict the series number of the product, using Support Vector Machines Algorithm. Watch out for scaling the data!"
   ]
  },
  {
   "cell_type": "code",
   "execution_count": null,
   "metadata": {},
   "outputs": [],
   "source": []
  },
  {
   "cell_type": "markdown",
   "metadata": {},
   "source": [
    "## Exercise 4\n",
    "\n",
    "Out of the file `Data/mechanical_setup.csv`, build a program that can predict the series number of the product, using Logistic Regression."
   ]
  },
  {
   "cell_type": "code",
   "execution_count": null,
   "metadata": {},
   "outputs": [],
   "source": []
  },
  {
   "cell_type": "markdown",
   "metadata": {},
   "source": [
    "## Exercise 5\n",
    "\n",
    "Out of the file `Data/mechanical_setup.csv`, build a program that can predict the series number of the product, using Naive Bayes."
   ]
  },
  {
   "cell_type": "code",
   "execution_count": null,
   "metadata": {},
   "outputs": [],
   "source": []
  },
  {
   "cell_type": "markdown",
   "metadata": {},
   "source": [
    "## REFERENCES:\n",
    "- https://ocw.mit.edu/courses/electrical-engineering-and-computer-science/6-0002-introduction-to-computational-thinking-and-data-science-fall-2016/lecture-slides-and-files/MIT6_0002F16_lec11.pdf\n",
    "- https://ocw.mit.edu/courses/electrical-engineering-and-computer-science/6-0002-introduction-to-computational-thinking-and-data-science-fall-2016/lecture-slides-and-files/MIT6_0002F16_lec12.pdf\n",
    "- https://img.fifa.com/image/upload/hzfqyndmnqazczvc5xdb.pdf\n",
    "- https://scikit-learn.org/stable/auto_examples/classification/plot_digits_classification.html#sphx-glr-auto-examples-classification-plot-digits-classification-py\n",
    "- https://stackabuse.com/k-nearest-neighbors-algorithm-in-python-and-scikit-learn/\n",
    "- https://www.youtube.com/watch?v=cugl5t-W1sE\n",
    "- https://www.bmc.com/blogs/mean-squared-error-r2-and-variance-in-regression-analysis/\n",
    "- https://dashee87.github.io/data%20science/general/Clustering-with-Scikit-with-GIFs/"
   ]
  },
  {
   "cell_type": "code",
   "execution_count": null,
   "metadata": {},
   "outputs": [],
   "source": []
  },
  {
   "cell_type": "code",
   "execution_count": null,
   "metadata": {},
   "outputs": [],
   "source": []
  },
  {
   "cell_type": "code",
   "execution_count": null,
   "metadata": {},
   "outputs": [],
   "source": []
  }
 ],
 "metadata": {
  "kernelspec": {
   "display_name": "Python 3",
   "language": "python",
   "name": "python3"
  },
  "language_info": {
   "codemirror_mode": {
    "name": "ipython",
    "version": 3
   },
   "file_extension": ".py",
   "mimetype": "text/x-python",
   "name": "python",
   "nbconvert_exporter": "python",
   "pygments_lexer": "ipython3",
   "version": "3.7.6"
  }
 },
 "nbformat": 4,
 "nbformat_minor": 2
}
