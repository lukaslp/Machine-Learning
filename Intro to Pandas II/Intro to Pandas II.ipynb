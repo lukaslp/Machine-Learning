{
 "cells": [
  {
   "cell_type": "markdown",
   "metadata": {
    "toc": "true"
   },
   "source": [
    "<h1>Table of Contents<span class=\"tocSkip\"></span></h1>\n",
    "<div class=\"toc\"><ul class=\"toc-item\"><li><span><a href=\"#Table-of-Contents\" data-toc-modified-id=\"Table-of-Contents-1\">Table of Contents</a></span></li><li><span><a href=\"#Data-Wrangling-with-Pandas\" data-toc-modified-id=\"Data-Wrangling-with-Pandas-2\">Data Wrangling with Pandas</a></span><ul class=\"toc-item\"><li><span><a href=\"#Date/Time-data-handling\" data-toc-modified-id=\"Date/Time-data-handling-2.1\">Date/Time data handling</a></span></li><li><span><a href=\"#Merging-and-joining-DataFrame-objects\" data-toc-modified-id=\"Merging-and-joining-DataFrame-objects-2.2\">Merging and joining DataFrame objects</a></span><ul class=\"toc-item\"><li><span><a href=\"#Exercise-6\" data-toc-modified-id=\"Exercise-6-2.2.1\">Exercise 6</a></span></li></ul></li><li><span><a href=\"#Concatenation\" data-toc-modified-id=\"Concatenation-2.3\">Concatenation</a></span></li><li><span><a href=\"#Reshaping-DataFrame-objects\" data-toc-modified-id=\"Reshaping-DataFrame-objects-2.4\">Reshaping DataFrame objects</a></span></li><li><span><a href=\"#Pivoting\" data-toc-modified-id=\"Pivoting-2.5\">Pivoting</a></span></li><li><span><a href=\"#Data-transformation\" data-toc-modified-id=\"Data-transformation-2.6\">Data transformation</a></span><ul class=\"toc-item\"><li><span><a href=\"#Dealing-with-duplicates\" data-toc-modified-id=\"Dealing-with-duplicates-2.6.1\">Dealing with duplicates</a></span></li><li><span><a href=\"#Value-replacement\" data-toc-modified-id=\"Value-replacement-2.6.2\">Value replacement</a></span></li><li><span><a href=\"#Inidcator-variables\" data-toc-modified-id=\"Inidcator-variables-2.6.3\">Inidcator variables</a></span></li></ul></li><li><span><a href=\"#Categorical-Data\" data-toc-modified-id=\"Categorical-Data-2.7\">Categorical Data</a></span><ul class=\"toc-item\"><li><span><a href=\"#Discretization\" data-toc-modified-id=\"Discretization-2.7.1\">Discretization</a></span></li><li><span><a href=\"#Permutation-and-sampling\" data-toc-modified-id=\"Permutation-and-sampling-2.7.2\">Permutation and sampling</a></span></li></ul></li><li><span><a href=\"#Data-aggregation-and-GroupBy-operations\" data-toc-modified-id=\"Data-aggregation-and-GroupBy-operations-2.8\">Data aggregation and GroupBy operations</a></span><ul class=\"toc-item\"><li><span><a href=\"#Apply\" data-toc-modified-id=\"Apply-2.8.1\">Apply</a></span></li><li><span><a href=\"#Exercise-7\" data-toc-modified-id=\"Exercise-7-2.8.2\">Exercise 7</a></span></li></ul></li><li><span><a href=\"#References\" data-toc-modified-id=\"References-2.9\">References</a></span></li></ul></li></ul></div>"
   ]
  },
  {
   "cell_type": "markdown",
   "metadata": {},
   "source": [
    "# Data Wrangling with Pandas\n",
    "\n",
    "Now that we have been exposed to the basic functionality of Pandas, let's explore some more advanced features that will be useful when addressing more complex data management tasks.\n",
    "\n",
    "As most statisticians/data analysts will admit, often the lion's share of the time spent implementing an analysis is devoted to preparing the data itself, rather than to coding or running a particular model that uses the data. This is where Pandas and  Python's standard library are beneficial, providing high-level, flexible, and efficient tools for manipulating your data as needed.\n"
   ]
  },
  {
   "cell_type": "code",
   "execution_count": 1,
   "metadata": {},
   "outputs": [
    {
     "ename": "ModuleNotFoundError",
     "evalue": "No module named 'seaborn'",
     "output_type": "error",
     "traceback": [
      "\u001b[1;31m---------------------------------------------------------------------------\u001b[0m",
      "\u001b[1;31mModuleNotFoundError\u001b[0m                       Traceback (most recent call last)",
      "\u001b[1;32m<ipython-input-1-d4d011799f25>\u001b[0m in \u001b[0;36m<module>\u001b[1;34m\u001b[0m\n\u001b[0;32m      3\u001b[0m \u001b[1;32mimport\u001b[0m \u001b[0mnumpy\u001b[0m \u001b[1;32mas\u001b[0m \u001b[0mnp\u001b[0m\u001b[1;33m\u001b[0m\u001b[1;33m\u001b[0m\u001b[0m\n\u001b[0;32m      4\u001b[0m \u001b[1;32mimport\u001b[0m \u001b[0mmatplotlib\u001b[0m\u001b[1;33m.\u001b[0m\u001b[0mpyplot\u001b[0m \u001b[1;32mas\u001b[0m \u001b[0mplt\u001b[0m\u001b[1;33m\u001b[0m\u001b[1;33m\u001b[0m\u001b[0m\n\u001b[1;32m----> 5\u001b[1;33m \u001b[1;32mimport\u001b[0m \u001b[0mseaborn\u001b[0m \u001b[1;32mas\u001b[0m \u001b[0msns\u001b[0m\u001b[1;33m\u001b[0m\u001b[1;33m\u001b[0m\u001b[0m\n\u001b[0m\u001b[0;32m      6\u001b[0m \u001b[0msns\u001b[0m\u001b[1;33m.\u001b[0m\u001b[0mset_context\u001b[0m\u001b[1;33m(\u001b[0m\u001b[1;34m'notebook'\u001b[0m\u001b[1;33m)\u001b[0m\u001b[1;33m\u001b[0m\u001b[1;33m\u001b[0m\u001b[0m\n",
      "\u001b[1;31mModuleNotFoundError\u001b[0m: No module named 'seaborn'"
     ]
    }
   ],
   "source": [
    "%matplotlib inline\n",
    "import pandas as pd\n",
    "import numpy as np\n",
    "import matplotlib.pyplot as plt\n",
    "import seaborn as sns\n",
    "sns.set_context('notebook')"
   ]
  },
  {
   "cell_type": "markdown",
   "metadata": {},
   "source": [
    "## Date/Time data handling\n",
    "\n",
    "Date and time data are inherently problematic. There are an unequal number of days in every month, an unequal number of days in a year (due to leap years), and time zones that vary over space. Yet information about time is essential in many analyses, particularly in the case of time series analysis."
   ]
  },
  {
   "cell_type": "markdown",
   "metadata": {},
   "source": [
    "The `datetime` built-in library handles temporal information down to the nanosecond."
   ]
  },
  {
   "cell_type": "code",
   "execution_count": 6,
   "metadata": {},
   "outputs": [],
   "source": [
    "from datetime import datetime, date, time"
   ]
  },
  {
   "cell_type": "code",
   "execution_count": 7,
   "metadata": {},
   "outputs": [
    {
     "data": {
      "text/plain": [
       "datetime.datetime(2020, 4, 8, 13, 14, 29, 709073)"
      ]
     },
     "execution_count": 7,
     "metadata": {},
     "output_type": "execute_result"
    }
   ],
   "source": [
    "now = datetime.now()\n",
    "now"
   ]
  },
  {
   "cell_type": "code",
   "execution_count": 8,
   "metadata": {},
   "outputs": [
    {
     "data": {
      "text/plain": [
       "datetime.date(1970, 9, 3)"
      ]
     },
     "execution_count": 8,
     "metadata": {},
     "output_type": "execute_result"
    }
   ],
   "source": [
    "date(1970, 9, 3)"
   ]
  },
  {
   "cell_type": "markdown",
   "metadata": {},
   "source": [
    "Having a custom data type for dates and times is convenient because we can perform operations on them easily. For example, we may want to calculate the difference between two times:"
   ]
  },
  {
   "cell_type": "code",
   "execution_count": 9,
   "metadata": {},
   "outputs": [
    {
     "data": {
      "text/plain": [
       "23.43013698630137"
      ]
     },
     "execution_count": 9,
     "metadata": {},
     "output_type": "execute_result"
    }
   ],
   "source": [
    "my_age = now - datetime(1996, 11, 8)\n",
    "my_age.days/365"
   ]
  },
  {
   "cell_type": "markdown",
   "metadata": {},
   "source": [
    "<span style=\"color:red; font-size: 40px\"> CHANGE OR NO ALL OF THIS?</span>\n",
    "\n",
    "In this section, we will manipulate data collected from ocean-going vessels on the eastern seaboard. Vessel operations are monitored using the Automatic Identification System (AIS), a safety at sea navigation technology which vessels are required to maintain and that uses transponders to transmit very high frequency (VHF) radio signals containing static information including ship name, call sign, and country of origin, as well as dynamic information unique to a particular voyage such as vessel location, heading, and speed. \n",
    "\n",
    "The International Maritime Organization’s (IMO) International Convention for the Safety of Life at Sea requires functioning AIS capabilities on all vessels 300 gross tons or greater and the US Coast Guard requires AIS on nearly all vessels sailing in U.S. waters. The Coast Guard has established a national network of AIS receivers that provides coverage of nearly all U.S. waters. AIS signals are transmitted several times each minute and the network is capable of handling thousands of reports per minute and updates as often as every two seconds. Therefore, a typical voyage in our study might include the transmission of hundreds or thousands of AIS encoded signals. This provides a rich source of spatial data that includes both spatial and temporal information.\n",
    "\n",
    "For our purposes, we will use summarized data that describes the transit of a given vessel through a particular administrative area. The data includes the start and end time of the transit segment, as well as information about the speed of the vessel, how far it travelled, etc."
   ]
  },
  {
   "cell_type": "code",
   "execution_count": 10,
   "metadata": {},
   "outputs": [
    {
     "data": {
      "text/html": [
       "<div>\n",
       "<style scoped>\n",
       "    .dataframe tbody tr th:only-of-type {\n",
       "        vertical-align: middle;\n",
       "    }\n",
       "\n",
       "    .dataframe tbody tr th {\n",
       "        vertical-align: top;\n",
       "    }\n",
       "\n",
       "    .dataframe thead th {\n",
       "        text-align: right;\n",
       "    }\n",
       "</style>\n",
       "<table border=\"1\" class=\"dataframe\">\n",
       "  <thead>\n",
       "    <tr style=\"text-align: right;\">\n",
       "      <th></th>\n",
       "      <th>mmsi</th>\n",
       "      <th>transit</th>\n",
       "      <th>segment</th>\n",
       "      <th>seg_length</th>\n",
       "      <th>avg_sog</th>\n",
       "      <th>min_sog</th>\n",
       "      <th>max_sog</th>\n",
       "      <th>pdgt10</th>\n",
       "      <th>st_time</th>\n",
       "      <th>end_time</th>\n",
       "    </tr>\n",
       "  </thead>\n",
       "  <tbody>\n",
       "    <tr>\n",
       "      <th>0</th>\n",
       "      <td>1</td>\n",
       "      <td>1</td>\n",
       "      <td>1</td>\n",
       "      <td>5.1</td>\n",
       "      <td>13.2</td>\n",
       "      <td>9.2</td>\n",
       "      <td>14.5</td>\n",
       "      <td>96.5</td>\n",
       "      <td>2/10/09 16:03</td>\n",
       "      <td>2/10/09 16:27</td>\n",
       "    </tr>\n",
       "    <tr>\n",
       "      <th>1</th>\n",
       "      <td>1</td>\n",
       "      <td>1</td>\n",
       "      <td>1</td>\n",
       "      <td>13.5</td>\n",
       "      <td>18.6</td>\n",
       "      <td>10.4</td>\n",
       "      <td>20.6</td>\n",
       "      <td>100.0</td>\n",
       "      <td>4/6/09 14:31</td>\n",
       "      <td>4/6/09 15:20</td>\n",
       "    </tr>\n",
       "    <tr>\n",
       "      <th>2</th>\n",
       "      <td>1</td>\n",
       "      <td>1</td>\n",
       "      <td>1</td>\n",
       "      <td>4.3</td>\n",
       "      <td>16.2</td>\n",
       "      <td>10.3</td>\n",
       "      <td>20.5</td>\n",
       "      <td>100.0</td>\n",
       "      <td>4/6/09 14:36</td>\n",
       "      <td>4/6/09 14:55</td>\n",
       "    </tr>\n",
       "    <tr>\n",
       "      <th>3</th>\n",
       "      <td>1</td>\n",
       "      <td>2</td>\n",
       "      <td>1</td>\n",
       "      <td>9.2</td>\n",
       "      <td>15.4</td>\n",
       "      <td>14.5</td>\n",
       "      <td>16.1</td>\n",
       "      <td>100.0</td>\n",
       "      <td>4/10/09 17:58</td>\n",
       "      <td>4/10/09 18:34</td>\n",
       "    </tr>\n",
       "    <tr>\n",
       "      <th>4</th>\n",
       "      <td>1</td>\n",
       "      <td>2</td>\n",
       "      <td>1</td>\n",
       "      <td>9.2</td>\n",
       "      <td>15.4</td>\n",
       "      <td>14.6</td>\n",
       "      <td>16.2</td>\n",
       "      <td>100.0</td>\n",
       "      <td>4/10/09 17:59</td>\n",
       "      <td>4/10/09 18:35</td>\n",
       "    </tr>\n",
       "    <tr>\n",
       "      <th>5</th>\n",
       "      <td>1</td>\n",
       "      <td>1</td>\n",
       "      <td>1</td>\n",
       "      <td>17.4</td>\n",
       "      <td>34.3</td>\n",
       "      <td>33.9</td>\n",
       "      <td>35.0</td>\n",
       "      <td>100.0</td>\n",
       "      <td>3/20/10 16:06</td>\n",
       "      <td>3/20/10 16:36</td>\n",
       "    </tr>\n",
       "    <tr>\n",
       "      <th>6</th>\n",
       "      <td>1</td>\n",
       "      <td>1</td>\n",
       "      <td>2</td>\n",
       "      <td>76.0</td>\n",
       "      <td>34.4</td>\n",
       "      <td>33.8</td>\n",
       "      <td>34.9</td>\n",
       "      <td>100.0</td>\n",
       "      <td>3/20/10 18:05</td>\n",
       "      <td>3/20/10 18:48</td>\n",
       "    </tr>\n",
       "    <tr>\n",
       "      <th>7</th>\n",
       "      <td>1</td>\n",
       "      <td>1</td>\n",
       "      <td>1</td>\n",
       "      <td>13.7</td>\n",
       "      <td>6.9</td>\n",
       "      <td>3.0</td>\n",
       "      <td>14.0</td>\n",
       "      <td>38.2</td>\n",
       "      <td>5/4/11 11:28</td>\n",
       "      <td>5/4/11 13:30</td>\n",
       "    </tr>\n",
       "    <tr>\n",
       "      <th>8</th>\n",
       "      <td>9</td>\n",
       "      <td>4</td>\n",
       "      <td>1</td>\n",
       "      <td>11.6</td>\n",
       "      <td>8.8</td>\n",
       "      <td>7.9</td>\n",
       "      <td>10.3</td>\n",
       "      <td>0.0</td>\n",
       "      <td>6/5/10 11:23</td>\n",
       "      <td>6/5/10 12:44</td>\n",
       "    </tr>\n",
       "    <tr>\n",
       "      <th>9</th>\n",
       "      <td>9</td>\n",
       "      <td>8</td>\n",
       "      <td>1</td>\n",
       "      <td>11.6</td>\n",
       "      <td>8.3</td>\n",
       "      <td>7.4</td>\n",
       "      <td>9.2</td>\n",
       "      <td>0.0</td>\n",
       "      <td>6/8/10 11:03</td>\n",
       "      <td>6/8/10 12:29</td>\n",
       "    </tr>\n",
       "  </tbody>\n",
       "</table>\n",
       "</div>"
      ],
      "text/plain": [
       "   mmsi  transit  segment  seg_length  avg_sog  min_sog  max_sog  pdgt10  \\\n",
       "0     1        1        1         5.1     13.2      9.2     14.5    96.5   \n",
       "1     1        1        1        13.5     18.6     10.4     20.6   100.0   \n",
       "2     1        1        1         4.3     16.2     10.3     20.5   100.0   \n",
       "3     1        2        1         9.2     15.4     14.5     16.1   100.0   \n",
       "4     1        2        1         9.2     15.4     14.6     16.2   100.0   \n",
       "5     1        1        1        17.4     34.3     33.9     35.0   100.0   \n",
       "6     1        1        2        76.0     34.4     33.8     34.9   100.0   \n",
       "7     1        1        1        13.7      6.9      3.0     14.0    38.2   \n",
       "8     9        4        1        11.6      8.8      7.9     10.3     0.0   \n",
       "9     9        8        1        11.6      8.3      7.4      9.2     0.0   \n",
       "\n",
       "         st_time       end_time  \n",
       "0  2/10/09 16:03  2/10/09 16:27  \n",
       "1   4/6/09 14:31   4/6/09 15:20  \n",
       "2   4/6/09 14:36   4/6/09 14:55  \n",
       "3  4/10/09 17:58  4/10/09 18:34  \n",
       "4  4/10/09 17:59  4/10/09 18:35  \n",
       "5  3/20/10 16:06  3/20/10 16:36  \n",
       "6  3/20/10 18:05  3/20/10 18:48  \n",
       "7   5/4/11 11:28   5/4/11 13:30  \n",
       "8   6/5/10 11:23   6/5/10 12:44  \n",
       "9   6/8/10 11:03   6/8/10 12:29  "
      ]
     },
     "execution_count": 10,
     "metadata": {},
     "output_type": "execute_result"
    }
   ],
   "source": [
    "dd = pd.read_csv(\"Data/dataset_deltatime.csv\")\n",
    "dd.head(10)"
   ]
  },
  {
   "cell_type": "markdown",
   "metadata": {},
   "source": [
    "For example, we might be interested in the distribution of transit lengths, so we can plot them as a histogram:"
   ]
  },
  {
   "cell_type": "code",
   "execution_count": 11,
   "metadata": {},
   "outputs": [
    {
     "data": {
      "text/plain": [
       "<matplotlib.axes._subplots.AxesSubplot at 0x23be91703c8>"
      ]
     },
     "execution_count": 11,
     "metadata": {},
     "output_type": "execute_result"
    },
    {
     "data": {
      "image/png": "[encoded data removed]",
      "text/plain": [
       "<Figure size 432x288 with 1 Axes>"
      ]
     },
     "metadata": {
      "needs_background": "light"
     },
     "output_type": "display_data"
    }
   ],
   "source": [
    "dd.seg_length.hist(bins=500)"
   ]
  },
  {
   "cell_type": "markdown",
   "metadata": {},
   "source": [
    "Though most of the transits appear to be short, there are a few longer distances that make the plot difficult to read. This is where a transformation is useful:"
   ]
  },
  {
   "cell_type": "markdown",
   "metadata": {},
   "source": [
    "We can see that although there are date/time fields in the dataset, they are not in any specialized format, such as `datetime`."
   ]
  },
  {
   "cell_type": "code",
   "execution_count": 12,
   "metadata": {
    "scrolled": true
   },
   "outputs": [
    {
     "data": {
      "text/plain": [
       "<matplotlib.axes._subplots.AxesSubplot at 0x23be9458208>"
      ]
     },
     "execution_count": 12,
     "metadata": {},
     "output_type": "execute_result"
    },
    {
     "data": {
      "image/png": "[encoded data removed]",
      "text/plain": [
       "<Figure size 432x288 with 1 Axes>"
      ]
     },
     "metadata": {
      "needs_background": "light"
     },
     "output_type": "display_data"
    }
   ],
   "source": [
    "dd.seg_length.apply(np.log).hist(bins=500)"
   ]
  },
  {
   "cell_type": "code",
   "execution_count": 13,
   "metadata": {},
   "outputs": [
    {
     "data": {
      "text/html": [
       "<div>\n",
       "<style scoped>\n",
       "    .dataframe tbody tr th:only-of-type {\n",
       "        vertical-align: middle;\n",
       "    }\n",
       "\n",
       "    .dataframe tbody tr th {\n",
       "        vertical-align: top;\n",
       "    }\n",
       "\n",
       "    .dataframe thead th {\n",
       "        text-align: right;\n",
       "    }\n",
       "</style>\n",
       "<table border=\"1\" class=\"dataframe\">\n",
       "  <thead>\n",
       "    <tr style=\"text-align: right;\">\n",
       "      <th></th>\n",
       "      <th>Timestamp</th>\n",
       "      <th>Series_No</th>\n",
       "      <th>Product_No</th>\n",
       "      <th>Turning_Cut_Depth</th>\n",
       "      <th>Milling_Gear_Depth</th>\n",
       "      <th>Drilling_Surf_Quality</th>\n",
       "      <th>Drill_Pressure</th>\n",
       "    </tr>\n",
       "  </thead>\n",
       "  <tbody>\n",
       "    <tr>\n",
       "      <th>0</th>\n",
       "      <td>Timestamp: 01/01/15 01:01:01</td>\n",
       "      <td>XK00001402</td>\n",
       "      <td>5859</td>\n",
       "      <td>0.615159</td>\n",
       "      <td>0.302045</td>\n",
       "      <td>0.652705</td>\n",
       "      <td>3.532358</td>\n",
       "    </tr>\n",
       "    <tr>\n",
       "      <th>1</th>\n",
       "      <td>Timestamp: 01/01/15 01:03:55</td>\n",
       "      <td>XK00001402</td>\n",
       "      <td>6212</td>\n",
       "      <td>0.645414</td>\n",
       "      <td>0.320177</td>\n",
       "      <td>0.207444</td>\n",
       "      <td>4.014133</td>\n",
       "    </tr>\n",
       "    <tr>\n",
       "      <th>2</th>\n",
       "      <td>Timestamp: 01/01/15 01:04:57</td>\n",
       "      <td>XK00001402</td>\n",
       "      <td>7079</td>\n",
       "      <td>0.637861</td>\n",
       "      <td>0.302711</td>\n",
       "      <td>0.909993</td>\n",
       "      <td>4.377263</td>\n",
       "    </tr>\n",
       "    <tr>\n",
       "      <th>3</th>\n",
       "      <td>Timestamp: 01/01/15 01:05:58</td>\n",
       "      <td>XK00001402</td>\n",
       "      <td>61</td>\n",
       "      <td>0.635685</td>\n",
       "      <td>0.301639</td>\n",
       "      <td>0.010166</td>\n",
       "      <td>4.190312</td>\n",
       "    </tr>\n",
       "    <tr>\n",
       "      <th>4</th>\n",
       "      <td>Timestamp: 01/01/15 01:06:15</td>\n",
       "      <td>XK00001402</td>\n",
       "      <td>229</td>\n",
       "      <td>0.599048</td>\n",
       "      <td>0.296018</td>\n",
       "      <td>0.007966</td>\n",
       "      <td>4.896710</td>\n",
       "    </tr>\n",
       "  </tbody>\n",
       "</table>\n",
       "</div>"
      ],
      "text/plain": [
       "                      Timestamp   Series_No  Product_No  Turning_Cut_Depth  \\\n",
       "0  Timestamp: 01/01/15 01:01:01  XK00001402        5859           0.615159   \n",
       "1  Timestamp: 01/01/15 01:03:55  XK00001402        6212           0.645414   \n",
       "2  Timestamp: 01/01/15 01:04:57  XK00001402        7079           0.637861   \n",
       "3  Timestamp: 01/01/15 01:05:58  XK00001402          61           0.635685   \n",
       "4  Timestamp: 01/01/15 01:06:15  XK00001402         229           0.599048   \n",
       "\n",
       "   Milling_Gear_Depth  Drilling_Surf_Quality  Drill_Pressure  \n",
       "0            0.302045               0.652705        3.532358  \n",
       "1            0.320177               0.207444        4.014133  \n",
       "2            0.302711               0.909993        4.377263  \n",
       "3            0.301639               0.010166        4.190312  \n",
       "4            0.296018               0.007966        4.896710  "
      ]
     },
     "execution_count": 13,
     "metadata": {},
     "output_type": "execute_result"
    }
   ],
   "source": [
    "ms = pd.read_csv(\"Data/mechanical_setup.csv\")\n",
    "ms.head()"
   ]
  },
  {
   "cell_type": "markdown",
   "metadata": {},
   "source": [
    "Our first order of business will be to convert these data to `datetime`. The `strptime` method parses a string representation of a date and/or time field, according to the expected format of this information."
   ]
  },
  {
   "cell_type": "code",
   "execution_count": 14,
   "metadata": {},
   "outputs": [],
   "source": [
    "ms[\"Timestamp\"] = ms.Timestamp.apply(lambda d: d[11:])"
   ]
  },
  {
   "cell_type": "code",
   "execution_count": 15,
   "metadata": {},
   "outputs": [
    {
     "data": {
      "text/html": [
       "<div>\n",
       "<style scoped>\n",
       "    .dataframe tbody tr th:only-of-type {\n",
       "        vertical-align: middle;\n",
       "    }\n",
       "\n",
       "    .dataframe tbody tr th {\n",
       "        vertical-align: top;\n",
       "    }\n",
       "\n",
       "    .dataframe thead th {\n",
       "        text-align: right;\n",
       "    }\n",
       "</style>\n",
       "<table border=\"1\" class=\"dataframe\">\n",
       "  <thead>\n",
       "    <tr style=\"text-align: right;\">\n",
       "      <th></th>\n",
       "      <th>Timestamp</th>\n",
       "      <th>Series_No</th>\n",
       "      <th>Product_No</th>\n",
       "      <th>Turning_Cut_Depth</th>\n",
       "      <th>Milling_Gear_Depth</th>\n",
       "      <th>Drilling_Surf_Quality</th>\n",
       "      <th>Drill_Pressure</th>\n",
       "    </tr>\n",
       "  </thead>\n",
       "  <tbody>\n",
       "    <tr>\n",
       "      <th>0</th>\n",
       "      <td>01/01/15 01:01:01</td>\n",
       "      <td>XK00001402</td>\n",
       "      <td>5859</td>\n",
       "      <td>0.615159</td>\n",
       "      <td>0.302045</td>\n",
       "      <td>0.652705</td>\n",
       "      <td>3.532358</td>\n",
       "    </tr>\n",
       "    <tr>\n",
       "      <th>1</th>\n",
       "      <td>01/01/15 01:03:55</td>\n",
       "      <td>XK00001402</td>\n",
       "      <td>6212</td>\n",
       "      <td>0.645414</td>\n",
       "      <td>0.320177</td>\n",
       "      <td>0.207444</td>\n",
       "      <td>4.014133</td>\n",
       "    </tr>\n",
       "    <tr>\n",
       "      <th>2</th>\n",
       "      <td>01/01/15 01:04:57</td>\n",
       "      <td>XK00001402</td>\n",
       "      <td>7079</td>\n",
       "      <td>0.637861</td>\n",
       "      <td>0.302711</td>\n",
       "      <td>0.909993</td>\n",
       "      <td>4.377263</td>\n",
       "    </tr>\n",
       "    <tr>\n",
       "      <th>3</th>\n",
       "      <td>01/01/15 01:05:58</td>\n",
       "      <td>XK00001402</td>\n",
       "      <td>61</td>\n",
       "      <td>0.635685</td>\n",
       "      <td>0.301639</td>\n",
       "      <td>0.010166</td>\n",
       "      <td>4.190312</td>\n",
       "    </tr>\n",
       "    <tr>\n",
       "      <th>4</th>\n",
       "      <td>01/01/15 01:06:15</td>\n",
       "      <td>XK00001402</td>\n",
       "      <td>229</td>\n",
       "      <td>0.599048</td>\n",
       "      <td>0.296018</td>\n",
       "      <td>0.007966</td>\n",
       "      <td>4.896710</td>\n",
       "    </tr>\n",
       "  </tbody>\n",
       "</table>\n",
       "</div>"
      ],
      "text/plain": [
       "           Timestamp   Series_No  Product_No  Turning_Cut_Depth  \\\n",
       "0  01/01/15 01:01:01  XK00001402        5859           0.615159   \n",
       "1  01/01/15 01:03:55  XK00001402        6212           0.645414   \n",
       "2  01/01/15 01:04:57  XK00001402        7079           0.637861   \n",
       "3  01/01/15 01:05:58  XK00001402          61           0.635685   \n",
       "4  01/01/15 01:06:15  XK00001402         229           0.599048   \n",
       "\n",
       "   Milling_Gear_Depth  Drilling_Surf_Quality  Drill_Pressure  \n",
       "0            0.302045               0.652705        3.532358  \n",
       "1            0.320177               0.207444        4.014133  \n",
       "2            0.302711               0.909993        4.377263  \n",
       "3            0.301639               0.010166        4.190312  \n",
       "4            0.296018               0.007966        4.896710  "
      ]
     },
     "execution_count": 15,
     "metadata": {},
     "output_type": "execute_result"
    }
   ],
   "source": [
    "ms.head()"
   ]
  },
  {
   "cell_type": "code",
   "execution_count": 16,
   "metadata": {},
   "outputs": [
    {
     "data": {
      "text/plain": [
       "datetime.datetime(2015, 1, 1, 1, 1, 1)"
      ]
     },
     "execution_count": 16,
     "metadata": {},
     "output_type": "execute_result"
    }
   ],
   "source": [
    "datetime.strptime(ms.Timestamp.iloc[0], '%m/%d/%y %H:%M:%S')"
   ]
  },
  {
   "cell_type": "markdown",
   "metadata": {},
   "source": [
    "The `dateutil` package includes a parser that attempts to detect the format of the date strings, and convert them automatically."
   ]
  },
  {
   "cell_type": "code",
   "execution_count": 17,
   "metadata": {},
   "outputs": [],
   "source": [
    "from dateutil.parser import parse"
   ]
  },
  {
   "cell_type": "code",
   "execution_count": 18,
   "metadata": {},
   "outputs": [
    {
     "data": {
      "text/plain": [
       "datetime.datetime(2015, 1, 1, 1, 1, 1)"
      ]
     },
     "execution_count": 18,
     "metadata": {},
     "output_type": "execute_result"
    }
   ],
   "source": [
    "parse(ms.Timestamp.iloc[0])"
   ]
  },
  {
   "cell_type": "markdown",
   "metadata": {},
   "source": [
    "We can convert all the dates in a particular column by using the `apply` method."
   ]
  },
  {
   "cell_type": "code",
   "execution_count": 19,
   "metadata": {},
   "outputs": [
    {
     "data": {
      "text/plain": [
       "0   2015-01-01 01:01:01\n",
       "1   2015-01-01 01:03:55\n",
       "2   2015-01-01 01:04:57\n",
       "3   2015-01-01 01:05:58\n",
       "4   2015-01-01 01:06:15\n",
       "Name: Timestamp, dtype: datetime64[ns]"
      ]
     },
     "execution_count": 19,
     "metadata": {},
     "output_type": "execute_result"
    }
   ],
   "source": [
    "ms.Timestamp.apply(lambda d: datetime.strptime(d, '%m/%d/%y %H:%M:%S')).head()"
   ]
  },
  {
   "cell_type": "markdown",
   "metadata": {},
   "source": [
    "As a convenience, Pandas has a `to_datetime` method that will parse and convert an entire `Series` of formatted strings into `datetime` objects."
   ]
  },
  {
   "cell_type": "code",
   "execution_count": 20,
   "metadata": {},
   "outputs": [
    {
     "data": {
      "text/plain": [
       "0   2015-01-01 01:01:01\n",
       "1   2015-01-01 01:03:55\n",
       "2   2015-01-01 01:04:57\n",
       "3   2015-01-01 01:05:58\n",
       "4   2015-01-01 01:06:15\n",
       "Name: Timestamp, dtype: datetime64[ns]"
      ]
     },
     "execution_count": 20,
     "metadata": {},
     "output_type": "execute_result"
    }
   ],
   "source": [
    "pd.to_datetime(ms.Timestamp).head()"
   ]
  },
  {
   "cell_type": "markdown",
   "metadata": {},
   "source": [
    "Pandas also has a custom NA value for missing datetime objects, `NaT`."
   ]
  },
  {
   "cell_type": "code",
   "execution_count": 21,
   "metadata": {},
   "outputs": [
    {
     "data": {
      "text/plain": [
       "DatetimeIndex(['NaT'], dtype='datetime64[ns]', freq=None)"
      ]
     },
     "execution_count": 21,
     "metadata": {},
     "output_type": "execute_result"
    }
   ],
   "source": [
    "pd.to_datetime([None])"
   ]
  },
  {
   "cell_type": "markdown",
   "metadata": {},
   "source": [
    "Also, if `to_datetime()` has problems parsing any particular date/time format, you can pass the spec in using the `format=` argument."
   ]
  },
  {
   "cell_type": "markdown",
   "metadata": {},
   "source": [
    "The `read_*` functions now have an optional `parse_dates` argument that try to convert any columns passed to it into `datetime` format upon import:"
   ]
  },
  {
   "cell_type": "code",
   "execution_count": 23,
   "metadata": {},
   "outputs": [],
   "source": [
    "dd = pd.read_csv('Data/dataset_deltatime.csv', parse_dates=['st_time', 'end_time'], nrows=1000)"
   ]
  },
  {
   "cell_type": "code",
   "execution_count": 24,
   "metadata": {},
   "outputs": [
    {
     "data": {
      "text/plain": [
       "mmsi                   int64\n",
       "transit                int64\n",
       "segment                int64\n",
       "seg_length           float64\n",
       "avg_sog              float64\n",
       "min_sog              float64\n",
       "max_sog              float64\n",
       "pdgt10               float64\n",
       "st_time       datetime64[ns]\n",
       "end_time      datetime64[ns]\n",
       "dtype: object"
      ]
     },
     "execution_count": 24,
     "metadata": {},
     "output_type": "execute_result"
    }
   ],
   "source": [
    "dd.dtypes"
   ]
  },
  {
   "cell_type": "markdown",
   "metadata": {},
   "source": [
    "Columns of the `datetime` type have an **accessor** to easily extract properties of the data type. This will return a `Series`, with the same row index as the `DataFrame`. For example:"
   ]
  },
  {
   "cell_type": "code",
   "execution_count": 25,
   "metadata": {},
   "outputs": [
    {
     "data": {
      "text/plain": [
       "0    2\n",
       "1    4\n",
       "2    4\n",
       "3    4\n",
       "4    4\n",
       "Name: st_time, dtype: int64"
      ]
     },
     "execution_count": 25,
     "metadata": {},
     "output_type": "execute_result"
    }
   ],
   "source": [
    "dd.st_time.dt.month.head()"
   ]
  },
  {
   "cell_type": "markdown",
   "metadata": {},
   "source": [
    "This can be used to easily filter rows by particular temporal attributes:"
   ]
  },
  {
   "cell_type": "code",
   "execution_count": 26,
   "metadata": {},
   "outputs": [
    {
     "data": {
      "text/html": [
       "<div>\n",
       "<style scoped>\n",
       "    .dataframe tbody tr th:only-of-type {\n",
       "        vertical-align: middle;\n",
       "    }\n",
       "\n",
       "    .dataframe tbody tr th {\n",
       "        vertical-align: top;\n",
       "    }\n",
       "\n",
       "    .dataframe thead th {\n",
       "        text-align: right;\n",
       "    }\n",
       "</style>\n",
       "<table border=\"1\" class=\"dataframe\">\n",
       "  <thead>\n",
       "    <tr style=\"text-align: right;\">\n",
       "      <th></th>\n",
       "      <th>mmsi</th>\n",
       "      <th>transit</th>\n",
       "      <th>segment</th>\n",
       "      <th>seg_length</th>\n",
       "      <th>avg_sog</th>\n",
       "      <th>min_sog</th>\n",
       "      <th>max_sog</th>\n",
       "      <th>pdgt10</th>\n",
       "      <th>st_time</th>\n",
       "      <th>end_time</th>\n",
       "    </tr>\n",
       "  </thead>\n",
       "  <tbody>\n",
       "    <tr>\n",
       "      <th>0</th>\n",
       "      <td>1</td>\n",
       "      <td>1</td>\n",
       "      <td>1</td>\n",
       "      <td>5.1</td>\n",
       "      <td>13.2</td>\n",
       "      <td>9.2</td>\n",
       "      <td>14.5</td>\n",
       "      <td>96.5</td>\n",
       "      <td>2009-02-10 16:03:00</td>\n",
       "      <td>2009-02-10 16:27:00</td>\n",
       "    </tr>\n",
       "    <tr>\n",
       "      <th>78</th>\n",
       "      <td>3011</td>\n",
       "      <td>16</td>\n",
       "      <td>1</td>\n",
       "      <td>18.9</td>\n",
       "      <td>0.3</td>\n",
       "      <td>0.0</td>\n",
       "      <td>16.1</td>\n",
       "      <td>0.5</td>\n",
       "      <td>2010-02-07 07:26:00</td>\n",
       "      <td>2010-02-09 19:27:00</td>\n",
       "    </tr>\n",
       "    <tr>\n",
       "      <th>79</th>\n",
       "      <td>3011</td>\n",
       "      <td>17</td>\n",
       "      <td>1</td>\n",
       "      <td>19.2</td>\n",
       "      <td>0.3</td>\n",
       "      <td>0.0</td>\n",
       "      <td>6.4</td>\n",
       "      <td>0.0</td>\n",
       "      <td>2010-02-11 16:56:00</td>\n",
       "      <td>2010-02-14 14:31:00</td>\n",
       "    </tr>\n",
       "    <tr>\n",
       "      <th>80</th>\n",
       "      <td>3011</td>\n",
       "      <td>18</td>\n",
       "      <td>1</td>\n",
       "      <td>24.7</td>\n",
       "      <td>0.3</td>\n",
       "      <td>0.0</td>\n",
       "      <td>5.7</td>\n",
       "      <td>0.0</td>\n",
       "      <td>2010-02-19 11:53:00</td>\n",
       "      <td>2010-02-22 16:50:00</td>\n",
       "    </tr>\n",
       "    <tr>\n",
       "      <th>81</th>\n",
       "      <td>3011</td>\n",
       "      <td>19</td>\n",
       "      <td>1</td>\n",
       "      <td>40.1</td>\n",
       "      <td>0.4</td>\n",
       "      <td>0.0</td>\n",
       "      <td>16.3</td>\n",
       "      <td>0.1</td>\n",
       "      <td>2010-02-23 15:15:00</td>\n",
       "      <td>2010-03-02 14:25:00</td>\n",
       "    </tr>\n",
       "  </tbody>\n",
       "</table>\n",
       "</div>"
      ],
      "text/plain": [
       "    mmsi  transit  segment  seg_length  avg_sog  min_sog  max_sog  pdgt10  \\\n",
       "0      1        1        1         5.1     13.2      9.2     14.5    96.5   \n",
       "78  3011       16        1        18.9      0.3      0.0     16.1     0.5   \n",
       "79  3011       17        1        19.2      0.3      0.0      6.4     0.0   \n",
       "80  3011       18        1        24.7      0.3      0.0      5.7     0.0   \n",
       "81  3011       19        1        40.1      0.4      0.0     16.3     0.1   \n",
       "\n",
       "               st_time            end_time  \n",
       "0  2009-02-10 16:03:00 2009-02-10 16:27:00  \n",
       "78 2010-02-07 07:26:00 2010-02-09 19:27:00  \n",
       "79 2010-02-11 16:56:00 2010-02-14 14:31:00  \n",
       "80 2010-02-19 11:53:00 2010-02-22 16:50:00  \n",
       "81 2010-02-23 15:15:00 2010-03-02 14:25:00  "
      ]
     },
     "execution_count": 26,
     "metadata": {},
     "output_type": "execute_result"
    }
   ],
   "source": [
    "dd[dd.st_time.dt.month==2].head()"
   ]
  },
  {
   "cell_type": "markdown",
   "metadata": {},
   "source": [
    "## Merging and joining DataFrame objects"
   ]
  },
  {
   "cell_type": "markdown",
   "metadata": {},
   "source": [
    "Now that we have the mechanical setup table for tested products already fetched we can use the relational aspect of the tables to find information that don't belong in this table, i.e., when we have 2 tables with different information regarding the same columns, e.g. product number, we can merge this tables in order to have a single table with all the information needed. In the `New_Files/mechanical_setup.csv` folder there is a second table that contains information about each of the status of the production, `New_Files/status_production.csv"
   ]
  },
  {
   "cell_type": "code",
   "execution_count": 28,
   "metadata": {},
   "outputs": [
    {
     "data": {
      "text/html": [
       "<div>\n",
       "<style scoped>\n",
       "    .dataframe tbody tr th:only-of-type {\n",
       "        vertical-align: middle;\n",
       "    }\n",
       "\n",
       "    .dataframe tbody tr th {\n",
       "        vertical-align: top;\n",
       "    }\n",
       "\n",
       "    .dataframe thead th {\n",
       "        text-align: right;\n",
       "    }\n",
       "</style>\n",
       "<table border=\"1\" class=\"dataframe\">\n",
       "  <thead>\n",
       "    <tr style=\"text-align: right;\">\n",
       "      <th></th>\n",
       "      <th>Timestamp</th>\n",
       "      <th>Series_No</th>\n",
       "      <th>Product_No</th>\n",
       "      <th>class</th>\n",
       "    </tr>\n",
       "  </thead>\n",
       "  <tbody>\n",
       "    <tr>\n",
       "      <th>0</th>\n",
       "      <td>Timestamp: 01/01/15 01:01:01</td>\n",
       "      <td>XK00001402</td>\n",
       "      <td>5859</td>\n",
       "      <td>Failure</td>\n",
       "    </tr>\n",
       "    <tr>\n",
       "      <th>1</th>\n",
       "      <td>Timestamp: 01/01/15 01:03:55</td>\n",
       "      <td>XK00001402</td>\n",
       "      <td>6212</td>\n",
       "      <td>Failure</td>\n",
       "    </tr>\n",
       "    <tr>\n",
       "      <th>2</th>\n",
       "      <td>Timestamp: 01/01/15 01:04:57</td>\n",
       "      <td>XK00001402</td>\n",
       "      <td>7079</td>\n",
       "      <td>Failure</td>\n",
       "    </tr>\n",
       "    <tr>\n",
       "      <th>3</th>\n",
       "      <td>Timestamp: 01/01/15 01:05:58</td>\n",
       "      <td>XK00001402</td>\n",
       "      <td>61</td>\n",
       "      <td>OK</td>\n",
       "    </tr>\n",
       "    <tr>\n",
       "      <th>4</th>\n",
       "      <td>Timestamp: 01/01/15 01:06:15</td>\n",
       "      <td>XK00001402</td>\n",
       "      <td>229</td>\n",
       "      <td>OK</td>\n",
       "    </tr>\n",
       "    <tr>\n",
       "      <th>5</th>\n",
       "      <td>Timestamp: 01/01/15 01:10:04</td>\n",
       "      <td>XK00001402</td>\n",
       "      <td>8004</td>\n",
       "      <td>Failure</td>\n",
       "    </tr>\n",
       "    <tr>\n",
       "      <th>6</th>\n",
       "      <td>Timestamp: 01/01/15 01:11:14</td>\n",
       "      <td>XK00001402</td>\n",
       "      <td>5874</td>\n",
       "      <td>Failure</td>\n",
       "    </tr>\n",
       "    <tr>\n",
       "      <th>7</th>\n",
       "      <td>Timestamp: 01/01/15 01:16:01</td>\n",
       "      <td>XK00001402</td>\n",
       "      <td>4172</td>\n",
       "      <td>OK</td>\n",
       "    </tr>\n",
       "    <tr>\n",
       "      <th>8</th>\n",
       "      <td>Timestamp: 01/01/15 01:18:09</td>\n",
       "      <td>XK00001402</td>\n",
       "      <td>8021</td>\n",
       "      <td>Failure</td>\n",
       "    </tr>\n",
       "    <tr>\n",
       "      <th>9</th>\n",
       "      <td>Timestamp: 01/02/15 01:22:05</td>\n",
       "      <td>XK00001402</td>\n",
       "      <td>6606</td>\n",
       "      <td>Failure</td>\n",
       "    </tr>\n",
       "  </tbody>\n",
       "</table>\n",
       "</div>"
      ],
      "text/plain": [
       "                      Timestamp   Series_No  Product_No    class\n",
       "0  Timestamp: 01/01/15 01:01:01  XK00001402        5859  Failure\n",
       "1  Timestamp: 01/01/15 01:03:55  XK00001402        6212  Failure\n",
       "2  Timestamp: 01/01/15 01:04:57  XK00001402        7079  Failure\n",
       "3  Timestamp: 01/01/15 01:05:58  XK00001402          61       OK\n",
       "4  Timestamp: 01/01/15 01:06:15  XK00001402         229       OK\n",
       "5  Timestamp: 01/01/15 01:10:04  XK00001402        8004  Failure\n",
       "6  Timestamp: 01/01/15 01:11:14  XK00001402        5874  Failure\n",
       "7  Timestamp: 01/01/15 01:16:01  XK00001402        4172       OK\n",
       "8  Timestamp: 01/01/15 01:18:09  XK00001402        8021  Failure\n",
       "9  Timestamp: 01/02/15 01:22:05  XK00001402        6606  Failure"
      ]
     },
     "execution_count": 28,
     "metadata": {},
     "output_type": "execute_result"
    }
   ],
   "source": [
    "sp = pd.read_csv(\"Data/status_production.csv\")\n",
    "\n",
    "sp.head(10)"
   ]
  },
  {
   "cell_type": "code",
   "execution_count": 29,
   "metadata": {},
   "outputs": [
    {
     "data": {
      "text/html": [
       "<div>\n",
       "<style scoped>\n",
       "    .dataframe tbody tr th:only-of-type {\n",
       "        vertical-align: middle;\n",
       "    }\n",
       "\n",
       "    .dataframe tbody tr th {\n",
       "        vertical-align: top;\n",
       "    }\n",
       "\n",
       "    .dataframe thead th {\n",
       "        text-align: right;\n",
       "    }\n",
       "</style>\n",
       "<table border=\"1\" class=\"dataframe\">\n",
       "  <thead>\n",
       "    <tr style=\"text-align: right;\">\n",
       "      <th></th>\n",
       "      <th>Timestamp</th>\n",
       "      <th>Series_No</th>\n",
       "      <th>Product_No</th>\n",
       "      <th>Turning_Cut_Depth</th>\n",
       "      <th>Milling_Gear_Depth</th>\n",
       "      <th>Drilling_Surf_Quality</th>\n",
       "      <th>Drill_Pressure</th>\n",
       "    </tr>\n",
       "  </thead>\n",
       "  <tbody>\n",
       "    <tr>\n",
       "      <th>0</th>\n",
       "      <td>01/01/15 01:01:01</td>\n",
       "      <td>XK00001402</td>\n",
       "      <td>5859</td>\n",
       "      <td>0.615159</td>\n",
       "      <td>0.302045</td>\n",
       "      <td>0.652705</td>\n",
       "      <td>3.532358</td>\n",
       "    </tr>\n",
       "    <tr>\n",
       "      <th>1</th>\n",
       "      <td>01/01/15 01:03:55</td>\n",
       "      <td>XK00001402</td>\n",
       "      <td>6212</td>\n",
       "      <td>0.645414</td>\n",
       "      <td>0.320177</td>\n",
       "      <td>0.207444</td>\n",
       "      <td>4.014133</td>\n",
       "    </tr>\n",
       "    <tr>\n",
       "      <th>2</th>\n",
       "      <td>01/01/15 01:04:57</td>\n",
       "      <td>XK00001402</td>\n",
       "      <td>7079</td>\n",
       "      <td>0.637861</td>\n",
       "      <td>0.302711</td>\n",
       "      <td>0.909993</td>\n",
       "      <td>4.377263</td>\n",
       "    </tr>\n",
       "    <tr>\n",
       "      <th>3</th>\n",
       "      <td>01/01/15 01:05:58</td>\n",
       "      <td>XK00001402</td>\n",
       "      <td>61</td>\n",
       "      <td>0.635685</td>\n",
       "      <td>0.301639</td>\n",
       "      <td>0.010166</td>\n",
       "      <td>4.190312</td>\n",
       "    </tr>\n",
       "    <tr>\n",
       "      <th>4</th>\n",
       "      <td>01/01/15 01:06:15</td>\n",
       "      <td>XK00001402</td>\n",
       "      <td>229</td>\n",
       "      <td>0.599048</td>\n",
       "      <td>0.296018</td>\n",
       "      <td>0.007966</td>\n",
       "      <td>4.896710</td>\n",
       "    </tr>\n",
       "  </tbody>\n",
       "</table>\n",
       "</div>"
      ],
      "text/plain": [
       "           Timestamp   Series_No  Product_No  Turning_Cut_Depth  \\\n",
       "0  01/01/15 01:01:01  XK00001402        5859           0.615159   \n",
       "1  01/01/15 01:03:55  XK00001402        6212           0.645414   \n",
       "2  01/01/15 01:04:57  XK00001402        7079           0.637861   \n",
       "3  01/01/15 01:05:58  XK00001402          61           0.635685   \n",
       "4  01/01/15 01:06:15  XK00001402         229           0.599048   \n",
       "\n",
       "   Milling_Gear_Depth  Drilling_Surf_Quality  Drill_Pressure  \n",
       "0            0.302045               0.652705        3.532358  \n",
       "1            0.320177               0.207444        4.014133  \n",
       "2            0.302711               0.909993        4.377263  \n",
       "3            0.301639               0.010166        4.190312  \n",
       "4            0.296018               0.007966        4.896710  "
      ]
     },
     "execution_count": 29,
     "metadata": {},
     "output_type": "execute_result"
    }
   ],
   "source": [
    "ms.head()"
   ]
  },
  {
   "cell_type": "code",
   "execution_count": 30,
   "metadata": {},
   "outputs": [
    {
     "data": {
      "text/plain": [
       "array(['XK00001402', 'WK00001576', 'YZ00001723'], dtype=object)"
      ]
     },
     "execution_count": 30,
     "metadata": {},
     "output_type": "execute_result"
    }
   ],
   "source": [
    "ms.Series_No.unique()"
   ]
  },
  {
   "cell_type": "code",
   "execution_count": 31,
   "metadata": {},
   "outputs": [
    {
     "data": {
      "text/html": [
       "<div>\n",
       "<style scoped>\n",
       "    .dataframe tbody tr th:only-of-type {\n",
       "        vertical-align: middle;\n",
       "    }\n",
       "\n",
       "    .dataframe tbody tr th {\n",
       "        vertical-align: top;\n",
       "    }\n",
       "\n",
       "    .dataframe thead th {\n",
       "        text-align: right;\n",
       "    }\n",
       "</style>\n",
       "<table border=\"1\" class=\"dataframe\">\n",
       "  <thead>\n",
       "    <tr style=\"text-align: right;\">\n",
       "      <th></th>\n",
       "      <th>Timestamp</th>\n",
       "      <th>Series_No</th>\n",
       "      <th>Product_No</th>\n",
       "      <th>class</th>\n",
       "    </tr>\n",
       "  </thead>\n",
       "  <tbody>\n",
       "    <tr>\n",
       "      <th>9863</th>\n",
       "      <td>Timestamp: 12/31/18 15:53:47</td>\n",
       "      <td>YZ00001723</td>\n",
       "      <td>3739</td>\n",
       "      <td>OK</td>\n",
       "    </tr>\n",
       "    <tr>\n",
       "      <th>9864</th>\n",
       "      <td>Timestamp: 12/31/18 15:55:45</td>\n",
       "      <td>YZ00001723</td>\n",
       "      <td>7526</td>\n",
       "      <td>Failure</td>\n",
       "    </tr>\n",
       "    <tr>\n",
       "      <th>9865</th>\n",
       "      <td>Timestamp: 12/31/18 15:58:55</td>\n",
       "      <td>YZ00001723</td>\n",
       "      <td>8098</td>\n",
       "      <td>Failure</td>\n",
       "    </tr>\n",
       "    <tr>\n",
       "      <th>9866</th>\n",
       "      <td>Timestamp: 12/31/18 16:01:43</td>\n",
       "      <td>YZ00001723</td>\n",
       "      <td>8490</td>\n",
       "      <td>Failure</td>\n",
       "    </tr>\n",
       "    <tr>\n",
       "      <th>9867</th>\n",
       "      <td>Timestamp: 12/31/18 16:05:43</td>\n",
       "      <td>YZ00001723</td>\n",
       "      <td>3637</td>\n",
       "      <td>OK</td>\n",
       "    </tr>\n",
       "  </tbody>\n",
       "</table>\n",
       "</div>"
      ],
      "text/plain": [
       "                         Timestamp   Series_No  Product_No    class\n",
       "9863  Timestamp: 12/31/18 15:53:47  YZ00001723        3739       OK\n",
       "9864  Timestamp: 12/31/18 15:55:45  YZ00001723        7526  Failure\n",
       "9865  Timestamp: 12/31/18 15:58:55  YZ00001723        8098  Failure\n",
       "9866  Timestamp: 12/31/18 16:01:43  YZ00001723        8490  Failure\n",
       "9867  Timestamp: 12/31/18 16:05:43  YZ00001723        3637       OK"
      ]
     },
     "execution_count": 31,
     "metadata": {},
     "output_type": "execute_result"
    }
   ],
   "source": [
    "sp.sort_values(by='Timestamp').tail()"
   ]
  },
  {
   "cell_type": "code",
   "execution_count": 32,
   "metadata": {},
   "outputs": [
    {
     "data": {
      "text/html": [
       "<div>\n",
       "<style scoped>\n",
       "    .dataframe tbody tr th:only-of-type {\n",
       "        vertical-align: middle;\n",
       "    }\n",
       "\n",
       "    .dataframe tbody tr th {\n",
       "        vertical-align: top;\n",
       "    }\n",
       "\n",
       "    .dataframe thead th {\n",
       "        text-align: right;\n",
       "    }\n",
       "</style>\n",
       "<table border=\"1\" class=\"dataframe\">\n",
       "  <thead>\n",
       "    <tr style=\"text-align: right;\">\n",
       "      <th></th>\n",
       "      <th>Timestamp</th>\n",
       "      <th>Series_No</th>\n",
       "      <th>Product_No</th>\n",
       "      <th>Turning_Cut_Depth</th>\n",
       "      <th>Milling_Gear_Depth</th>\n",
       "      <th>Drilling_Surf_Quality</th>\n",
       "      <th>Drill_Pressure</th>\n",
       "    </tr>\n",
       "  </thead>\n",
       "  <tbody>\n",
       "    <tr>\n",
       "      <th>9863</th>\n",
       "      <td>12/31/18 15:53:47</td>\n",
       "      <td>YZ00001723</td>\n",
       "      <td>3739</td>\n",
       "      <td>0.571230</td>\n",
       "      <td>0.364462</td>\n",
       "      <td>0.650534</td>\n",
       "      <td>4.145471</td>\n",
       "    </tr>\n",
       "    <tr>\n",
       "      <th>9864</th>\n",
       "      <td>12/31/18 15:55:45</td>\n",
       "      <td>YZ00001723</td>\n",
       "      <td>7526</td>\n",
       "      <td>0.577857</td>\n",
       "      <td>0.387321</td>\n",
       "      <td>0.332542</td>\n",
       "      <td>3.574632</td>\n",
       "    </tr>\n",
       "    <tr>\n",
       "      <th>9865</th>\n",
       "      <td>12/31/18 15:58:55</td>\n",
       "      <td>YZ00001723</td>\n",
       "      <td>8098</td>\n",
       "      <td>0.713802</td>\n",
       "      <td>0.331039</td>\n",
       "      <td>0.382394</td>\n",
       "      <td>1.112122</td>\n",
       "    </tr>\n",
       "    <tr>\n",
       "      <th>9866</th>\n",
       "      <td>12/31/18 16:01:43</td>\n",
       "      <td>YZ00001723</td>\n",
       "      <td>8490</td>\n",
       "      <td>0.593691</td>\n",
       "      <td>0.335247</td>\n",
       "      <td>0.375882</td>\n",
       "      <td>1.685926</td>\n",
       "    </tr>\n",
       "    <tr>\n",
       "      <th>9867</th>\n",
       "      <td>12/31/18 16:05:43</td>\n",
       "      <td>YZ00001723</td>\n",
       "      <td>3637</td>\n",
       "      <td>0.579350</td>\n",
       "      <td>0.379926</td>\n",
       "      <td>0.645397</td>\n",
       "      <td>1.191644</td>\n",
       "    </tr>\n",
       "  </tbody>\n",
       "</table>\n",
       "</div>"
      ],
      "text/plain": [
       "              Timestamp   Series_No  Product_No  Turning_Cut_Depth  \\\n",
       "9863  12/31/18 15:53:47  YZ00001723        3739           0.571230   \n",
       "9864  12/31/18 15:55:45  YZ00001723        7526           0.577857   \n",
       "9865  12/31/18 15:58:55  YZ00001723        8098           0.713802   \n",
       "9866  12/31/18 16:01:43  YZ00001723        8490           0.593691   \n",
       "9867  12/31/18 16:05:43  YZ00001723        3637           0.579350   \n",
       "\n",
       "      Milling_Gear_Depth  Drilling_Surf_Quality  Drill_Pressure  \n",
       "9863            0.364462               0.650534        4.145471  \n",
       "9864            0.387321               0.332542        3.574632  \n",
       "9865            0.331039               0.382394        1.112122  \n",
       "9866            0.335247               0.375882        1.685926  \n",
       "9867            0.379926               0.645397        1.191644  "
      ]
     },
     "execution_count": 32,
     "metadata": {},
     "output_type": "execute_result"
    }
   ],
   "source": [
    "ms.sort_values(by='Timestamp').tail()"
   ]
  },
  {
   "cell_type": "markdown",
   "metadata": {},
   "source": [
    "These two tables have one-to-one relationship, as Product_No is unique in each table. **The table of mechanical setup has a *one-to-one* relationship with the status production**.\n",
    "\n",
    "One can encounter also one-to-many relationships, where only one table has a unique value column, as well as many-to-many relationships, where both tables are using non-unique values columns to merge.\n",
    "\n",
    "In Pandas, we can combine tables according to the value of one or more *keys* that are used to identify rows, much like an index. Using a trivial example:"
   ]
  },
  {
   "cell_type": "code",
   "execution_count": 33,
   "metadata": {},
   "outputs": [
    {
     "data": {
      "text/html": [
       "<div>\n",
       "<style scoped>\n",
       "    .dataframe tbody tr th:only-of-type {\n",
       "        vertical-align: middle;\n",
       "    }\n",
       "\n",
       "    .dataframe tbody tr th {\n",
       "        vertical-align: top;\n",
       "    }\n",
       "\n",
       "    .dataframe thead th {\n",
       "        text-align: right;\n",
       "    }\n",
       "</style>\n",
       "<table border=\"1\" class=\"dataframe\">\n",
       "  <thead>\n",
       "    <tr style=\"text-align: right;\">\n",
       "      <th></th>\n",
       "      <th>id</th>\n",
       "      <th>age</th>\n",
       "    </tr>\n",
       "  </thead>\n",
       "  <tbody>\n",
       "    <tr>\n",
       "      <th>0</th>\n",
       "      <td>0</td>\n",
       "      <td>22</td>\n",
       "    </tr>\n",
       "    <tr>\n",
       "      <th>1</th>\n",
       "      <td>1</td>\n",
       "      <td>22</td>\n",
       "    </tr>\n",
       "    <tr>\n",
       "      <th>2</th>\n",
       "      <td>2</td>\n",
       "      <td>24</td>\n",
       "    </tr>\n",
       "    <tr>\n",
       "      <th>3</th>\n",
       "      <td>3</td>\n",
       "      <td>18</td>\n",
       "    </tr>\n",
       "  </tbody>\n",
       "</table>\n",
       "</div>"
      ],
      "text/plain": [
       "   id  age\n",
       "0   0   22\n",
       "1   1   22\n",
       "2   2   24\n",
       "3   3   18"
      ]
     },
     "execution_count": 33,
     "metadata": {},
     "output_type": "execute_result"
    }
   ],
   "source": [
    "df1 = pd.DataFrame(dict(id=range(4), age=np.random.randint(18, 31, size=4)))\n",
    "df2 = pd.DataFrame(dict(id=list(range(3))+list(range(3)), \n",
    "                        score=np.random.random(size=6)))\n",
    "\n",
    "df1"
   ]
  },
  {
   "cell_type": "code",
   "execution_count": 34,
   "metadata": {},
   "outputs": [
    {
     "data": {
      "text/html": [
       "<div>\n",
       "<style scoped>\n",
       "    .dataframe tbody tr th:only-of-type {\n",
       "        vertical-align: middle;\n",
       "    }\n",
       "\n",
       "    .dataframe tbody tr th {\n",
       "        vertical-align: top;\n",
       "    }\n",
       "\n",
       "    .dataframe thead th {\n",
       "        text-align: right;\n",
       "    }\n",
       "</style>\n",
       "<table border=\"1\" class=\"dataframe\">\n",
       "  <thead>\n",
       "    <tr style=\"text-align: right;\">\n",
       "      <th></th>\n",
       "      <th>id</th>\n",
       "      <th>score</th>\n",
       "    </tr>\n",
       "  </thead>\n",
       "  <tbody>\n",
       "    <tr>\n",
       "      <th>0</th>\n",
       "      <td>0</td>\n",
       "      <td>0.260886</td>\n",
       "    </tr>\n",
       "    <tr>\n",
       "      <th>1</th>\n",
       "      <td>1</td>\n",
       "      <td>0.170241</td>\n",
       "    </tr>\n",
       "    <tr>\n",
       "      <th>2</th>\n",
       "      <td>2</td>\n",
       "      <td>0.654717</td>\n",
       "    </tr>\n",
       "    <tr>\n",
       "      <th>3</th>\n",
       "      <td>0</td>\n",
       "      <td>0.796875</td>\n",
       "    </tr>\n",
       "    <tr>\n",
       "      <th>4</th>\n",
       "      <td>1</td>\n",
       "      <td>0.083499</td>\n",
       "    </tr>\n",
       "    <tr>\n",
       "      <th>5</th>\n",
       "      <td>2</td>\n",
       "      <td>0.142029</td>\n",
       "    </tr>\n",
       "  </tbody>\n",
       "</table>\n",
       "</div>"
      ],
      "text/plain": [
       "   id     score\n",
       "0   0  0.260886\n",
       "1   1  0.170241\n",
       "2   2  0.654717\n",
       "3   0  0.796875\n",
       "4   1  0.083499\n",
       "5   2  0.142029"
      ]
     },
     "execution_count": 34,
     "metadata": {},
     "output_type": "execute_result"
    }
   ],
   "source": [
    "df2"
   ]
  },
  {
   "cell_type": "code",
   "execution_count": 35,
   "metadata": {},
   "outputs": [
    {
     "data": {
      "text/html": [
       "<div>\n",
       "<style scoped>\n",
       "    .dataframe tbody tr th:only-of-type {\n",
       "        vertical-align: middle;\n",
       "    }\n",
       "\n",
       "    .dataframe tbody tr th {\n",
       "        vertical-align: top;\n",
       "    }\n",
       "\n",
       "    .dataframe thead th {\n",
       "        text-align: right;\n",
       "    }\n",
       "</style>\n",
       "<table border=\"1\" class=\"dataframe\">\n",
       "  <thead>\n",
       "    <tr style=\"text-align: right;\">\n",
       "      <th></th>\n",
       "      <th>id</th>\n",
       "      <th>age</th>\n",
       "      <th>score</th>\n",
       "    </tr>\n",
       "  </thead>\n",
       "  <tbody>\n",
       "    <tr>\n",
       "      <th>0</th>\n",
       "      <td>0</td>\n",
       "      <td>22</td>\n",
       "      <td>0.260886</td>\n",
       "    </tr>\n",
       "    <tr>\n",
       "      <th>1</th>\n",
       "      <td>0</td>\n",
       "      <td>22</td>\n",
       "      <td>0.796875</td>\n",
       "    </tr>\n",
       "    <tr>\n",
       "      <th>2</th>\n",
       "      <td>1</td>\n",
       "      <td>22</td>\n",
       "      <td>0.170241</td>\n",
       "    </tr>\n",
       "    <tr>\n",
       "      <th>3</th>\n",
       "      <td>1</td>\n",
       "      <td>22</td>\n",
       "      <td>0.083499</td>\n",
       "    </tr>\n",
       "    <tr>\n",
       "      <th>4</th>\n",
       "      <td>2</td>\n",
       "      <td>24</td>\n",
       "      <td>0.654717</td>\n",
       "    </tr>\n",
       "    <tr>\n",
       "      <th>5</th>\n",
       "      <td>2</td>\n",
       "      <td>24</td>\n",
       "      <td>0.142029</td>\n",
       "    </tr>\n",
       "  </tbody>\n",
       "</table>\n",
       "</div>"
      ],
      "text/plain": [
       "   id  age     score\n",
       "0   0   22  0.260886\n",
       "1   0   22  0.796875\n",
       "2   1   22  0.170241\n",
       "3   1   22  0.083499\n",
       "4   2   24  0.654717\n",
       "5   2   24  0.142029"
      ]
     },
     "execution_count": 35,
     "metadata": {},
     "output_type": "execute_result"
    }
   ],
   "source": [
    "pd.merge(df1, df2)"
   ]
  },
  {
   "cell_type": "markdown",
   "metadata": {},
   "source": [
    "Notice that without any information about which column to use as a key, Pandas did the right thing and used the `id` column in both tables. Unless specified otherwise, `merge` will used any common column names as keys for merging the tables. \n",
    "\n",
    "Notice also that `id=3` from `df1` was omitted from the merged table. This is because, by default, `merge` performs an **inner join** on the tables, meaning that the merged table represents an intersection of the two tables."
   ]
  },
  {
   "cell_type": "code",
   "execution_count": 36,
   "metadata": {},
   "outputs": [
    {
     "data": {
      "text/html": [
       "<div>\n",
       "<style scoped>\n",
       "    .dataframe tbody tr th:only-of-type {\n",
       "        vertical-align: middle;\n",
       "    }\n",
       "\n",
       "    .dataframe tbody tr th {\n",
       "        vertical-align: top;\n",
       "    }\n",
       "\n",
       "    .dataframe thead th {\n",
       "        text-align: right;\n",
       "    }\n",
       "</style>\n",
       "<table border=\"1\" class=\"dataframe\">\n",
       "  <thead>\n",
       "    <tr style=\"text-align: right;\">\n",
       "      <th></th>\n",
       "      <th>id</th>\n",
       "      <th>age</th>\n",
       "      <th>score</th>\n",
       "    </tr>\n",
       "  </thead>\n",
       "  <tbody>\n",
       "    <tr>\n",
       "      <th>0</th>\n",
       "      <td>0</td>\n",
       "      <td>22</td>\n",
       "      <td>0.260886</td>\n",
       "    </tr>\n",
       "    <tr>\n",
       "      <th>1</th>\n",
       "      <td>0</td>\n",
       "      <td>22</td>\n",
       "      <td>0.796875</td>\n",
       "    </tr>\n",
       "    <tr>\n",
       "      <th>2</th>\n",
       "      <td>1</td>\n",
       "      <td>22</td>\n",
       "      <td>0.170241</td>\n",
       "    </tr>\n",
       "    <tr>\n",
       "      <th>3</th>\n",
       "      <td>1</td>\n",
       "      <td>22</td>\n",
       "      <td>0.083499</td>\n",
       "    </tr>\n",
       "    <tr>\n",
       "      <th>4</th>\n",
       "      <td>2</td>\n",
       "      <td>24</td>\n",
       "      <td>0.654717</td>\n",
       "    </tr>\n",
       "    <tr>\n",
       "      <th>5</th>\n",
       "      <td>2</td>\n",
       "      <td>24</td>\n",
       "      <td>0.142029</td>\n",
       "    </tr>\n",
       "    <tr>\n",
       "      <th>6</th>\n",
       "      <td>3</td>\n",
       "      <td>18</td>\n",
       "      <td>NaN</td>\n",
       "    </tr>\n",
       "  </tbody>\n",
       "</table>\n",
       "</div>"
      ],
      "text/plain": [
       "   id  age     score\n",
       "0   0   22  0.260886\n",
       "1   0   22  0.796875\n",
       "2   1   22  0.170241\n",
       "3   1   22  0.083499\n",
       "4   2   24  0.654717\n",
       "5   2   24  0.142029\n",
       "6   3   18       NaN"
      ]
     },
     "execution_count": 36,
     "metadata": {},
     "output_type": "execute_result"
    }
   ],
   "source": [
    "pd.merge(df1, df2, how='outer')"
   ]
  },
  {
   "attachments": {
    "image.png": {
     "image/png": "[encoded data removed]"
    }
   },
   "cell_type": "markdown",
   "metadata": {},
   "source": [
    "The **outer join** above yields the union of the two tables, so all rows are represented, with missing values inserted as appropriate. One can also perform **right** and **left** joins to include all rows of the right or left table (*i.e.* first or second argument to `merge`), but not necessarily the other.\n",
    "\n",
    "### Here are the different types of Join one can perform with pandas:\n",
    "-  **(INNER) JOIN**: Returns records that have matching values in both tables.\n",
    "-  **LEFT (OUTER) JOIN**: Returns all records from the left table, and the matched records from the right table.\n",
    "-  **RIGHT (OUTER) JOIN**: Returns all records from the right table, and the matched records from the left table.\n",
    "-  **FULL (OUTER) JOIN**: Returns all records when there is a match in either left or tight table.\n",
    "  \n",
    "![image.png](attachment:image.png)\n",
    "    "
   ]
  },
  {
   "cell_type": "markdown",
   "metadata": {},
   "source": [
    "Looking at the two datasets that we wish to merge:"
   ]
  },
  {
   "cell_type": "code",
   "execution_count": 38,
   "metadata": {},
   "outputs": [
    {
     "data": {
      "text/html": [
       "<div>\n",
       "<style scoped>\n",
       "    .dataframe tbody tr th:only-of-type {\n",
       "        vertical-align: middle;\n",
       "    }\n",
       "\n",
       "    .dataframe tbody tr th {\n",
       "        vertical-align: top;\n",
       "    }\n",
       "\n",
       "    .dataframe thead th {\n",
       "        text-align: right;\n",
       "    }\n",
       "</style>\n",
       "<table border=\"1\" class=\"dataframe\">\n",
       "  <thead>\n",
       "    <tr style=\"text-align: right;\">\n",
       "      <th></th>\n",
       "      <th>Timestamp</th>\n",
       "      <th>Series_No</th>\n",
       "      <th>Product_No</th>\n",
       "      <th>class</th>\n",
       "    </tr>\n",
       "  </thead>\n",
       "  <tbody>\n",
       "    <tr>\n",
       "      <th>0</th>\n",
       "      <td>Timestamp: 01/01/15 01:01:01</td>\n",
       "      <td>XK00001402</td>\n",
       "      <td>5859</td>\n",
       "      <td>Failure</td>\n",
       "    </tr>\n",
       "  </tbody>\n",
       "</table>\n",
       "</div>"
      ],
      "text/plain": [
       "                      Timestamp   Series_No  Product_No    class\n",
       "0  Timestamp: 01/01/15 01:01:01  XK00001402        5859  Failure"
      ]
     },
     "execution_count": 38,
     "metadata": {},
     "output_type": "execute_result"
    }
   ],
   "source": [
    "sp.head(1)"
   ]
  },
  {
   "cell_type": "code",
   "execution_count": 39,
   "metadata": {},
   "outputs": [
    {
     "data": {
      "text/html": [
       "<div>\n",
       "<style scoped>\n",
       "    .dataframe tbody tr th:only-of-type {\n",
       "        vertical-align: middle;\n",
       "    }\n",
       "\n",
       "    .dataframe tbody tr th {\n",
       "        vertical-align: top;\n",
       "    }\n",
       "\n",
       "    .dataframe thead th {\n",
       "        text-align: right;\n",
       "    }\n",
       "</style>\n",
       "<table border=\"1\" class=\"dataframe\">\n",
       "  <thead>\n",
       "    <tr style=\"text-align: right;\">\n",
       "      <th></th>\n",
       "      <th>Timestamp</th>\n",
       "      <th>Series_No</th>\n",
       "      <th>Product_No</th>\n",
       "      <th>Turning_Cut_Depth</th>\n",
       "      <th>Milling_Gear_Depth</th>\n",
       "      <th>Drilling_Surf_Quality</th>\n",
       "      <th>Drill_Pressure</th>\n",
       "    </tr>\n",
       "  </thead>\n",
       "  <tbody>\n",
       "    <tr>\n",
       "      <th>0</th>\n",
       "      <td>01/01/15 01:01:01</td>\n",
       "      <td>XK00001402</td>\n",
       "      <td>5859</td>\n",
       "      <td>0.615159</td>\n",
       "      <td>0.302045</td>\n",
       "      <td>0.652705</td>\n",
       "      <td>3.532358</td>\n",
       "    </tr>\n",
       "  </tbody>\n",
       "</table>\n",
       "</div>"
      ],
      "text/plain": [
       "           Timestamp   Series_No  Product_No  Turning_Cut_Depth  \\\n",
       "0  01/01/15 01:01:01  XK00001402        5859           0.615159   \n",
       "\n",
       "   Milling_Gear_Depth  Drilling_Surf_Quality  Drill_Pressure  \n",
       "0            0.302045               0.652705        3.532358  "
      ]
     },
     "execution_count": 39,
     "metadata": {},
     "output_type": "execute_result"
    }
   ],
   "source": [
    "ms.head(1)"
   ]
  },
  {
   "cell_type": "markdown",
   "metadata": {},
   "source": [
    "we see that there is a `Product_No` value (a product identifier) in each table, and allthough they're not index columns, they're both unique value columns and regarding this column, this is a one-to-one relationship."
   ]
  },
  {
   "cell_type": "code",
   "execution_count": 40,
   "metadata": {},
   "outputs": [],
   "source": [
    "ms_merged = pd.merge(ms, sp, left_on=\"Product_No\", right_on=\"Product_No\")"
   ]
  },
  {
   "cell_type": "code",
   "execution_count": 41,
   "metadata": {},
   "outputs": [
    {
     "data": {
      "text/html": [
       "<div>\n",
       "<style scoped>\n",
       "    .dataframe tbody tr th:only-of-type {\n",
       "        vertical-align: middle;\n",
       "    }\n",
       "\n",
       "    .dataframe tbody tr th {\n",
       "        vertical-align: top;\n",
       "    }\n",
       "\n",
       "    .dataframe thead th {\n",
       "        text-align: right;\n",
       "    }\n",
       "</style>\n",
       "<table border=\"1\" class=\"dataframe\">\n",
       "  <thead>\n",
       "    <tr style=\"text-align: right;\">\n",
       "      <th></th>\n",
       "      <th>Timestamp_x</th>\n",
       "      <th>Series_No_x</th>\n",
       "      <th>Product_No</th>\n",
       "      <th>Turning_Cut_Depth</th>\n",
       "      <th>Milling_Gear_Depth</th>\n",
       "      <th>Drilling_Surf_Quality</th>\n",
       "      <th>Drill_Pressure</th>\n",
       "      <th>Timestamp_y</th>\n",
       "      <th>Series_No_y</th>\n",
       "      <th>class</th>\n",
       "    </tr>\n",
       "  </thead>\n",
       "  <tbody>\n",
       "    <tr>\n",
       "      <th>0</th>\n",
       "      <td>01/01/15 01:01:01</td>\n",
       "      <td>XK00001402</td>\n",
       "      <td>5859</td>\n",
       "      <td>0.615159</td>\n",
       "      <td>0.302045</td>\n",
       "      <td>0.652705</td>\n",
       "      <td>3.532358</td>\n",
       "      <td>Timestamp: 01/01/15 01:01:01</td>\n",
       "      <td>XK00001402</td>\n",
       "      <td>Failure</td>\n",
       "    </tr>\n",
       "    <tr>\n",
       "      <th>1</th>\n",
       "      <td>01/01/15 01:03:55</td>\n",
       "      <td>XK00001402</td>\n",
       "      <td>6212</td>\n",
       "      <td>0.645414</td>\n",
       "      <td>0.320177</td>\n",
       "      <td>0.207444</td>\n",
       "      <td>4.014133</td>\n",
       "      <td>Timestamp: 01/01/15 01:03:55</td>\n",
       "      <td>XK00001402</td>\n",
       "      <td>Failure</td>\n",
       "    </tr>\n",
       "    <tr>\n",
       "      <th>2</th>\n",
       "      <td>01/01/15 01:04:57</td>\n",
       "      <td>XK00001402</td>\n",
       "      <td>7079</td>\n",
       "      <td>0.637861</td>\n",
       "      <td>0.302711</td>\n",
       "      <td>0.909993</td>\n",
       "      <td>4.377263</td>\n",
       "      <td>Timestamp: 01/01/15 01:04:57</td>\n",
       "      <td>XK00001402</td>\n",
       "      <td>Failure</td>\n",
       "    </tr>\n",
       "    <tr>\n",
       "      <th>3</th>\n",
       "      <td>01/01/15 01:05:58</td>\n",
       "      <td>XK00001402</td>\n",
       "      <td>61</td>\n",
       "      <td>0.635685</td>\n",
       "      <td>0.301639</td>\n",
       "      <td>0.010166</td>\n",
       "      <td>4.190312</td>\n",
       "      <td>Timestamp: 01/01/15 01:05:58</td>\n",
       "      <td>XK00001402</td>\n",
       "      <td>OK</td>\n",
       "    </tr>\n",
       "    <tr>\n",
       "      <th>4</th>\n",
       "      <td>01/01/15 01:06:15</td>\n",
       "      <td>XK00001402</td>\n",
       "      <td>229</td>\n",
       "      <td>0.599048</td>\n",
       "      <td>0.296018</td>\n",
       "      <td>0.007966</td>\n",
       "      <td>4.896710</td>\n",
       "      <td>Timestamp: 01/01/15 01:06:15</td>\n",
       "      <td>XK00001402</td>\n",
       "      <td>OK</td>\n",
       "    </tr>\n",
       "  </tbody>\n",
       "</table>\n",
       "</div>"
      ],
      "text/plain": [
       "         Timestamp_x Series_No_x  Product_No  Turning_Cut_Depth  \\\n",
       "0  01/01/15 01:01:01  XK00001402        5859           0.615159   \n",
       "1  01/01/15 01:03:55  XK00001402        6212           0.645414   \n",
       "2  01/01/15 01:04:57  XK00001402        7079           0.637861   \n",
       "3  01/01/15 01:05:58  XK00001402          61           0.635685   \n",
       "4  01/01/15 01:06:15  XK00001402         229           0.599048   \n",
       "\n",
       "   Milling_Gear_Depth  Drilling_Surf_Quality  Drill_Pressure  \\\n",
       "0            0.302045               0.652705        3.532358   \n",
       "1            0.320177               0.207444        4.014133   \n",
       "2            0.302711               0.909993        4.377263   \n",
       "3            0.301639               0.010166        4.190312   \n",
       "4            0.296018               0.007966        4.896710   \n",
       "\n",
       "                    Timestamp_y Series_No_y    class  \n",
       "0  Timestamp: 01/01/15 01:01:01  XK00001402  Failure  \n",
       "1  Timestamp: 01/01/15 01:03:55  XK00001402  Failure  \n",
       "2  Timestamp: 01/01/15 01:04:57  XK00001402  Failure  \n",
       "3  Timestamp: 01/01/15 01:05:58  XK00001402       OK  \n",
       "4  Timestamp: 01/01/15 01:06:15  XK00001402       OK  "
      ]
     },
     "execution_count": 41,
     "metadata": {},
     "output_type": "execute_result"
    }
   ],
   "source": [
    "ms_merged.head()"
   ]
  },
  {
   "cell_type": "markdown",
   "metadata": {},
   "source": [
    "In this case, the default inner join is suitable; we are not interested in observations from either table that do not have corresponding entries in the other. "
   ]
  },
  {
   "cell_type": "markdown",
   "metadata": {},
   "source": [
    "Here, we used the `merge` function to perform the merge; we could also have used the `merge` *method* for either of the tables:"
   ]
  },
  {
   "cell_type": "code",
   "execution_count": 42,
   "metadata": {},
   "outputs": [
    {
     "data": {
      "text/html": [
       "<div>\n",
       "<style scoped>\n",
       "    .dataframe tbody tr th:only-of-type {\n",
       "        vertical-align: middle;\n",
       "    }\n",
       "\n",
       "    .dataframe tbody tr th {\n",
       "        vertical-align: top;\n",
       "    }\n",
       "\n",
       "    .dataframe thead th {\n",
       "        text-align: right;\n",
       "    }\n",
       "</style>\n",
       "<table border=\"1\" class=\"dataframe\">\n",
       "  <thead>\n",
       "    <tr style=\"text-align: right;\">\n",
       "      <th></th>\n",
       "      <th>Product_No</th>\n",
       "      <th>Timestamp_x</th>\n",
       "      <th>Series_No_x</th>\n",
       "      <th>Product_No_x</th>\n",
       "      <th>class</th>\n",
       "      <th>Timestamp_y</th>\n",
       "      <th>Series_No_y</th>\n",
       "      <th>Product_No_y</th>\n",
       "      <th>Turning_Cut_Depth</th>\n",
       "      <th>Milling_Gear_Depth</th>\n",
       "      <th>Drilling_Surf_Quality</th>\n",
       "      <th>Drill_Pressure</th>\n",
       "    </tr>\n",
       "  </thead>\n",
       "  <tbody>\n",
       "    <tr>\n",
       "      <th>3912</th>\n",
       "      <td>0</td>\n",
       "      <td>Timestamp: 01/01/15 01:01:01</td>\n",
       "      <td>XK00001402</td>\n",
       "      <td>5859</td>\n",
       "      <td>Failure</td>\n",
       "      <td>07/24/16 07:45:08</td>\n",
       "      <td>XK00001402</td>\n",
       "      <td>0</td>\n",
       "      <td>0.637494</td>\n",
       "      <td>0.310224</td>\n",
       "      <td>0.004732</td>\n",
       "      <td>3.493444</td>\n",
       "    </tr>\n",
       "    <tr>\n",
       "      <th>6283</th>\n",
       "      <td>1</td>\n",
       "      <td>Timestamp: 01/01/15 01:03:55</td>\n",
       "      <td>XK00001402</td>\n",
       "      <td>6212</td>\n",
       "      <td>Failure</td>\n",
       "      <td>06/20/17 06:18:01</td>\n",
       "      <td>WK00001576</td>\n",
       "      <td>1</td>\n",
       "      <td>0.652844</td>\n",
       "      <td>0.320212</td>\n",
       "      <td>0.004732</td>\n",
       "      <td>1.274442</td>\n",
       "    </tr>\n",
       "    <tr>\n",
       "      <th>8629</th>\n",
       "      <td>2</td>\n",
       "      <td>Timestamp: 01/01/15 01:04:57</td>\n",
       "      <td>XK00001402</td>\n",
       "      <td>7079</td>\n",
       "      <td>Failure</td>\n",
       "      <td>06/20/18 00:53:28</td>\n",
       "      <td>WK00001576</td>\n",
       "      <td>2</td>\n",
       "      <td>0.617482</td>\n",
       "      <td>0.288820</td>\n",
       "      <td>0.003994</td>\n",
       "      <td>1.729314</td>\n",
       "    </tr>\n",
       "    <tr>\n",
       "      <th>9334</th>\n",
       "      <td>3</td>\n",
       "      <td>Timestamp: 01/01/15 01:05:58</td>\n",
       "      <td>XK00001402</td>\n",
       "      <td>61</td>\n",
       "      <td>OK</td>\n",
       "      <td>10/09/18 11:53:04</td>\n",
       "      <td>XK00001402</td>\n",
       "      <td>3</td>\n",
       "      <td>0.595691</td>\n",
       "      <td>0.290698</td>\n",
       "      <td>0.005260</td>\n",
       "      <td>4.746772</td>\n",
       "    </tr>\n",
       "    <tr>\n",
       "      <th>7403</th>\n",
       "      <td>4</td>\n",
       "      <td>Timestamp: 01/01/15 01:06:15</td>\n",
       "      <td>XK00001402</td>\n",
       "      <td>229</td>\n",
       "      <td>OK</td>\n",
       "      <td>12/07/17 14:30:05</td>\n",
       "      <td>WK00001576</td>\n",
       "      <td>4</td>\n",
       "      <td>0.603474</td>\n",
       "      <td>0.309191</td>\n",
       "      <td>0.003827</td>\n",
       "      <td>1.961616</td>\n",
       "    </tr>\n",
       "  </tbody>\n",
       "</table>\n",
       "</div>"
      ],
      "text/plain": [
       "      Product_No                   Timestamp_x Series_No_x  Product_No_x  \\\n",
       "3912           0  Timestamp: 01/01/15 01:01:01  XK00001402          5859   \n",
       "6283           1  Timestamp: 01/01/15 01:03:55  XK00001402          6212   \n",
       "8629           2  Timestamp: 01/01/15 01:04:57  XK00001402          7079   \n",
       "9334           3  Timestamp: 01/01/15 01:05:58  XK00001402            61   \n",
       "7403           4  Timestamp: 01/01/15 01:06:15  XK00001402           229   \n",
       "\n",
       "        class        Timestamp_y Series_No_y  Product_No_y  Turning_Cut_Depth  \\\n",
       "3912  Failure  07/24/16 07:45:08  XK00001402             0           0.637494   \n",
       "6283  Failure  06/20/17 06:18:01  WK00001576             1           0.652844   \n",
       "8629  Failure  06/20/18 00:53:28  WK00001576             2           0.617482   \n",
       "9334       OK  10/09/18 11:53:04  XK00001402             3           0.595691   \n",
       "7403       OK  12/07/17 14:30:05  WK00001576             4           0.603474   \n",
       "\n",
       "      Milling_Gear_Depth  Drilling_Surf_Quality  Drill_Pressure  \n",
       "3912            0.310224               0.004732        3.493444  \n",
       "6283            0.320212               0.004732        1.274442  \n",
       "8629            0.288820               0.003994        1.729314  \n",
       "9334            0.290698               0.005260        4.746772  \n",
       "7403            0.309191               0.003827        1.961616  "
      ]
     },
     "execution_count": 42,
     "metadata": {},
     "output_type": "execute_result"
    }
   ],
   "source": [
    "sp.merge(ms, left_index=True, right_on='Product_No').head()"
   ]
  },
  {
   "cell_type": "markdown",
   "metadata": {},
   "source": [
    "Occasionally, there will be fields with the same in both tables that we do not wish to use to join the tables; they may contain different information, despite having the same name. In this case, Pandas will by default append suffixes `_x` and `_y` to the columns to uniquely identify them."
   ]
  },
  {
   "cell_type": "markdown",
   "metadata": {},
   "source": [
    "### Exercise 6\n",
    "Fix the following `merge` in order to return a non-empty `DataFrame`."
   ]
  },
  {
   "cell_type": "code",
   "execution_count": 43,
   "metadata": {},
   "outputs": [
    {
     "data": {
      "text/html": [
       "<div>\n",
       "<style scoped>\n",
       "    .dataframe tbody tr th:only-of-type {\n",
       "        vertical-align: middle;\n",
       "    }\n",
       "\n",
       "    .dataframe tbody tr th {\n",
       "        vertical-align: top;\n",
       "    }\n",
       "\n",
       "    .dataframe thead th {\n",
       "        text-align: right;\n",
       "    }\n",
       "</style>\n",
       "<table border=\"1\" class=\"dataframe\">\n",
       "  <thead>\n",
       "    <tr style=\"text-align: right;\">\n",
       "      <th></th>\n",
       "      <th>Timestamp</th>\n",
       "      <th>Series_No</th>\n",
       "      <th>Product_No</th>\n",
       "      <th>class</th>\n",
       "      <th>Turning_Cut_Depth</th>\n",
       "      <th>Milling_Gear_Depth</th>\n",
       "      <th>Drilling_Surf_Quality</th>\n",
       "      <th>Drill_Pressure</th>\n",
       "    </tr>\n",
       "  </thead>\n",
       "  <tbody>\n",
       "  </tbody>\n",
       "</table>\n",
       "</div>"
      ],
      "text/plain": [
       "Empty DataFrame\n",
       "Columns: [Timestamp, Series_No, Product_No, class, Turning_Cut_Depth, Milling_Gear_Depth, Drilling_Surf_Quality, Drill_Pressure]\n",
       "Index: []"
      ]
     },
     "execution_count": 43,
     "metadata": {},
     "output_type": "execute_result"
    }
   ],
   "source": [
    "sp.merge(ms).head(10)"
   ]
  },
  {
   "cell_type": "markdown",
   "metadata": {},
   "source": [
    "## Concatenation\n",
    "\n",
    "A common data manipulation is appending rows or columns to a dataset that already conform to the dimensions of the exsiting rows or colums, respectively:"
   ]
  },
  {
   "cell_type": "code",
   "execution_count": 44,
   "metadata": {},
   "outputs": [
    {
     "data": {
      "text/plain": [
       "array([0.94127384, 0.46158642, 0.81647964, 0.38405851, 0.99268492,\n",
       "       0.50933933, 0.1822832 , 0.62863756, 0.85451027, 0.03787666])"
      ]
     },
     "execution_count": 44,
     "metadata": {},
     "output_type": "execute_result"
    }
   ],
   "source": [
    "np.concatenate([np.random.random(5), np.random.random(5)])"
   ]
  },
  {
   "cell_type": "markdown",
   "metadata": {},
   "source": [
    "This operation is also called *binding* or *stacking*.\n",
    "\n",
    "With Pandas' indexed data structures, there are additional considerations as the overlap in index values between two data structures affects how they are concatenate.\n",
    "\n",
    "Lets create 3 dataframes to illustrate the concatenation process."
   ]
  },
  {
   "cell_type": "code",
   "execution_count": 45,
   "metadata": {},
   "outputs": [],
   "source": [
    "df1 = pd.DataFrame({'A': ['A0', 'A1', 'A2', 'A3'],\n",
    "                    'B': ['B0', 'B1', 'B2', 'B3'],\n",
    "                    'C': ['C0', 'C1', 'C2', 'C3'],\n",
    "                    'D': ['D0', 'D1', 'D2', 'D3']},\n",
    "                    index=[0, 1, 2, 3])\n",
    "\n",
    "df2 = pd.DataFrame({'A': ['A4', 'A5', 'A6', 'A7'],\n",
    "                    'B': ['B4', 'B5', 'B6', 'B7'],\n",
    "                    'C': ['C4', 'C5', 'C6', 'C7'],                     \n",
    "                    'D': ['D4', 'D5', 'D6', 'D7']},\n",
    "                    index=[4, 5, 6, 7])\n",
    "\n",
    "df3 = pd.DataFrame({'A': ['A8', 'A9', 'A10', 'A11'],\n",
    "                    'B': ['B8', 'B9', 'B10', 'B11'],\n",
    "                    'C': ['C8', 'C9', 'C10', 'C11'],\n",
    "                    'D': ['D8', 'D9', 'D10', 'D11']},\n",
    "                    index=[8, 9, 10, 11])\n",
    "\n",
    "frames = [df1, df2, df3]"
   ]
  },
  {
   "cell_type": "code",
   "execution_count": 46,
   "metadata": {},
   "outputs": [
    {
     "data": {
      "text/html": [
       "<div>\n",
       "<style scoped>\n",
       "    .dataframe tbody tr th:only-of-type {\n",
       "        vertical-align: middle;\n",
       "    }\n",
       "\n",
       "    .dataframe tbody tr th {\n",
       "        vertical-align: top;\n",
       "    }\n",
       "\n",
       "    .dataframe thead th {\n",
       "        text-align: right;\n",
       "    }\n",
       "</style>\n",
       "<table border=\"1\" class=\"dataframe\">\n",
       "  <thead>\n",
       "    <tr style=\"text-align: right;\">\n",
       "      <th></th>\n",
       "      <th>A</th>\n",
       "      <th>B</th>\n",
       "      <th>C</th>\n",
       "      <th>D</th>\n",
       "    </tr>\n",
       "  </thead>\n",
       "  <tbody>\n",
       "    <tr>\n",
       "      <th>0</th>\n",
       "      <td>A0</td>\n",
       "      <td>B0</td>\n",
       "      <td>C0</td>\n",
       "      <td>D0</td>\n",
       "    </tr>\n",
       "    <tr>\n",
       "      <th>1</th>\n",
       "      <td>A1</td>\n",
       "      <td>B1</td>\n",
       "      <td>C1</td>\n",
       "      <td>D1</td>\n",
       "    </tr>\n",
       "    <tr>\n",
       "      <th>2</th>\n",
       "      <td>A2</td>\n",
       "      <td>B2</td>\n",
       "      <td>C2</td>\n",
       "      <td>D2</td>\n",
       "    </tr>\n",
       "    <tr>\n",
       "      <th>3</th>\n",
       "      <td>A3</td>\n",
       "      <td>B3</td>\n",
       "      <td>C3</td>\n",
       "      <td>D3</td>\n",
       "    </tr>\n",
       "  </tbody>\n",
       "</table>\n",
       "</div>"
      ],
      "text/plain": [
       "    A   B   C   D\n",
       "0  A0  B0  C0  D0\n",
       "1  A1  B1  C1  D1\n",
       "2  A2  B2  C2  D2\n",
       "3  A3  B3  C3  D3"
      ]
     },
     "execution_count": 46,
     "metadata": {},
     "output_type": "execute_result"
    }
   ],
   "source": [
    "df1.head()"
   ]
  },
  {
   "cell_type": "code",
   "execution_count": 47,
   "metadata": {},
   "outputs": [
    {
     "data": {
      "text/html": [
       "<div>\n",
       "<style scoped>\n",
       "    .dataframe tbody tr th:only-of-type {\n",
       "        vertical-align: middle;\n",
       "    }\n",
       "\n",
       "    .dataframe tbody tr th {\n",
       "        vertical-align: top;\n",
       "    }\n",
       "\n",
       "    .dataframe thead th {\n",
       "        text-align: right;\n",
       "    }\n",
       "</style>\n",
       "<table border=\"1\" class=\"dataframe\">\n",
       "  <thead>\n",
       "    <tr style=\"text-align: right;\">\n",
       "      <th></th>\n",
       "      <th>A</th>\n",
       "      <th>B</th>\n",
       "      <th>C</th>\n",
       "      <th>D</th>\n",
       "    </tr>\n",
       "  </thead>\n",
       "  <tbody>\n",
       "    <tr>\n",
       "      <th>0</th>\n",
       "      <td>A0</td>\n",
       "      <td>B0</td>\n",
       "      <td>C0</td>\n",
       "      <td>D0</td>\n",
       "    </tr>\n",
       "    <tr>\n",
       "      <th>1</th>\n",
       "      <td>A1</td>\n",
       "      <td>B1</td>\n",
       "      <td>C1</td>\n",
       "      <td>D1</td>\n",
       "    </tr>\n",
       "    <tr>\n",
       "      <th>2</th>\n",
       "      <td>A2</td>\n",
       "      <td>B2</td>\n",
       "      <td>C2</td>\n",
       "      <td>D2</td>\n",
       "    </tr>\n",
       "    <tr>\n",
       "      <th>3</th>\n",
       "      <td>A3</td>\n",
       "      <td>B3</td>\n",
       "      <td>C3</td>\n",
       "      <td>D3</td>\n",
       "    </tr>\n",
       "    <tr>\n",
       "      <th>4</th>\n",
       "      <td>A4</td>\n",
       "      <td>B4</td>\n",
       "      <td>C4</td>\n",
       "      <td>D4</td>\n",
       "    </tr>\n",
       "    <tr>\n",
       "      <th>5</th>\n",
       "      <td>A5</td>\n",
       "      <td>B5</td>\n",
       "      <td>C5</td>\n",
       "      <td>D5</td>\n",
       "    </tr>\n",
       "    <tr>\n",
       "      <th>6</th>\n",
       "      <td>A6</td>\n",
       "      <td>B6</td>\n",
       "      <td>C6</td>\n",
       "      <td>D6</td>\n",
       "    </tr>\n",
       "    <tr>\n",
       "      <th>7</th>\n",
       "      <td>A7</td>\n",
       "      <td>B7</td>\n",
       "      <td>C7</td>\n",
       "      <td>D7</td>\n",
       "    </tr>\n",
       "    <tr>\n",
       "      <th>8</th>\n",
       "      <td>A8</td>\n",
       "      <td>B8</td>\n",
       "      <td>C8</td>\n",
       "      <td>D8</td>\n",
       "    </tr>\n",
       "    <tr>\n",
       "      <th>9</th>\n",
       "      <td>A9</td>\n",
       "      <td>B9</td>\n",
       "      <td>C9</td>\n",
       "      <td>D9</td>\n",
       "    </tr>\n",
       "    <tr>\n",
       "      <th>10</th>\n",
       "      <td>A10</td>\n",
       "      <td>B10</td>\n",
       "      <td>C10</td>\n",
       "      <td>D10</td>\n",
       "    </tr>\n",
       "    <tr>\n",
       "      <th>11</th>\n",
       "      <td>A11</td>\n",
       "      <td>B11</td>\n",
       "      <td>C11</td>\n",
       "      <td>D11</td>\n",
       "    </tr>\n",
       "  </tbody>\n",
       "</table>\n",
       "</div>"
      ],
      "text/plain": [
       "      A    B    C    D\n",
       "0    A0   B0   C0   D0\n",
       "1    A1   B1   C1   D1\n",
       "2    A2   B2   C2   D2\n",
       "3    A3   B3   C3   D3\n",
       "4    A4   B4   C4   D4\n",
       "5    A5   B5   C5   D5\n",
       "6    A6   B6   C6   D6\n",
       "7    A7   B7   C7   D7\n",
       "8    A8   B8   C8   D8\n",
       "9    A9   B9   C9   D9\n",
       "10  A10  B10  C10  D10\n",
       "11  A11  B11  C11  D11"
      ]
     },
     "execution_count": 47,
     "metadata": {},
     "output_type": "execute_result"
    }
   ],
   "source": [
    "pd.concat([df1, df2, df3])"
   ]
  },
  {
   "cell_type": "code",
   "execution_count": 48,
   "metadata": {},
   "outputs": [
    {
     "data": {
      "text/plain": [
       "True"
      ]
     },
     "execution_count": 48,
     "metadata": {},
     "output_type": "execute_result"
    }
   ],
   "source": [
    "df1.index.is_unique"
   ]
  },
  {
   "cell_type": "markdown",
   "metadata": {},
   "source": [
    "Concatenating along `axis=1` will concatenate column-wise, but respecting the indices of the two `DataFrames`."
   ]
  },
  {
   "cell_type": "code",
   "execution_count": 49,
   "metadata": {},
   "outputs": [
    {
     "data": {
      "text/plain": [
       "(8, 8)"
      ]
     },
     "execution_count": 49,
     "metadata": {},
     "output_type": "execute_result"
    }
   ],
   "source": [
    "pd.concat([df1, df2], axis=1).shape"
   ]
  },
  {
   "cell_type": "code",
   "execution_count": 50,
   "metadata": {},
   "outputs": [
    {
     "data": {
      "text/html": [
       "<div>\n",
       "<style scoped>\n",
       "    .dataframe tbody tr th:only-of-type {\n",
       "        vertical-align: middle;\n",
       "    }\n",
       "\n",
       "    .dataframe tbody tr th {\n",
       "        vertical-align: top;\n",
       "    }\n",
       "\n",
       "    .dataframe thead th {\n",
       "        text-align: right;\n",
       "    }\n",
       "</style>\n",
       "<table border=\"1\" class=\"dataframe\">\n",
       "  <thead>\n",
       "    <tr style=\"text-align: right;\">\n",
       "      <th></th>\n",
       "      <th>A</th>\n",
       "      <th>B</th>\n",
       "      <th>C</th>\n",
       "      <th>D</th>\n",
       "      <th>A</th>\n",
       "      <th>B</th>\n",
       "      <th>C</th>\n",
       "      <th>D</th>\n",
       "    </tr>\n",
       "  </thead>\n",
       "  <tbody>\n",
       "    <tr>\n",
       "      <th>0</th>\n",
       "      <td>A0</td>\n",
       "      <td>B0</td>\n",
       "      <td>C0</td>\n",
       "      <td>D0</td>\n",
       "      <td>NaN</td>\n",
       "      <td>NaN</td>\n",
       "      <td>NaN</td>\n",
       "      <td>NaN</td>\n",
       "    </tr>\n",
       "    <tr>\n",
       "      <th>1</th>\n",
       "      <td>A1</td>\n",
       "      <td>B1</td>\n",
       "      <td>C1</td>\n",
       "      <td>D1</td>\n",
       "      <td>NaN</td>\n",
       "      <td>NaN</td>\n",
       "      <td>NaN</td>\n",
       "      <td>NaN</td>\n",
       "    </tr>\n",
       "    <tr>\n",
       "      <th>2</th>\n",
       "      <td>A2</td>\n",
       "      <td>B2</td>\n",
       "      <td>C2</td>\n",
       "      <td>D2</td>\n",
       "      <td>NaN</td>\n",
       "      <td>NaN</td>\n",
       "      <td>NaN</td>\n",
       "      <td>NaN</td>\n",
       "    </tr>\n",
       "    <tr>\n",
       "      <th>3</th>\n",
       "      <td>A3</td>\n",
       "      <td>B3</td>\n",
       "      <td>C3</td>\n",
       "      <td>D3</td>\n",
       "      <td>NaN</td>\n",
       "      <td>NaN</td>\n",
       "      <td>NaN</td>\n",
       "      <td>NaN</td>\n",
       "    </tr>\n",
       "    <tr>\n",
       "      <th>4</th>\n",
       "      <td>NaN</td>\n",
       "      <td>NaN</td>\n",
       "      <td>NaN</td>\n",
       "      <td>NaN</td>\n",
       "      <td>A4</td>\n",
       "      <td>B4</td>\n",
       "      <td>C4</td>\n",
       "      <td>D4</td>\n",
       "    </tr>\n",
       "    <tr>\n",
       "      <th>5</th>\n",
       "      <td>NaN</td>\n",
       "      <td>NaN</td>\n",
       "      <td>NaN</td>\n",
       "      <td>NaN</td>\n",
       "      <td>A5</td>\n",
       "      <td>B5</td>\n",
       "      <td>C5</td>\n",
       "      <td>D5</td>\n",
       "    </tr>\n",
       "    <tr>\n",
       "      <th>6</th>\n",
       "      <td>NaN</td>\n",
       "      <td>NaN</td>\n",
       "      <td>NaN</td>\n",
       "      <td>NaN</td>\n",
       "      <td>A6</td>\n",
       "      <td>B6</td>\n",
       "      <td>C6</td>\n",
       "      <td>D6</td>\n",
       "    </tr>\n",
       "    <tr>\n",
       "      <th>7</th>\n",
       "      <td>NaN</td>\n",
       "      <td>NaN</td>\n",
       "      <td>NaN</td>\n",
       "      <td>NaN</td>\n",
       "      <td>A7</td>\n",
       "      <td>B7</td>\n",
       "      <td>C7</td>\n",
       "      <td>D7</td>\n",
       "    </tr>\n",
       "  </tbody>\n",
       "</table>\n",
       "</div>"
      ],
      "text/plain": [
       "     A    B    C    D    A    B    C    D\n",
       "0   A0   B0   C0   D0  NaN  NaN  NaN  NaN\n",
       "1   A1   B1   C1   D1  NaN  NaN  NaN  NaN\n",
       "2   A2   B2   C2   D2  NaN  NaN  NaN  NaN\n",
       "3   A3   B3   C3   D3  NaN  NaN  NaN  NaN\n",
       "4  NaN  NaN  NaN  NaN   A4   B4   C4   D4\n",
       "5  NaN  NaN  NaN  NaN   A5   B5   C5   D5\n",
       "6  NaN  NaN  NaN  NaN   A6   B6   C6   D6\n",
       "7  NaN  NaN  NaN  NaN   A7   B7   C7   D7"
      ]
     },
     "execution_count": 50,
     "metadata": {},
     "output_type": "execute_result"
    }
   ],
   "source": [
    "pd.concat([df1, df2], axis=1)"
   ]
  },
  {
   "cell_type": "markdown",
   "metadata": {},
   "source": [
    "## Reshaping DataFrame objects\n",
    "\n",
    "In the context of a single DataFrame, we are often interested in re-arranging the layout of our data. "
   ]
  },
  {
   "cell_type": "markdown",
   "metadata": {},
   "source": [
    "This dataset is from Table 6.9 of [Statistical Methods for the Analysis of Repeated Measurements](http://www.amazon.com/Statistical-Methods-Analysis-Repeated-Measurements/dp/0387953701) by Charles S. Davis, pp. 161-163 (Springer, 2002). These data are from a multicenter, randomized controlled trial of botulinum toxin type B (BotB) in patients with cervical dystonia from nine U.S. sites.\n",
    "\n",
    "* Randomized to placebo (N=36), 5000 units of BotB (N=36), 10,000 units of BotB (N=37)\n",
    "* Response variable: total score on Toronto Western Spasmodic Torticollis Rating Scale (TWSTRS), measuring severity, pain, and disability of cervical dystonia (high scores mean more impairment)\n",
    "* TWSTRS measured at baseline (week 0) and weeks 2, 4, 8, 12, 16 after treatment began"
   ]
  },
  {
   "cell_type": "code",
   "execution_count": 51,
   "metadata": {},
   "outputs": [
    {
     "data": {
      "text/html": [
       "<div>\n",
       "<style scoped>\n",
       "    .dataframe tbody tr th:only-of-type {\n",
       "        vertical-align: middle;\n",
       "    }\n",
       "\n",
       "    .dataframe tbody tr th {\n",
       "        vertical-align: top;\n",
       "    }\n",
       "\n",
       "    .dataframe thead th {\n",
       "        text-align: right;\n",
       "    }\n",
       "</style>\n",
       "<table border=\"1\" class=\"dataframe\">\n",
       "  <thead>\n",
       "    <tr style=\"text-align: right;\">\n",
       "      <th></th>\n",
       "      <th>Timestamp</th>\n",
       "      <th>Series_No</th>\n",
       "      <th>Product_No</th>\n",
       "      <th>Turning_Cut_Depth</th>\n",
       "      <th>Milling_Gear_Depth</th>\n",
       "      <th>Drilling_Surf_Quality</th>\n",
       "      <th>Drill_Pressure</th>\n",
       "    </tr>\n",
       "  </thead>\n",
       "  <tbody>\n",
       "    <tr>\n",
       "      <th>0</th>\n",
       "      <td>01/01/15 01:01:01</td>\n",
       "      <td>XK00001402</td>\n",
       "      <td>5859</td>\n",
       "      <td>0.615159</td>\n",
       "      <td>0.302045</td>\n",
       "      <td>0.652705</td>\n",
       "      <td>3.532358</td>\n",
       "    </tr>\n",
       "    <tr>\n",
       "      <th>1</th>\n",
       "      <td>01/01/15 01:03:55</td>\n",
       "      <td>XK00001402</td>\n",
       "      <td>6212</td>\n",
       "      <td>0.645414</td>\n",
       "      <td>0.320177</td>\n",
       "      <td>0.207444</td>\n",
       "      <td>4.014133</td>\n",
       "    </tr>\n",
       "    <tr>\n",
       "      <th>2</th>\n",
       "      <td>01/01/15 01:04:57</td>\n",
       "      <td>XK00001402</td>\n",
       "      <td>7079</td>\n",
       "      <td>0.637861</td>\n",
       "      <td>0.302711</td>\n",
       "      <td>0.909993</td>\n",
       "      <td>4.377263</td>\n",
       "    </tr>\n",
       "    <tr>\n",
       "      <th>3</th>\n",
       "      <td>01/01/15 01:05:58</td>\n",
       "      <td>XK00001402</td>\n",
       "      <td>61</td>\n",
       "      <td>0.635685</td>\n",
       "      <td>0.301639</td>\n",
       "      <td>0.010166</td>\n",
       "      <td>4.190312</td>\n",
       "    </tr>\n",
       "    <tr>\n",
       "      <th>4</th>\n",
       "      <td>01/01/15 01:06:15</td>\n",
       "      <td>XK00001402</td>\n",
       "      <td>229</td>\n",
       "      <td>0.599048</td>\n",
       "      <td>0.296018</td>\n",
       "      <td>0.007966</td>\n",
       "      <td>4.896710</td>\n",
       "    </tr>\n",
       "  </tbody>\n",
       "</table>\n",
       "</div>"
      ],
      "text/plain": [
       "           Timestamp   Series_No  Product_No  Turning_Cut_Depth  \\\n",
       "0  01/01/15 01:01:01  XK00001402        5859           0.615159   \n",
       "1  01/01/15 01:03:55  XK00001402        6212           0.645414   \n",
       "2  01/01/15 01:04:57  XK00001402        7079           0.637861   \n",
       "3  01/01/15 01:05:58  XK00001402          61           0.635685   \n",
       "4  01/01/15 01:06:15  XK00001402         229           0.599048   \n",
       "\n",
       "   Milling_Gear_Depth  Drilling_Surf_Quality  Drill_Pressure  \n",
       "0            0.302045               0.652705        3.532358  \n",
       "1            0.320177               0.207444        4.014133  \n",
       "2            0.302711               0.909993        4.377263  \n",
       "3            0.301639               0.010166        4.190312  \n",
       "4            0.296018               0.007966        4.896710  "
      ]
     },
     "execution_count": 51,
     "metadata": {},
     "output_type": "execute_result"
    }
   ],
   "source": [
    "ms.head()"
   ]
  },
  {
   "cell_type": "markdown",
   "metadata": {},
   "source": [
    "This dataset includes repeated measurements of different products. Its possible to present such information in (at least) two ways: showing each repeated measurement in their own row, or in multiple columns representing multiple measurements.\n"
   ]
  },
  {
   "cell_type": "markdown",
   "metadata": {},
   "source": [
    "The `stack` method rotates the data frame so that columns are represented in rows:"
   ]
  },
  {
   "cell_type": "code",
   "execution_count": 52,
   "metadata": {},
   "outputs": [
    {
     "data": {
      "text/plain": [
       "0  Timestamp                01/01/15 01:01:01\n",
       "   Series_No                       XK00001402\n",
       "   Product_No                            5859\n",
       "   Turning_Cut_Depth                 0.615159\n",
       "   Milling_Gear_Depth                0.302045\n",
       "   Drilling_Surf_Quality             0.652705\n",
       "   Drill_Pressure                     3.53236\n",
       "1  Timestamp                01/01/15 01:03:55\n",
       "   Series_No                       XK00001402\n",
       "   Product_No                            6212\n",
       "   Turning_Cut_Depth                 0.645414\n",
       "   Milling_Gear_Depth                0.320177\n",
       "   Drilling_Surf_Quality             0.207444\n",
       "   Drill_Pressure                     4.01413\n",
       "2  Timestamp                01/01/15 01:04:57\n",
       "dtype: object"
      ]
     },
     "execution_count": 52,
     "metadata": {},
     "output_type": "execute_result"
    }
   ],
   "source": [
    "stacked = ms.stack()\n",
    "stacked.head(15)"
   ]
  },
  {
   "cell_type": "markdown",
   "metadata": {},
   "source": [
    "To complement this, `unstack` pivots from rows back to columns."
   ]
  },
  {
   "cell_type": "code",
   "execution_count": 53,
   "metadata": {},
   "outputs": [
    {
     "data": {
      "text/html": [
       "<div>\n",
       "<style scoped>\n",
       "    .dataframe tbody tr th:only-of-type {\n",
       "        vertical-align: middle;\n",
       "    }\n",
       "\n",
       "    .dataframe tbody tr th {\n",
       "        vertical-align: top;\n",
       "    }\n",
       "\n",
       "    .dataframe thead th {\n",
       "        text-align: right;\n",
       "    }\n",
       "</style>\n",
       "<table border=\"1\" class=\"dataframe\">\n",
       "  <thead>\n",
       "    <tr style=\"text-align: right;\">\n",
       "      <th></th>\n",
       "      <th>Timestamp</th>\n",
       "      <th>Series_No</th>\n",
       "      <th>Product_No</th>\n",
       "      <th>Turning_Cut_Depth</th>\n",
       "      <th>Milling_Gear_Depth</th>\n",
       "      <th>Drilling_Surf_Quality</th>\n",
       "      <th>Drill_Pressure</th>\n",
       "    </tr>\n",
       "  </thead>\n",
       "  <tbody>\n",
       "    <tr>\n",
       "      <th>0</th>\n",
       "      <td>01/01/15 01:01:01</td>\n",
       "      <td>XK00001402</td>\n",
       "      <td>5859</td>\n",
       "      <td>0.615159</td>\n",
       "      <td>0.302045</td>\n",
       "      <td>0.652705</td>\n",
       "      <td>3.53236</td>\n",
       "    </tr>\n",
       "    <tr>\n",
       "      <th>1</th>\n",
       "      <td>01/01/15 01:03:55</td>\n",
       "      <td>XK00001402</td>\n",
       "      <td>6212</td>\n",
       "      <td>0.645414</td>\n",
       "      <td>0.320177</td>\n",
       "      <td>0.207444</td>\n",
       "      <td>4.01413</td>\n",
       "    </tr>\n",
       "    <tr>\n",
       "      <th>2</th>\n",
       "      <td>01/01/15 01:04:57</td>\n",
       "      <td>XK00001402</td>\n",
       "      <td>7079</td>\n",
       "      <td>0.637861</td>\n",
       "      <td>0.302711</td>\n",
       "      <td>0.909993</td>\n",
       "      <td>4.37726</td>\n",
       "    </tr>\n",
       "    <tr>\n",
       "      <th>3</th>\n",
       "      <td>01/01/15 01:05:58</td>\n",
       "      <td>XK00001402</td>\n",
       "      <td>61</td>\n",
       "      <td>0.635685</td>\n",
       "      <td>0.301639</td>\n",
       "      <td>0.0101656</td>\n",
       "      <td>4.19031</td>\n",
       "    </tr>\n",
       "    <tr>\n",
       "      <th>4</th>\n",
       "      <td>01/01/15 01:06:15</td>\n",
       "      <td>XK00001402</td>\n",
       "      <td>229</td>\n",
       "      <td>0.599048</td>\n",
       "      <td>0.296018</td>\n",
       "      <td>0.00796608</td>\n",
       "      <td>4.89671</td>\n",
       "    </tr>\n",
       "  </tbody>\n",
       "</table>\n",
       "</div>"
      ],
      "text/plain": [
       "           Timestamp   Series_No Product_No Turning_Cut_Depth  \\\n",
       "0  01/01/15 01:01:01  XK00001402       5859          0.615159   \n",
       "1  01/01/15 01:03:55  XK00001402       6212          0.645414   \n",
       "2  01/01/15 01:04:57  XK00001402       7079          0.637861   \n",
       "3  01/01/15 01:05:58  XK00001402         61          0.635685   \n",
       "4  01/01/15 01:06:15  XK00001402        229          0.599048   \n",
       "\n",
       "  Milling_Gear_Depth Drilling_Surf_Quality Drill_Pressure  \n",
       "0           0.302045              0.652705        3.53236  \n",
       "1           0.320177              0.207444        4.01413  \n",
       "2           0.302711              0.909993        4.37726  \n",
       "3           0.301639             0.0101656        4.19031  \n",
       "4           0.296018            0.00796608        4.89671  "
      ]
     },
     "execution_count": 53,
     "metadata": {},
     "output_type": "execute_result"
    }
   ],
   "source": [
    "stacked.unstack().head()"
   ]
  },
  {
   "cell_type": "markdown",
   "metadata": {},
   "source": [
    "For this dataset, it makes sense to create a hierarchical index based on the patient and observation:"
   ]
  },
  {
   "cell_type": "markdown",
   "metadata": {},
   "source": [
    "## Pivoting\n",
    "\n",
    "The `pivot` method allows a DataFrame to be transformed easily between long and wide formats in the same way as a pivot table is created in a spreadsheet. It takes three arguments: `index`, `columns` and `values`, corresponding to the DataFrame index (the row headers), columns and cell values, respectively.\n",
    "\n",
    "For example, we may want the `Turning_Cut_Depth` variable (the response variable) in wide format according to the Product_No:"
   ]
  },
  {
   "cell_type": "code",
   "execution_count": 56,
   "metadata": {},
   "outputs": [
    {
     "data": {
      "text/html": [
       "<div>\n",
       "<style scoped>\n",
       "    .dataframe tbody tr th:only-of-type {\n",
       "        vertical-align: middle;\n",
       "    }\n",
       "\n",
       "    .dataframe tbody tr th {\n",
       "        vertical-align: top;\n",
       "    }\n",
       "\n",
       "    .dataframe thead th {\n",
       "        text-align: right;\n",
       "    }\n",
       "</style>\n",
       "<table border=\"1\" class=\"dataframe\">\n",
       "  <thead>\n",
       "    <tr style=\"text-align: right;\">\n",
       "      <th></th>\n",
       "      <th>Test_No</th>\n",
       "      <th>Product_No</th>\n",
       "      <th>Site</th>\n",
       "      <th>Series_No</th>\n",
       "      <th>Turning_Cut_Depth</th>\n",
       "      <th>Milling_Gear_Depth</th>\n",
       "      <th>Drilling_Surf_Quality</th>\n",
       "      <th>Drill_Pressure</th>\n",
       "    </tr>\n",
       "  </thead>\n",
       "  <tbody>\n",
       "    <tr>\n",
       "      <th>0</th>\n",
       "      <td>1</td>\n",
       "      <td>1</td>\n",
       "      <td>1</td>\n",
       "      <td>YZ00001723</td>\n",
       "      <td>0.637494</td>\n",
       "      <td>0.310224</td>\n",
       "      <td>0.004732</td>\n",
       "      <td>3.493444e+15</td>\n",
       "    </tr>\n",
       "    <tr>\n",
       "      <th>1</th>\n",
       "      <td>2</td>\n",
       "      <td>1</td>\n",
       "      <td>1</td>\n",
       "      <td>YZ00001723</td>\n",
       "      <td>0.609082</td>\n",
       "      <td>0.296397</td>\n",
       "      <td>0.004521</td>\n",
       "      <td>3.337748e+15</td>\n",
       "    </tr>\n",
       "    <tr>\n",
       "      <th>2</th>\n",
       "      <td>3</td>\n",
       "      <td>1</td>\n",
       "      <td>1</td>\n",
       "      <td>YZ00001723</td>\n",
       "      <td>0.652253</td>\n",
       "      <td>0.317406</td>\n",
       "      <td>0.004841</td>\n",
       "      <td>3.574328e+15</td>\n",
       "    </tr>\n",
       "    <tr>\n",
       "      <th>3</th>\n",
       "      <td>4</td>\n",
       "      <td>1</td>\n",
       "      <td>1</td>\n",
       "      <td>YZ00001723</td>\n",
       "      <td>0.684182</td>\n",
       "      <td>0.332944</td>\n",
       "      <td>0.005078</td>\n",
       "      <td>3.749298e+15</td>\n",
       "    </tr>\n",
       "    <tr>\n",
       "      <th>4</th>\n",
       "      <td>5</td>\n",
       "      <td>1</td>\n",
       "      <td>1</td>\n",
       "      <td>YZ00001723</td>\n",
       "      <td>0.636033</td>\n",
       "      <td>0.309513</td>\n",
       "      <td>0.004721</td>\n",
       "      <td>3.485438e+15</td>\n",
       "    </tr>\n",
       "    <tr>\n",
       "      <th>5</th>\n",
       "      <td>6</td>\n",
       "      <td>1</td>\n",
       "      <td>1</td>\n",
       "      <td>YZ00001723</td>\n",
       "      <td>0.684072</td>\n",
       "      <td>0.332890</td>\n",
       "      <td>0.005078</td>\n",
       "      <td>3.748692e+15</td>\n",
       "    </tr>\n",
       "    <tr>\n",
       "      <th>6</th>\n",
       "      <td>1</td>\n",
       "      <td>2</td>\n",
       "      <td>1</td>\n",
       "      <td>YZ00001723</td>\n",
       "      <td>0.632855</td>\n",
       "      <td>0.301637</td>\n",
       "      <td>0.007148</td>\n",
       "      <td>1.158858e+15</td>\n",
       "    </tr>\n",
       "    <tr>\n",
       "      <th>7</th>\n",
       "      <td>2</td>\n",
       "      <td>2</td>\n",
       "      <td>1</td>\n",
       "      <td>YZ00001723</td>\n",
       "      <td>0.572760</td>\n",
       "      <td>0.272994</td>\n",
       "      <td>0.006470</td>\n",
       "      <td>1.048813e+15</td>\n",
       "    </tr>\n",
       "    <tr>\n",
       "      <th>8</th>\n",
       "      <td>3</td>\n",
       "      <td>2</td>\n",
       "      <td>1</td>\n",
       "      <td>YZ00001723</td>\n",
       "      <td>0.554027</td>\n",
       "      <td>0.264065</td>\n",
       "      <td>0.006258</td>\n",
       "      <td>1.014511e+15</td>\n",
       "    </tr>\n",
       "    <tr>\n",
       "      <th>9</th>\n",
       "      <td>4</td>\n",
       "      <td>2</td>\n",
       "      <td>1</td>\n",
       "      <td>YZ00001723</td>\n",
       "      <td>0.519736</td>\n",
       "      <td>0.247721</td>\n",
       "      <td>0.005871</td>\n",
       "      <td>9.517193e+14</td>\n",
       "    </tr>\n",
       "  </tbody>\n",
       "</table>\n",
       "</div>"
      ],
      "text/plain": [
       "   Test_No  Product_No  Site   Series_No  Turning_Cut_Depth  \\\n",
       "0        1           1     1  YZ00001723           0.637494   \n",
       "1        2           1     1  YZ00001723           0.609082   \n",
       "2        3           1     1  YZ00001723           0.652253   \n",
       "3        4           1     1  YZ00001723           0.684182   \n",
       "4        5           1     1  YZ00001723           0.636033   \n",
       "5        6           1     1  YZ00001723           0.684072   \n",
       "6        1           2     1  YZ00001723           0.632855   \n",
       "7        2           2     1  YZ00001723           0.572760   \n",
       "8        3           2     1  YZ00001723           0.554027   \n",
       "9        4           2     1  YZ00001723           0.519736   \n",
       "\n",
       "   Milling_Gear_Depth  Drilling_Surf_Quality  Drill_Pressure  \n",
       "0            0.310224               0.004732    3.493444e+15  \n",
       "1            0.296397               0.004521    3.337748e+15  \n",
       "2            0.317406               0.004841    3.574328e+15  \n",
       "3            0.332944               0.005078    3.749298e+15  \n",
       "4            0.309513               0.004721    3.485438e+15  \n",
       "5            0.332890               0.005078    3.748692e+15  \n",
       "6            0.301637               0.007148    1.158858e+15  \n",
       "7            0.272994               0.006470    1.048813e+15  \n",
       "8            0.264065               0.006258    1.014511e+15  \n",
       "9            0.247721               0.005871    9.517193e+14  "
      ]
     },
     "execution_count": 56,
     "metadata": {},
     "output_type": "execute_result"
    }
   ],
   "source": [
    "mt = pd.read_excel(\"Data/mechanical_testing.xls\")\n",
    "mt.head(10)"
   ]
  },
  {
   "cell_type": "code",
   "execution_count": 57,
   "metadata": {},
   "outputs": [
    {
     "data": {
      "text/html": [
       "<div>\n",
       "<style scoped>\n",
       "    .dataframe tbody tr th:only-of-type {\n",
       "        vertical-align: middle;\n",
       "    }\n",
       "\n",
       "    .dataframe tbody tr th {\n",
       "        vertical-align: top;\n",
       "    }\n",
       "\n",
       "    .dataframe thead th {\n",
       "        text-align: right;\n",
       "    }\n",
       "</style>\n",
       "<table border=\"1\" class=\"dataframe\">\n",
       "  <thead>\n",
       "    <tr style=\"text-align: right;\">\n",
       "      <th>Test_No</th>\n",
       "      <th>1</th>\n",
       "      <th>2</th>\n",
       "      <th>3</th>\n",
       "      <th>4</th>\n",
       "      <th>5</th>\n",
       "      <th>6</th>\n",
       "    </tr>\n",
       "    <tr>\n",
       "      <th>Product_No</th>\n",
       "      <th></th>\n",
       "      <th></th>\n",
       "      <th></th>\n",
       "      <th></th>\n",
       "      <th></th>\n",
       "      <th></th>\n",
       "    </tr>\n",
       "  </thead>\n",
       "  <tbody>\n",
       "    <tr>\n",
       "      <th>1</th>\n",
       "      <td>0.637494</td>\n",
       "      <td>0.609082</td>\n",
       "      <td>0.652253</td>\n",
       "      <td>0.684182</td>\n",
       "      <td>0.636033</td>\n",
       "      <td>0.684072</td>\n",
       "    </tr>\n",
       "    <tr>\n",
       "      <th>2</th>\n",
       "      <td>0.632855</td>\n",
       "      <td>0.572760</td>\n",
       "      <td>0.554027</td>\n",
       "      <td>0.519736</td>\n",
       "      <td>0.531624</td>\n",
       "      <td>0.538097</td>\n",
       "    </tr>\n",
       "    <tr>\n",
       "      <th>3</th>\n",
       "      <td>0.595691</td>\n",
       "      <td>0.568819</td>\n",
       "      <td>0.572353</td>\n",
       "      <td>0.565129</td>\n",
       "      <td>0.596996</td>\n",
       "      <td>0.610263</td>\n",
       "    </tr>\n",
       "    <tr>\n",
       "      <th>4</th>\n",
       "      <td>0.648470</td>\n",
       "      <td>0.585047</td>\n",
       "      <td>0.597650</td>\n",
       "      <td>0.583354</td>\n",
       "      <td>0.533717</td>\n",
       "      <td>0.484703</td>\n",
       "    </tr>\n",
       "    <tr>\n",
       "      <th>5</th>\n",
       "      <td>0.532740</td>\n",
       "      <td>0.571890</td>\n",
       "      <td>0.588832</td>\n",
       "      <td>0.603383</td>\n",
       "      <td>0.590256</td>\n",
       "      <td>0.598110</td>\n",
       "    </tr>\n",
       "    <tr>\n",
       "      <th>6</th>\n",
       "      <td>0.638477</td>\n",
       "      <td>0.692714</td>\n",
       "      <td>0.735238</td>\n",
       "      <td>0.724158</td>\n",
       "      <td>0.660666</td>\n",
       "      <td>0.632133</td>\n",
       "    </tr>\n",
       "    <tr>\n",
       "      <th>7</th>\n",
       "      <td>0.637793</td>\n",
       "      <td>0.669767</td>\n",
       "      <td>0.719562</td>\n",
       "      <td>0.772581</td>\n",
       "      <td>0.787702</td>\n",
       "      <td>0.775964</td>\n",
       "    </tr>\n",
       "    <tr>\n",
       "      <th>8</th>\n",
       "      <td>0.714647</td>\n",
       "      <td>0.656053</td>\n",
       "      <td>0.669181</td>\n",
       "      <td>0.777190</td>\n",
       "      <td>0.768775</td>\n",
       "      <td>0.726403</td>\n",
       "    </tr>\n",
       "    <tr>\n",
       "      <th>9</th>\n",
       "      <td>0.665860</td>\n",
       "      <td>0.634395</td>\n",
       "      <td>0.724573</td>\n",
       "      <td>0.728811</td>\n",
       "      <td>0.600190</td>\n",
       "      <td>0.625805</td>\n",
       "    </tr>\n",
       "    <tr>\n",
       "      <th>10</th>\n",
       "      <td>0.682531</td>\n",
       "      <td>0.738027</td>\n",
       "      <td>0.744495</td>\n",
       "      <td>0.731462</td>\n",
       "      <td>0.685847</td>\n",
       "      <td>0.732039</td>\n",
       "    </tr>\n",
       "  </tbody>\n",
       "</table>\n",
       "</div>"
      ],
      "text/plain": [
       "Test_No            1         2         3         4         5         6\n",
       "Product_No                                                            \n",
       "1           0.637494  0.609082  0.652253  0.684182  0.636033  0.684072\n",
       "2           0.632855  0.572760  0.554027  0.519736  0.531624  0.538097\n",
       "3           0.595691  0.568819  0.572353  0.565129  0.596996  0.610263\n",
       "4           0.648470  0.585047  0.597650  0.583354  0.533717  0.484703\n",
       "5           0.532740  0.571890  0.588832  0.603383  0.590256  0.598110\n",
       "6           0.638477  0.692714  0.735238  0.724158  0.660666  0.632133\n",
       "7           0.637793  0.669767  0.719562  0.772581  0.787702  0.775964\n",
       "8           0.714647  0.656053  0.669181  0.777190  0.768775  0.726403\n",
       "9           0.665860  0.634395  0.724573  0.728811  0.600190  0.625805\n",
       "10          0.682531  0.738027  0.744495  0.731462  0.685847  0.732039"
      ]
     },
     "execution_count": 57,
     "metadata": {},
     "output_type": "execute_result"
    }
   ],
   "source": [
    "turning = mt.pivot(index='Product_No', columns='Test_No', values='Turning_Cut_Depth').head(10)\n",
    "turning"
   ]
  },
  {
   "cell_type": "code",
   "execution_count": 58,
   "metadata": {},
   "outputs": [
    {
     "data": {
      "text/html": [
       "<div>\n",
       "<style scoped>\n",
       "    .dataframe tbody tr th:only-of-type {\n",
       "        vertical-align: middle;\n",
       "    }\n",
       "\n",
       "    .dataframe tbody tr th {\n",
       "        vertical-align: top;\n",
       "    }\n",
       "\n",
       "    .dataframe thead th {\n",
       "        text-align: right;\n",
       "    }\n",
       "</style>\n",
       "<table border=\"1\" class=\"dataframe\">\n",
       "  <thead>\n",
       "    <tr style=\"text-align: right;\">\n",
       "      <th></th>\n",
       "      <th>Product_No</th>\n",
       "      <th>1</th>\n",
       "      <th>2</th>\n",
       "      <th>3</th>\n",
       "      <th>4</th>\n",
       "      <th>5</th>\n",
       "      <th>6</th>\n",
       "    </tr>\n",
       "  </thead>\n",
       "  <tbody>\n",
       "    <tr>\n",
       "      <th>0</th>\n",
       "      <td>1</td>\n",
       "      <td>0.637494</td>\n",
       "      <td>0.609082</td>\n",
       "      <td>0.652253</td>\n",
       "      <td>0.684182</td>\n",
       "      <td>0.636033</td>\n",
       "      <td>0.684072</td>\n",
       "    </tr>\n",
       "    <tr>\n",
       "      <th>6</th>\n",
       "      <td>2</td>\n",
       "      <td>0.632855</td>\n",
       "      <td>0.572760</td>\n",
       "      <td>0.554027</td>\n",
       "      <td>0.519736</td>\n",
       "      <td>0.531624</td>\n",
       "      <td>0.538097</td>\n",
       "    </tr>\n",
       "    <tr>\n",
       "      <th>12</th>\n",
       "      <td>3</td>\n",
       "      <td>0.595691</td>\n",
       "      <td>0.568819</td>\n",
       "      <td>0.572353</td>\n",
       "      <td>0.565129</td>\n",
       "      <td>0.596996</td>\n",
       "      <td>0.610263</td>\n",
       "    </tr>\n",
       "    <tr>\n",
       "      <th>18</th>\n",
       "      <td>4</td>\n",
       "      <td>0.648470</td>\n",
       "      <td>0.585047</td>\n",
       "      <td>0.597650</td>\n",
       "      <td>0.583354</td>\n",
       "      <td>0.533717</td>\n",
       "      <td>0.484703</td>\n",
       "    </tr>\n",
       "    <tr>\n",
       "      <th>24</th>\n",
       "      <td>5</td>\n",
       "      <td>0.532740</td>\n",
       "      <td>0.571890</td>\n",
       "      <td>0.588832</td>\n",
       "      <td>0.603383</td>\n",
       "      <td>0.590256</td>\n",
       "      <td>0.598110</td>\n",
       "    </tr>\n",
       "    <tr>\n",
       "      <th>30</th>\n",
       "      <td>6</td>\n",
       "      <td>0.638477</td>\n",
       "      <td>0.692714</td>\n",
       "      <td>0.735238</td>\n",
       "      <td>0.724158</td>\n",
       "      <td>0.660666</td>\n",
       "      <td>0.632133</td>\n",
       "    </tr>\n",
       "    <tr>\n",
       "      <th>36</th>\n",
       "      <td>7</td>\n",
       "      <td>0.637793</td>\n",
       "      <td>0.669767</td>\n",
       "      <td>0.719562</td>\n",
       "      <td>0.772581</td>\n",
       "      <td>0.787702</td>\n",
       "      <td>0.775964</td>\n",
       "    </tr>\n",
       "    <tr>\n",
       "      <th>42</th>\n",
       "      <td>8</td>\n",
       "      <td>0.714647</td>\n",
       "      <td>0.656053</td>\n",
       "      <td>0.669181</td>\n",
       "      <td>0.777190</td>\n",
       "      <td>0.768775</td>\n",
       "      <td>0.726403</td>\n",
       "    </tr>\n",
       "    <tr>\n",
       "      <th>48</th>\n",
       "      <td>9</td>\n",
       "      <td>0.665860</td>\n",
       "      <td>0.634395</td>\n",
       "      <td>0.724573</td>\n",
       "      <td>0.728811</td>\n",
       "      <td>0.600190</td>\n",
       "      <td>0.625805</td>\n",
       "    </tr>\n",
       "    <tr>\n",
       "      <th>54</th>\n",
       "      <td>10</td>\n",
       "      <td>0.682531</td>\n",
       "      <td>0.738027</td>\n",
       "      <td>0.744495</td>\n",
       "      <td>0.731462</td>\n",
       "      <td>0.685847</td>\n",
       "      <td>0.732039</td>\n",
       "    </tr>\n",
       "  </tbody>\n",
       "</table>\n",
       "</div>"
      ],
      "text/plain": [
       "    Product_No         1         2         3         4         5         6\n",
       "0            1  0.637494  0.609082  0.652253  0.684182  0.636033  0.684072\n",
       "6            2  0.632855  0.572760  0.554027  0.519736  0.531624  0.538097\n",
       "12           3  0.595691  0.568819  0.572353  0.565129  0.596996  0.610263\n",
       "18           4  0.648470  0.585047  0.597650  0.583354  0.533717  0.484703\n",
       "24           5  0.532740  0.571890  0.588832  0.603383  0.590256  0.598110\n",
       "30           6  0.638477  0.692714  0.735238  0.724158  0.660666  0.632133\n",
       "36           7  0.637793  0.669767  0.719562  0.772581  0.787702  0.775964\n",
       "42           8  0.714647  0.656053  0.669181  0.777190  0.768775  0.726403\n",
       "48           9  0.665860  0.634395  0.724573  0.728811  0.600190  0.625805\n",
       "54          10  0.682531  0.738027  0.744495  0.731462  0.685847  0.732039"
      ]
     },
     "execution_count": 58,
     "metadata": {},
     "output_type": "execute_result"
    }
   ],
   "source": [
    "mt_wide = (mt[['Product_No']]\n",
    "                  .drop_duplicates()\n",
    "                  .merge(turning, right_index=True, left_on='Product_No', how='inner')\n",
    "                  .head(10))\n",
    "mt_wide"
   ]
  },
  {
   "cell_type": "markdown",
   "metadata": {},
   "source": [
    "To convert our \"wide\" format back to long, we can use the `melt` function, appropriately parameterized. This function is useful for `DataFrame`s where one\n",
    "or more columns are identifier variables (`id_vars`), with the remaining columns being measured variables (`value_vars`). The measured variables are \"unpivoted\" to\n",
    "the row axis, leaving just two non-identifier columns, a *variable* and its corresponding *value*, which can both be renamed using optional arguments."
   ]
  },
  {
   "cell_type": "code",
   "execution_count": 59,
   "metadata": {},
   "outputs": [
    {
     "data": {
      "text/html": [
       "<div>\n",
       "<style scoped>\n",
       "    .dataframe tbody tr th:only-of-type {\n",
       "        vertical-align: middle;\n",
       "    }\n",
       "\n",
       "    .dataframe tbody tr th {\n",
       "        vertical-align: top;\n",
       "    }\n",
       "\n",
       "    .dataframe thead th {\n",
       "        text-align: right;\n",
       "    }\n",
       "</style>\n",
       "<table border=\"1\" class=\"dataframe\">\n",
       "  <thead>\n",
       "    <tr style=\"text-align: right;\">\n",
       "      <th></th>\n",
       "      <th>Product_No</th>\n",
       "      <th>Test_No</th>\n",
       "      <th>Turning_Cut_Depth</th>\n",
       "    </tr>\n",
       "  </thead>\n",
       "  <tbody>\n",
       "    <tr>\n",
       "      <th>0</th>\n",
       "      <td>1</td>\n",
       "      <td>1</td>\n",
       "      <td>0.637494</td>\n",
       "    </tr>\n",
       "    <tr>\n",
       "      <th>1</th>\n",
       "      <td>2</td>\n",
       "      <td>1</td>\n",
       "      <td>0.632855</td>\n",
       "    </tr>\n",
       "    <tr>\n",
       "      <th>2</th>\n",
       "      <td>3</td>\n",
       "      <td>1</td>\n",
       "      <td>0.595691</td>\n",
       "    </tr>\n",
       "    <tr>\n",
       "      <th>3</th>\n",
       "      <td>4</td>\n",
       "      <td>1</td>\n",
       "      <td>0.648470</td>\n",
       "    </tr>\n",
       "    <tr>\n",
       "      <th>4</th>\n",
       "      <td>5</td>\n",
       "      <td>1</td>\n",
       "      <td>0.532740</td>\n",
       "    </tr>\n",
       "    <tr>\n",
       "      <th>5</th>\n",
       "      <td>6</td>\n",
       "      <td>1</td>\n",
       "      <td>0.638477</td>\n",
       "    </tr>\n",
       "    <tr>\n",
       "      <th>6</th>\n",
       "      <td>7</td>\n",
       "      <td>1</td>\n",
       "      <td>0.637793</td>\n",
       "    </tr>\n",
       "    <tr>\n",
       "      <th>7</th>\n",
       "      <td>8</td>\n",
       "      <td>1</td>\n",
       "      <td>0.714647</td>\n",
       "    </tr>\n",
       "    <tr>\n",
       "      <th>8</th>\n",
       "      <td>9</td>\n",
       "      <td>1</td>\n",
       "      <td>0.665860</td>\n",
       "    </tr>\n",
       "    <tr>\n",
       "      <th>9</th>\n",
       "      <td>10</td>\n",
       "      <td>1</td>\n",
       "      <td>0.682531</td>\n",
       "    </tr>\n",
       "    <tr>\n",
       "      <th>10</th>\n",
       "      <td>1</td>\n",
       "      <td>2</td>\n",
       "      <td>0.609082</td>\n",
       "    </tr>\n",
       "    <tr>\n",
       "      <th>11</th>\n",
       "      <td>2</td>\n",
       "      <td>2</td>\n",
       "      <td>0.572760</td>\n",
       "    </tr>\n",
       "    <tr>\n",
       "      <th>12</th>\n",
       "      <td>3</td>\n",
       "      <td>2</td>\n",
       "      <td>0.568819</td>\n",
       "    </tr>\n",
       "    <tr>\n",
       "      <th>13</th>\n",
       "      <td>4</td>\n",
       "      <td>2</td>\n",
       "      <td>0.585047</td>\n",
       "    </tr>\n",
       "    <tr>\n",
       "      <th>14</th>\n",
       "      <td>5</td>\n",
       "      <td>2</td>\n",
       "      <td>0.571890</td>\n",
       "    </tr>\n",
       "    <tr>\n",
       "      <th>15</th>\n",
       "      <td>6</td>\n",
       "      <td>2</td>\n",
       "      <td>0.692714</td>\n",
       "    </tr>\n",
       "    <tr>\n",
       "      <th>16</th>\n",
       "      <td>7</td>\n",
       "      <td>2</td>\n",
       "      <td>0.669767</td>\n",
       "    </tr>\n",
       "    <tr>\n",
       "      <th>17</th>\n",
       "      <td>8</td>\n",
       "      <td>2</td>\n",
       "      <td>0.656053</td>\n",
       "    </tr>\n",
       "    <tr>\n",
       "      <th>18</th>\n",
       "      <td>9</td>\n",
       "      <td>2</td>\n",
       "      <td>0.634395</td>\n",
       "    </tr>\n",
       "    <tr>\n",
       "      <th>19</th>\n",
       "      <td>10</td>\n",
       "      <td>2</td>\n",
       "      <td>0.738027</td>\n",
       "    </tr>\n",
       "  </tbody>\n",
       "</table>\n",
       "</div>"
      ],
      "text/plain": [
       "    Product_No Test_No  Turning_Cut_Depth\n",
       "0            1       1           0.637494\n",
       "1            2       1           0.632855\n",
       "2            3       1           0.595691\n",
       "3            4       1           0.648470\n",
       "4            5       1           0.532740\n",
       "5            6       1           0.638477\n",
       "6            7       1           0.637793\n",
       "7            8       1           0.714647\n",
       "8            9       1           0.665860\n",
       "9           10       1           0.682531\n",
       "10           1       2           0.609082\n",
       "11           2       2           0.572760\n",
       "12           3       2           0.568819\n",
       "13           4       2           0.585047\n",
       "14           5       2           0.571890\n",
       "15           6       2           0.692714\n",
       "16           7       2           0.669767\n",
       "17           8       2           0.656053\n",
       "18           9       2           0.634395\n",
       "19          10       2           0.738027"
      ]
     },
     "execution_count": 59,
     "metadata": {},
     "output_type": "execute_result"
    }
   ],
   "source": [
    "pd.melt(mt_wide, id_vars=['Product_No'], var_name='Test_No', value_name='Turning_Cut_Depth').head(20)"
   ]
  },
  {
   "cell_type": "markdown",
   "metadata": {},
   "source": [
    "This illustrates the two formats for longitudinal data: **long** and **wide** formats. Its typically better to store data in long format because additional data can be included as additional rows in the database, while wide format requires that the entire database schema be altered by adding columns to every row as data are collected.\n",
    "\n",
    "The preferable format for analysis depends entirely on what is planned for the data, so it is imporant to be able to move easily between them."
   ]
  },
  {
   "cell_type": "markdown",
   "metadata": {},
   "source": [
    "A related method, `pivot_table`, creates a spreadsheet-like table with a hierarchical index, and allows the values of the table to be populated using an arbitrary aggregation function."
   ]
  },
  {
   "cell_type": "code",
   "execution_count": 60,
   "metadata": {},
   "outputs": [
    {
     "data": {
      "text/html": [
       "<div>\n",
       "<style scoped>\n",
       "    .dataframe tbody tr th:only-of-type {\n",
       "        vertical-align: middle;\n",
       "    }\n",
       "\n",
       "    .dataframe tbody tr th {\n",
       "        vertical-align: top;\n",
       "    }\n",
       "\n",
       "    .dataframe thead th {\n",
       "        text-align: right;\n",
       "    }\n",
       "</style>\n",
       "<table border=\"1\" class=\"dataframe\">\n",
       "  <thead>\n",
       "    <tr style=\"text-align: right;\">\n",
       "      <th></th>\n",
       "      <th></th>\n",
       "      <th>Test_No</th>\n",
       "      <th>1</th>\n",
       "      <th>2</th>\n",
       "      <th>3</th>\n",
       "      <th>4</th>\n",
       "      <th>5</th>\n",
       "      <th>6</th>\n",
       "    </tr>\n",
       "    <tr>\n",
       "      <th>Site</th>\n",
       "      <th>Series_No</th>\n",
       "      <th>Product_No</th>\n",
       "      <th></th>\n",
       "      <th></th>\n",
       "      <th></th>\n",
       "      <th></th>\n",
       "      <th></th>\n",
       "      <th></th>\n",
       "    </tr>\n",
       "  </thead>\n",
       "  <tbody>\n",
       "    <tr>\n",
       "      <th rowspan=\"4\" valign=\"top\">1</th>\n",
       "      <th rowspan=\"2\" valign=\"top\">WK00001576</th>\n",
       "      <th>3</th>\n",
       "      <td>0.290698</td>\n",
       "      <td>0.277584</td>\n",
       "      <td>0.279309</td>\n",
       "      <td>0.275783</td>\n",
       "      <td>0.291335</td>\n",
       "      <td>0.297809</td>\n",
       "    </tr>\n",
       "    <tr>\n",
       "      <th>8</th>\n",
       "      <td>0.291638</td>\n",
       "      <td>0.267726</td>\n",
       "      <td>0.273084</td>\n",
       "      <td>0.317161</td>\n",
       "      <td>0.313727</td>\n",
       "      <td>0.296435</td>\n",
       "    </tr>\n",
       "    <tr>\n",
       "      <th rowspan=\"2\" valign=\"top\">YZ00001723</th>\n",
       "      <th>1</th>\n",
       "      <td>0.310224</td>\n",
       "      <td>0.296397</td>\n",
       "      <td>0.317406</td>\n",
       "      <td>0.332944</td>\n",
       "      <td>0.309513</td>\n",
       "      <td>0.332890</td>\n",
       "    </tr>\n",
       "    <tr>\n",
       "      <th>2</th>\n",
       "      <td>0.301637</td>\n",
       "      <td>0.272994</td>\n",
       "      <td>0.264065</td>\n",
       "      <td>0.247721</td>\n",
       "      <td>0.253387</td>\n",
       "      <td>0.256473</td>\n",
       "    </tr>\n",
       "    <tr>\n",
       "      <th rowspan=\"3\" valign=\"top\">2</th>\n",
       "      <th rowspan=\"3\" valign=\"top\">XK00001402</th>\n",
       "      <th>4</th>\n",
       "      <td>0.332244</td>\n",
       "      <td>0.299749</td>\n",
       "      <td>0.306207</td>\n",
       "      <td>0.298882</td>\n",
       "      <td>0.273450</td>\n",
       "      <td>0.248338</td>\n",
       "    </tr>\n",
       "    <tr>\n",
       "      <th>5</th>\n",
       "      <td>0.276784</td>\n",
       "      <td>0.297124</td>\n",
       "      <td>0.305926</td>\n",
       "      <td>0.313486</td>\n",
       "      <td>0.306666</td>\n",
       "      <td>0.310747</td>\n",
       "    </tr>\n",
       "    <tr>\n",
       "      <th>9</th>\n",
       "      <td>0.306854</td>\n",
       "      <td>0.292354</td>\n",
       "      <td>0.333912</td>\n",
       "      <td>0.335865</td>\n",
       "      <td>0.276591</td>\n",
       "      <td>0.288395</td>\n",
       "    </tr>\n",
       "    <tr>\n",
       "      <th rowspan=\"2\" valign=\"top\">3</th>\n",
       "      <th rowspan=\"2\" valign=\"top\">YZ00001723</th>\n",
       "      <th>6</th>\n",
       "      <td>0.313152</td>\n",
       "      <td>0.339753</td>\n",
       "      <td>0.360610</td>\n",
       "      <td>0.355175</td>\n",
       "      <td>0.324034</td>\n",
       "      <td>0.310040</td>\n",
       "    </tr>\n",
       "    <tr>\n",
       "      <th>7</th>\n",
       "      <td>0.312542</td>\n",
       "      <td>0.328211</td>\n",
       "      <td>0.352612</td>\n",
       "      <td>0.378593</td>\n",
       "      <td>0.386003</td>\n",
       "      <td>0.380251</td>\n",
       "    </tr>\n",
       "    <tr>\n",
       "      <th>4</th>\n",
       "      <th>YZ00001723</th>\n",
       "      <th>10</th>\n",
       "      <td>0.307229</td>\n",
       "      <td>0.332210</td>\n",
       "      <td>0.335121</td>\n",
       "      <td>0.329255</td>\n",
       "      <td>0.308722</td>\n",
       "      <td>0.329514</td>\n",
       "    </tr>\n",
       "  </tbody>\n",
       "</table>\n",
       "</div>"
      ],
      "text/plain": [
       "Test_No                            1         2         3         4         5  \\\n",
       "Site Series_No  Product_No                                                     \n",
       "1    WK00001576 3           0.290698  0.277584  0.279309  0.275783  0.291335   \n",
       "                8           0.291638  0.267726  0.273084  0.317161  0.313727   \n",
       "     YZ00001723 1           0.310224  0.296397  0.317406  0.332944  0.309513   \n",
       "                2           0.301637  0.272994  0.264065  0.247721  0.253387   \n",
       "2    XK00001402 4           0.332244  0.299749  0.306207  0.298882  0.273450   \n",
       "                5           0.276784  0.297124  0.305926  0.313486  0.306666   \n",
       "                9           0.306854  0.292354  0.333912  0.335865  0.276591   \n",
       "3    YZ00001723 6           0.313152  0.339753  0.360610  0.355175  0.324034   \n",
       "                7           0.312542  0.328211  0.352612  0.378593  0.386003   \n",
       "4    YZ00001723 10          0.307229  0.332210  0.335121  0.329255  0.308722   \n",
       "\n",
       "Test_No                            6  \n",
       "Site Series_No  Product_No            \n",
       "1    WK00001576 3           0.297809  \n",
       "                8           0.296435  \n",
       "     YZ00001723 1           0.332890  \n",
       "                2           0.256473  \n",
       "2    XK00001402 4           0.248338  \n",
       "                5           0.310747  \n",
       "                9           0.288395  \n",
       "3    YZ00001723 6           0.310040  \n",
       "                7           0.380251  \n",
       "4    YZ00001723 10          0.329514  "
      ]
     },
     "execution_count": 60,
     "metadata": {},
     "output_type": "execute_result"
    }
   ],
   "source": [
    "mt.pivot_table(index=['Site', 'Series_No', 'Product_No'], columns='Test_No', values='Milling_Gear_Depth', aggfunc=max).head(20)"
   ]
  },
  {
   "cell_type": "markdown",
   "metadata": {},
   "source": [
    "For a simple cross-tabulation of group frequencies, the `crosstab` function (not a method) aggregates counts of data according to factors in rows and columns. The factors may be hierarchical if desired."
   ]
  },
  {
   "cell_type": "code",
   "execution_count": 61,
   "metadata": {},
   "outputs": [
    {
     "data": {
      "text/html": [
       "<div>\n",
       "<style scoped>\n",
       "    .dataframe tbody tr th:only-of-type {\n",
       "        vertical-align: middle;\n",
       "    }\n",
       "\n",
       "    .dataframe tbody tr th {\n",
       "        vertical-align: top;\n",
       "    }\n",
       "\n",
       "    .dataframe thead th {\n",
       "        text-align: right;\n",
       "    }\n",
       "</style>\n",
       "<table border=\"1\" class=\"dataframe\">\n",
       "  <thead>\n",
       "    <tr style=\"text-align: right;\">\n",
       "      <th>Site</th>\n",
       "      <th>1</th>\n",
       "      <th>2</th>\n",
       "      <th>3</th>\n",
       "      <th>4</th>\n",
       "    </tr>\n",
       "    <tr>\n",
       "      <th>Test_No</th>\n",
       "      <th></th>\n",
       "      <th></th>\n",
       "      <th></th>\n",
       "      <th></th>\n",
       "    </tr>\n",
       "  </thead>\n",
       "  <tbody>\n",
       "    <tr>\n",
       "      <th>1</th>\n",
       "      <td>4</td>\n",
       "      <td>3</td>\n",
       "      <td>2</td>\n",
       "      <td>1</td>\n",
       "    </tr>\n",
       "    <tr>\n",
       "      <th>2</th>\n",
       "      <td>4</td>\n",
       "      <td>3</td>\n",
       "      <td>2</td>\n",
       "      <td>1</td>\n",
       "    </tr>\n",
       "    <tr>\n",
       "      <th>3</th>\n",
       "      <td>4</td>\n",
       "      <td>3</td>\n",
       "      <td>2</td>\n",
       "      <td>1</td>\n",
       "    </tr>\n",
       "    <tr>\n",
       "      <th>4</th>\n",
       "      <td>4</td>\n",
       "      <td>3</td>\n",
       "      <td>2</td>\n",
       "      <td>1</td>\n",
       "    </tr>\n",
       "    <tr>\n",
       "      <th>5</th>\n",
       "      <td>4</td>\n",
       "      <td>3</td>\n",
       "      <td>2</td>\n",
       "      <td>1</td>\n",
       "    </tr>\n",
       "    <tr>\n",
       "      <th>6</th>\n",
       "      <td>4</td>\n",
       "      <td>3</td>\n",
       "      <td>2</td>\n",
       "      <td>1</td>\n",
       "    </tr>\n",
       "  </tbody>\n",
       "</table>\n",
       "</div>"
      ],
      "text/plain": [
       "Site     1  2  3  4\n",
       "Test_No            \n",
       "1        4  3  2  1\n",
       "2        4  3  2  1\n",
       "3        4  3  2  1\n",
       "4        4  3  2  1\n",
       "5        4  3  2  1\n",
       "6        4  3  2  1"
      ]
     },
     "execution_count": 61,
     "metadata": {},
     "output_type": "execute_result"
    }
   ],
   "source": [
    "pd.crosstab(mt.Test_No, mt.Site)"
   ]
  },
  {
   "cell_type": "markdown",
   "metadata": {},
   "source": [
    "## Data transformation\n",
    "\n",
    "There are a slew of additional operations for DataFrames that we would collectively refer to as \"transformations\" which include tasks such as removing duplicate values, replacing values, and grouping values."
   ]
  },
  {
   "cell_type": "markdown",
   "metadata": {},
   "source": [
    "### Dealing with duplicates\n",
    "\n",
    "We can easily identify and remove duplicate values from `DataFrame` objects. For example, say we want to remove tests from our `mt` dataset that have the same Product_No:"
   ]
  },
  {
   "cell_type": "code",
   "execution_count": 62,
   "metadata": {},
   "outputs": [
    {
     "data": {
      "text/plain": [
       "0     False\n",
       "1      True\n",
       "2      True\n",
       "3      True\n",
       "4      True\n",
       "5      True\n",
       "6     False\n",
       "7      True\n",
       "8      True\n",
       "9      True\n",
       "10     True\n",
       "11     True\n",
       "12    False\n",
       "13     True\n",
       "14     True\n",
       "15     True\n",
       "16     True\n",
       "17     True\n",
       "18    False\n",
       "19     True\n",
       "20     True\n",
       "21     True\n",
       "22     True\n",
       "23     True\n",
       "24    False\n",
       "25     True\n",
       "26     True\n",
       "27     True\n",
       "28     True\n",
       "29     True\n",
       "dtype: bool"
      ]
     },
     "execution_count": 62,
     "metadata": {},
     "output_type": "execute_result"
    }
   ],
   "source": [
    "mt.duplicated(subset='Product_No').head(30)"
   ]
  },
  {
   "cell_type": "code",
   "execution_count": 63,
   "metadata": {
    "scrolled": true
   },
   "outputs": [
    {
     "data": {
      "text/html": [
       "<div>\n",
       "<style scoped>\n",
       "    .dataframe tbody tr th:only-of-type {\n",
       "        vertical-align: middle;\n",
       "    }\n",
       "\n",
       "    .dataframe tbody tr th {\n",
       "        vertical-align: top;\n",
       "    }\n",
       "\n",
       "    .dataframe thead th {\n",
       "        text-align: right;\n",
       "    }\n",
       "</style>\n",
       "<table border=\"1\" class=\"dataframe\">\n",
       "  <thead>\n",
       "    <tr style=\"text-align: right;\">\n",
       "      <th></th>\n",
       "      <th>Test_No</th>\n",
       "      <th>Product_No</th>\n",
       "      <th>Site</th>\n",
       "      <th>Series_No</th>\n",
       "      <th>Turning_Cut_Depth</th>\n",
       "      <th>Milling_Gear_Depth</th>\n",
       "      <th>Drilling_Surf_Quality</th>\n",
       "      <th>Drill_Pressure</th>\n",
       "    </tr>\n",
       "  </thead>\n",
       "  <tbody>\n",
       "    <tr>\n",
       "      <th>0</th>\n",
       "      <td>1</td>\n",
       "      <td>1</td>\n",
       "      <td>1</td>\n",
       "      <td>YZ00001723</td>\n",
       "      <td>0.637494</td>\n",
       "      <td>0.310224</td>\n",
       "      <td>0.004732</td>\n",
       "      <td>3.493444e+15</td>\n",
       "    </tr>\n",
       "    <tr>\n",
       "      <th>6</th>\n",
       "      <td>1</td>\n",
       "      <td>2</td>\n",
       "      <td>1</td>\n",
       "      <td>YZ00001723</td>\n",
       "      <td>0.632855</td>\n",
       "      <td>0.301637</td>\n",
       "      <td>0.007148</td>\n",
       "      <td>1.158858e+15</td>\n",
       "    </tr>\n",
       "    <tr>\n",
       "      <th>12</th>\n",
       "      <td>1</td>\n",
       "      <td>3</td>\n",
       "      <td>1</td>\n",
       "      <td>WK00001576</td>\n",
       "      <td>0.595691</td>\n",
       "      <td>0.290698</td>\n",
       "      <td>0.005260</td>\n",
       "      <td>4.746772e+14</td>\n",
       "    </tr>\n",
       "    <tr>\n",
       "      <th>18</th>\n",
       "      <td>1</td>\n",
       "      <td>4</td>\n",
       "      <td>2</td>\n",
       "      <td>XK00001402</td>\n",
       "      <td>0.648470</td>\n",
       "      <td>0.332244</td>\n",
       "      <td>0.004113</td>\n",
       "      <td>2.107877e+16</td>\n",
       "    </tr>\n",
       "    <tr>\n",
       "      <th>24</th>\n",
       "      <td>1</td>\n",
       "      <td>5</td>\n",
       "      <td>2</td>\n",
       "      <td>XK00001402</td>\n",
       "      <td>0.532740</td>\n",
       "      <td>0.276784</td>\n",
       "      <td>0.004613</td>\n",
       "      <td>1.027504e+16</td>\n",
       "    </tr>\n",
       "  </tbody>\n",
       "</table>\n",
       "</div>"
      ],
      "text/plain": [
       "    Test_No  Product_No  Site   Series_No  Turning_Cut_Depth  \\\n",
       "0         1           1     1  YZ00001723           0.637494   \n",
       "6         1           2     1  YZ00001723           0.632855   \n",
       "12        1           3     1  WK00001576           0.595691   \n",
       "18        1           4     2  XK00001402           0.648470   \n",
       "24        1           5     2  XK00001402           0.532740   \n",
       "\n",
       "    Milling_Gear_Depth  Drilling_Surf_Quality  Drill_Pressure  \n",
       "0             0.310224               0.004732    3.493444e+15  \n",
       "6             0.301637               0.007148    1.158858e+15  \n",
       "12            0.290698               0.005260    4.746772e+14  \n",
       "18            0.332244               0.004113    2.107877e+16  \n",
       "24            0.276784               0.004613    1.027504e+16  "
      ]
     },
     "execution_count": 63,
     "metadata": {},
     "output_type": "execute_result"
    }
   ],
   "source": [
    "mt.drop_duplicates(['Product_No']).head()"
   ]
  },
  {
   "cell_type": "markdown",
   "metadata": {},
   "source": [
    "### Value replacement\n",
    "\n",
    "Frequently, we get data columns that are encoded as strings that we wish to represent numerically for the purposes of including it in a quantitative analysis. For example, consider the Series_No variable in the mechanical testing dataset:"
   ]
  },
  {
   "cell_type": "code",
   "execution_count": 64,
   "metadata": {},
   "outputs": [
    {
     "data": {
      "text/plain": [
       "YZ00001723    30\n",
       "XK00001402    18\n",
       "WK00001576    12\n",
       "Name: Series_No, dtype: int64"
      ]
     },
     "execution_count": 64,
     "metadata": {},
     "output_type": "execute_result"
    }
   ],
   "source": [
    "mt.Series_No.value_counts()"
   ]
  },
  {
   "cell_type": "markdown",
   "metadata": {},
   "source": [
    "A logical way to specify these numerically is to change them to integer values, perhaps using \"YZ00001723\" as a baseline value. If we create a dict with the original values as keys and the replacements as values, we can pass it to the `map` method to implement the changes."
   ]
  },
  {
   "cell_type": "code",
   "execution_count": 65,
   "metadata": {},
   "outputs": [
    {
     "data": {
      "text/plain": [
       "0     0\n",
       "1     0\n",
       "2     0\n",
       "3     0\n",
       "4     0\n",
       "5     0\n",
       "6     0\n",
       "7     0\n",
       "8     0\n",
       "9     0\n",
       "10    0\n",
       "11    0\n",
       "12    2\n",
       "13    2\n",
       "14    2\n",
       "15    2\n",
       "16    2\n",
       "17    2\n",
       "18    1\n",
       "19    1\n",
       "Name: series, dtype: int64"
      ]
     },
     "execution_count": 65,
     "metadata": {},
     "output_type": "execute_result"
    }
   ],
   "source": [
    "mt['series'] = mt.Series_No.map({'YZ00001723': 0, 'XK00001402': 1, 'WK00001576': 2})\n",
    "mt.series.head(20)"
   ]
  },
  {
   "cell_type": "markdown",
   "metadata": {},
   "source": [
    "We can also perform the same replacement that we used `map` for with `replace`:"
   ]
  },
  {
   "cell_type": "code",
   "execution_count": 66,
   "metadata": {},
   "outputs": [
    {
     "data": {
      "text/plain": [
       "0     YZ00001723\n",
       "1     YZ00001723\n",
       "2     YZ00001723\n",
       "3     YZ00001723\n",
       "4     YZ00001723\n",
       "5     YZ00001723\n",
       "6     YZ00001723\n",
       "7     YZ00001723\n",
       "8     YZ00001723\n",
       "9     YZ00001723\n",
       "10    YZ00001723\n",
       "11    YZ00001723\n",
       "12    WK00001576\n",
       "13    WK00001576\n",
       "14    WK00001576\n",
       "15    WK00001576\n",
       "16    WK00001576\n",
       "17    WK00001576\n",
       "18    XK00001402\n",
       "19    XK00001402\n",
       "Name: series, dtype: object"
      ]
     },
     "execution_count": 66,
     "metadata": {},
     "output_type": "execute_result"
    }
   ],
   "source": [
    "mt.series.replace({0:'YZ00001723', 1:'XK00001402', 2:'WK00001576'}).head(20)"
   ]
  },
  {
   "cell_type": "markdown",
   "metadata": {},
   "source": [
    "## Categorical Data\n",
    "\n",
    "Pandas provides a convenient `dtype` for representing categorical (factor) data, called `category`. \n",
    "\n",
    "For example, the `Series_No` column in the mechanical testing dataset represents three series numbers of the different products, and is imported by default as an `object` type, since it is a mixture of string characters."
   ]
  },
  {
   "cell_type": "code",
   "execution_count": 67,
   "metadata": {},
   "outputs": [
    {
     "data": {
      "text/plain": [
       "0    YZ00001723\n",
       "1    YZ00001723\n",
       "2    YZ00001723\n",
       "3    YZ00001723\n",
       "4    YZ00001723\n",
       "Name: Series_No, dtype: object"
      ]
     },
     "execution_count": 67,
     "metadata": {},
     "output_type": "execute_result"
    }
   ],
   "source": [
    "mt.Series_No.head()"
   ]
  },
  {
   "cell_type": "markdown",
   "metadata": {},
   "source": [
    "We can convert this to a `category` type either by the `Categorical` constructor, or casting the column using `astype`:"
   ]
  },
  {
   "cell_type": "code",
   "execution_count": 68,
   "metadata": {},
   "outputs": [
    {
     "data": {
      "text/plain": [
       "[YZ00001723, YZ00001723, YZ00001723, YZ00001723, YZ00001723, ..., YZ00001723, YZ00001723, YZ00001723, YZ00001723, YZ00001723]\n",
       "Length: 60\n",
       "Categories (3, object): [WK00001576, XK00001402, YZ00001723]"
      ]
     },
     "execution_count": 68,
     "metadata": {},
     "output_type": "execute_result"
    }
   ],
   "source": [
    "pd.Categorical(mt.Series_No)"
   ]
  },
  {
   "cell_type": "code",
   "execution_count": 69,
   "metadata": {},
   "outputs": [],
   "source": [
    "mt['Series_No'] = mt.Series_No.astype('category')"
   ]
  },
  {
   "cell_type": "code",
   "execution_count": 70,
   "metadata": {},
   "outputs": [
    {
     "data": {
      "text/plain": [
       "count             60\n",
       "unique             3\n",
       "top       YZ00001723\n",
       "freq              30\n",
       "Name: Series_No, dtype: object"
      ]
     },
     "execution_count": 70,
     "metadata": {},
     "output_type": "execute_result"
    }
   ],
   "source": [
    "mt.Series_No.describe()"
   ]
  },
  {
   "cell_type": "markdown",
   "metadata": {},
   "source": [
    "The important difference between the `category` type and the `object` type is that `category` is represented by an <b>underlying array of integers</b>, which is then mapped to character labels."
   ]
  },
  {
   "cell_type": "code",
   "execution_count": 71,
   "metadata": {},
   "outputs": [
    {
     "data": {
      "text/plain": [
       "0     2\n",
       "1     2\n",
       "2     2\n",
       "3     2\n",
       "4     2\n",
       "5     2\n",
       "6     2\n",
       "7     2\n",
       "8     2\n",
       "9     2\n",
       "10    2\n",
       "11    2\n",
       "12    0\n",
       "13    0\n",
       "14    0\n",
       "15    0\n",
       "16    0\n",
       "17    0\n",
       "18    1\n",
       "19    1\n",
       "dtype: int8"
      ]
     },
     "execution_count": 71,
     "metadata": {},
     "output_type": "execute_result"
    }
   ],
   "source": [
    "mt.Series_No.cat.codes.head(20)"
   ]
  },
  {
   "cell_type": "markdown",
   "metadata": {},
   "source": [
    "Notice that these are 8-bit integers, which are essentially single bytes of data, making memory usage lower.\n",
    "\n",
    "There is also a performance benefit. Consider an operation such as calculating the average of the Turning Cut Depth for each series number in the `mechanical testing` table (this is also a preview of pandas' `groupby` operation!):\n"
   ]
  },
  {
   "cell_type": "code",
   "execution_count": 72,
   "metadata": {},
   "outputs": [
    {
     "name": "stdout",
     "output_type": "stream",
     "text": [
      "Wall time: 13 ms\n"
     ]
    },
    {
     "data": {
      "text/plain": [
       "Series_No\n",
       "YZ00001723    0.667112\n",
       "WK00001576    0.651792\n",
       "XK00001402    0.605432\n",
       "Name: Turning_Cut_Depth, dtype: float64"
      ]
     },
     "execution_count": 72,
     "metadata": {},
     "output_type": "execute_result"
    }
   ],
   "source": [
    "%time mt.groupby(mt.Series_No).Turning_Cut_Depth.mean().sort_values(ascending=False, inplace=False).head()"
   ]
  },
  {
   "cell_type": "code",
   "execution_count": 73,
   "metadata": {},
   "outputs": [],
   "source": [
    "mt['Series_No'] = mt.Series_No.astype('category')"
   ]
  },
  {
   "cell_type": "code",
   "execution_count": 74,
   "metadata": {},
   "outputs": [
    {
     "name": "stdout",
     "output_type": "stream",
     "text": [
      "Wall time: 3.99 ms\n"
     ]
    },
    {
     "data": {
      "text/plain": [
       "Series_No\n",
       "YZ00001723    0.667112\n",
       "WK00001576    0.651792\n",
       "XK00001402    0.605432\n",
       "Name: Turning_Cut_Depth, dtype: float64"
      ]
     },
     "execution_count": 74,
     "metadata": {},
     "output_type": "execute_result"
    }
   ],
   "source": [
    "%time mt.groupby(mt.Series_No).Turning_Cut_Depth.mean().sort_values(ascending=False, inplace=False).head()"
   ]
  },
  {
   "cell_type": "markdown",
   "metadata": {},
   "source": [
    "Hence, we get a considerable speedup simply by using the appropriate `dtype` for our data."
   ]
  },
  {
   "cell_type": "markdown",
   "metadata": {},
   "source": [
    "### Discretization\n",
    "\n",
    "Pandas' `cut` function can be used to group continuous or countable data in to bins. Discretization is generally a very **bad idea** for statistical analysis, so use this function responsibly!\n",
    "\n",
    "Lets say we want to bin the ages of the cervical dystonia patients into a smaller number of groups:"
   ]
  },
  {
   "cell_type": "code",
   "execution_count": 75,
   "metadata": {},
   "outputs": [
    {
     "data": {
      "text/plain": [
       "count    60.000000\n",
       "mean      0.645544\n",
       "std       0.075059\n",
       "min       0.484703\n",
       "25%       0.589900\n",
       "50%       0.637643\n",
       "75%       0.715875\n",
       "max       0.787702\n",
       "Name: Turning_Cut_Depth, dtype: float64"
      ]
     },
     "execution_count": 75,
     "metadata": {},
     "output_type": "execute_result"
    }
   ],
   "source": [
    "mt.Turning_Cut_Depth.describe()"
   ]
  },
  {
   "cell_type": "markdown",
   "metadata": {},
   "source": [
    "Let's transform these data into decades, beginnnig with individuals in their 20's and ending with those in their 80's:"
   ]
  },
  {
   "cell_type": "code",
   "execution_count": 76,
   "metadata": {},
   "outputs": [
    {
     "data": {
      "text/plain": [
       "0     (0.6, 0.7]\n",
       "1     (0.6, 0.7]\n",
       "2     (0.6, 0.7]\n",
       "3     (0.6, 0.7]\n",
       "4     (0.6, 0.7]\n",
       "5     (0.6, 0.7]\n",
       "6     (0.6, 0.7]\n",
       "7     (0.5, 0.6]\n",
       "8     (0.5, 0.6]\n",
       "9     (0.5, 0.6]\n",
       "10    (0.5, 0.6]\n",
       "11    (0.5, 0.6]\n",
       "12    (0.5, 0.6]\n",
       "13    (0.5, 0.6]\n",
       "14    (0.5, 0.6]\n",
       "15    (0.5, 0.6]\n",
       "16    (0.5, 0.6]\n",
       "17    (0.6, 0.7]\n",
       "18    (0.6, 0.7]\n",
       "19    (0.5, 0.6]\n",
       "Name: Turning_Cut_Depth, dtype: category\n",
       "Categories (10, interval[float64]): [(0.0, 0.1] < (0.1, 0.2] < (0.2, 0.3] < (0.3, 0.4] ... (0.6, 0.7] < (0.7, 0.8] < (0.8, 0.9] < (0.9, 1.0]]"
      ]
     },
     "execution_count": 76,
     "metadata": {},
     "output_type": "execute_result"
    }
   ],
   "source": [
    "pd.cut(mt.Turning_Cut_Depth, [0,0.1,0.2,0.3,0.4,0.5,0.6,0.7,0.8,0.9,1])[:20]"
   ]
  },
  {
   "cell_type": "markdown",
   "metadata": {},
   "source": [
    "The parentheses indicate an open interval, meaning that the interval includes values up to but *not including* the endpoint, whereas the square bracket is a closed interval, where the endpoint is included in the interval. We can switch the closure to the left side by setting the `right` flag to `False`:"
   ]
  },
  {
   "cell_type": "code",
   "execution_count": 77,
   "metadata": {},
   "outputs": [
    {
     "data": {
      "text/plain": [
       "0     [0.6, 0.7)\n",
       "1     [0.6, 0.7)\n",
       "2     [0.6, 0.7)\n",
       "3     [0.6, 0.7)\n",
       "4     [0.6, 0.7)\n",
       "5     [0.6, 0.7)\n",
       "6     [0.6, 0.7)\n",
       "7     [0.5, 0.6)\n",
       "8     [0.5, 0.6)\n",
       "9     [0.5, 0.6)\n",
       "10    [0.5, 0.6)\n",
       "11    [0.5, 0.6)\n",
       "12    [0.5, 0.6)\n",
       "13    [0.5, 0.6)\n",
       "14    [0.5, 0.6)\n",
       "15    [0.5, 0.6)\n",
       "16    [0.5, 0.6)\n",
       "17    [0.6, 0.7)\n",
       "18    [0.6, 0.7)\n",
       "19    [0.5, 0.6)\n",
       "Name: Turning_Cut_Depth, dtype: category\n",
       "Categories (10, interval[float64]): [[0.0, 0.1) < [0.1, 0.2) < [0.2, 0.3) < [0.3, 0.4) ... [0.6, 0.7) < [0.7, 0.8) < [0.8, 0.9) < [0.9, 1.0)]"
      ]
     },
     "execution_count": 77,
     "metadata": {},
     "output_type": "execute_result"
    }
   ],
   "source": [
    "pd.cut(mt.Turning_Cut_Depth, [0,0.1,0.2,0.3,0.4,0.5,0.6,0.7,0.8,0.9,1], right=False)[:20]"
   ]
  },
  {
   "cell_type": "markdown",
   "metadata": {},
   "source": [
    "Since the data are now **ordinal**, rather than numeric, we can give them labels:"
   ]
  },
  {
   "cell_type": "code",
   "execution_count": 78,
   "metadata": {},
   "outputs": [
    {
     "data": {
      "text/plain": [
       "0       high\n",
       "1       high\n",
       "2       high\n",
       "3       high\n",
       "4       high\n",
       "5       high\n",
       "6       high\n",
       "7     medium\n",
       "8     medium\n",
       "9     medium\n",
       "10    medium\n",
       "11    medium\n",
       "12    medium\n",
       "13    medium\n",
       "14    medium\n",
       "15    medium\n",
       "16    medium\n",
       "17      high\n",
       "18      high\n",
       "19    medium\n",
       "Name: Turning_Cut_Depth, dtype: category\n",
       "Categories (5, object): [very low < low < medium < high < very high]"
      ]
     },
     "execution_count": 78,
     "metadata": {},
     "output_type": "execute_result"
    }
   ],
   "source": [
    "pd.cut(mt.Turning_Cut_Depth, [0.3,0.4,0.5,0.6,0.7,0.8], labels=['very low','low','medium','high','very high'])[:20]"
   ]
  },
  {
   "cell_type": "markdown",
   "metadata": {},
   "source": [
    "A related function `qcut` uses empirical quantiles to divide the data. If, for example, we want the quartiles -- (0-25%], (25-50%], (50-70%], (75-100%] -- we can just specify 4 intervals, which will be equally-spaced by default:"
   ]
  },
  {
   "cell_type": "code",
   "execution_count": 79,
   "metadata": {},
   "outputs": [
    {
     "data": {
      "text/plain": [
       "0      (0.59, 0.638]\n",
       "1      (0.59, 0.638]\n",
       "2     (0.638, 0.716]\n",
       "3     (0.638, 0.716]\n",
       "4      (0.59, 0.638]\n",
       "5     (0.638, 0.716]\n",
       "6      (0.59, 0.638]\n",
       "7      (0.484, 0.59]\n",
       "8      (0.484, 0.59]\n",
       "9      (0.484, 0.59]\n",
       "10     (0.484, 0.59]\n",
       "11     (0.484, 0.59]\n",
       "12     (0.59, 0.638]\n",
       "13     (0.484, 0.59]\n",
       "14     (0.484, 0.59]\n",
       "15     (0.484, 0.59]\n",
       "16     (0.59, 0.638]\n",
       "17     (0.59, 0.638]\n",
       "18    (0.638, 0.716]\n",
       "19     (0.484, 0.59]\n",
       "Name: Turning_Cut_Depth, dtype: category\n",
       "Categories (4, interval[float64]): [(0.484, 0.59] < (0.59, 0.638] < (0.638, 0.716] < (0.716, 0.788]]"
      ]
     },
     "execution_count": 79,
     "metadata": {},
     "output_type": "execute_result"
    }
   ],
   "source": [
    "pd.qcut(mt.Turning_Cut_Depth, 4)[:20]"
   ]
  },
  {
   "cell_type": "markdown",
   "metadata": {},
   "source": [
    "Alternatively, one can specify custom quantiles to act as cut points:"
   ]
  },
  {
   "cell_type": "code",
   "execution_count": 80,
   "metadata": {},
   "outputs": [
    {
     "data": {
      "text/plain": [
       "0     (0.533, 0.773]\n",
       "1     (0.533, 0.773]\n",
       "2     (0.533, 0.773]\n",
       "3     (0.533, 0.773]\n",
       "4     (0.533, 0.773]\n",
       "5     (0.533, 0.773]\n",
       "6     (0.533, 0.773]\n",
       "7     (0.533, 0.773]\n",
       "8     (0.533, 0.773]\n",
       "9     (0.505, 0.533]\n",
       "10    (0.505, 0.533]\n",
       "11    (0.533, 0.773]\n",
       "12    (0.533, 0.773]\n",
       "13    (0.533, 0.773]\n",
       "14    (0.533, 0.773]\n",
       "15    (0.533, 0.773]\n",
       "16    (0.533, 0.773]\n",
       "17    (0.533, 0.773]\n",
       "18    (0.533, 0.773]\n",
       "19    (0.533, 0.773]\n",
       "Name: Turning_Cut_Depth, dtype: category\n",
       "Categories (5, interval[float64]): [(0.484, 0.505] < (0.505, 0.533] < (0.533, 0.773] < (0.773, 0.781] < (0.781, 0.788]]"
      ]
     },
     "execution_count": 80,
     "metadata": {},
     "output_type": "execute_result"
    }
   ],
   "source": [
    "turning_c_d = pd.qcut(mt.Turning_Cut_Depth, [0, 0.01, 0.05, 0.95, 0.99, 1])\n",
    "turning_c_d[:20]"
   ]
  },
  {
   "cell_type": "markdown",
   "metadata": {},
   "source": [
    "### Permutation and sampling\n",
    "\n",
    "For some data analysis tasks, such as simulation, we need to be able to randomly reorder our data, or draw random values from it. Calling NumPy's `permutation` function with the length of the sequence you want to permute generates an array with a permuted sequence of integers, which can be used to re-order the sequence."
   ]
  },
  {
   "cell_type": "code",
   "execution_count": 81,
   "metadata": {},
   "outputs": [
    {
     "data": {
      "text/plain": [
       "array([50, 32, 22, 59, 31, 20, 37, 27,  5, 30, 18, 53, 52, 45, 28, 41, 21,\n",
       "       55, 51,  7, 47,  1, 26, 58, 12, 23, 25, 16, 35, 46])"
      ]
     },
     "execution_count": 81,
     "metadata": {},
     "output_type": "execute_result"
    }
   ],
   "source": [
    "new_order = np.random.permutation(len(mt))\n",
    "new_order[:30]"
   ]
  },
  {
   "cell_type": "markdown",
   "metadata": {},
   "source": [
    "Using this sequence as an argument to the `take` method results in a reordered DataFrame:"
   ]
  },
  {
   "cell_type": "code",
   "execution_count": 82,
   "metadata": {},
   "outputs": [
    {
     "data": {
      "text/html": [
       "<div>\n",
       "<style scoped>\n",
       "    .dataframe tbody tr th:only-of-type {\n",
       "        vertical-align: middle;\n",
       "    }\n",
       "\n",
       "    .dataframe tbody tr th {\n",
       "        vertical-align: top;\n",
       "    }\n",
       "\n",
       "    .dataframe thead th {\n",
       "        text-align: right;\n",
       "    }\n",
       "</style>\n",
       "<table border=\"1\" class=\"dataframe\">\n",
       "  <thead>\n",
       "    <tr style=\"text-align: right;\">\n",
       "      <th></th>\n",
       "      <th>Test_No</th>\n",
       "      <th>Product_No</th>\n",
       "      <th>Site</th>\n",
       "      <th>Series_No</th>\n",
       "      <th>Turning_Cut_Depth</th>\n",
       "      <th>Milling_Gear_Depth</th>\n",
       "      <th>Drilling_Surf_Quality</th>\n",
       "      <th>Drill_Pressure</th>\n",
       "      <th>series</th>\n",
       "    </tr>\n",
       "  </thead>\n",
       "  <tbody>\n",
       "    <tr>\n",
       "      <th>50</th>\n",
       "      <td>3</td>\n",
       "      <td>9</td>\n",
       "      <td>2</td>\n",
       "      <td>XK00001402</td>\n",
       "      <td>0.724573</td>\n",
       "      <td>0.333912</td>\n",
       "      <td>0.007393</td>\n",
       "      <td>4.774368e+16</td>\n",
       "      <td>1</td>\n",
       "    </tr>\n",
       "    <tr>\n",
       "      <th>32</th>\n",
       "      <td>3</td>\n",
       "      <td>6</td>\n",
       "      <td>3</td>\n",
       "      <td>YZ00001723</td>\n",
       "      <td>0.735238</td>\n",
       "      <td>0.360610</td>\n",
       "      <td>0.006163</td>\n",
       "      <td>2.489376e+16</td>\n",
       "      <td>0</td>\n",
       "    </tr>\n",
       "    <tr>\n",
       "      <th>22</th>\n",
       "      <td>5</td>\n",
       "      <td>4</td>\n",
       "      <td>2</td>\n",
       "      <td>XK00001402</td>\n",
       "      <td>0.533717</td>\n",
       "      <td>0.273450</td>\n",
       "      <td>0.003385</td>\n",
       "      <td>1.734868e+16</td>\n",
       "      <td>1</td>\n",
       "    </tr>\n",
       "    <tr>\n",
       "      <th>59</th>\n",
       "      <td>6</td>\n",
       "      <td>10</td>\n",
       "      <td>4</td>\n",
       "      <td>YZ00001723</td>\n",
       "      <td>0.732039</td>\n",
       "      <td>0.329514</td>\n",
       "      <td>0.007266</td>\n",
       "      <td>2.810658e+16</td>\n",
       "      <td>0</td>\n",
       "    </tr>\n",
       "    <tr>\n",
       "      <th>31</th>\n",
       "      <td>2</td>\n",
       "      <td>6</td>\n",
       "      <td>3</td>\n",
       "      <td>YZ00001723</td>\n",
       "      <td>0.692714</td>\n",
       "      <td>0.339753</td>\n",
       "      <td>0.005806</td>\n",
       "      <td>2.345398e+16</td>\n",
       "      <td>0</td>\n",
       "    </tr>\n",
       "  </tbody>\n",
       "</table>\n",
       "</div>"
      ],
      "text/plain": [
       "    Test_No  Product_No  Site   Series_No  Turning_Cut_Depth  \\\n",
       "50        3           9     2  XK00001402           0.724573   \n",
       "32        3           6     3  YZ00001723           0.735238   \n",
       "22        5           4     2  XK00001402           0.533717   \n",
       "59        6          10     4  YZ00001723           0.732039   \n",
       "31        2           6     3  YZ00001723           0.692714   \n",
       "\n",
       "    Milling_Gear_Depth  Drilling_Surf_Quality  Drill_Pressure  series  \n",
       "50            0.333912               0.007393    4.774368e+16       1  \n",
       "32            0.360610               0.006163    2.489376e+16       0  \n",
       "22            0.273450               0.003385    1.734868e+16       1  \n",
       "59            0.329514               0.007266    2.810658e+16       0  \n",
       "31            0.339753               0.005806    2.345398e+16       0  "
      ]
     },
     "execution_count": 82,
     "metadata": {},
     "output_type": "execute_result"
    }
   ],
   "source": [
    "mt.take(new_order).head()"
   ]
  },
  {
   "cell_type": "markdown",
   "metadata": {},
   "source": [
    "Compare this ordering with the original:"
   ]
  },
  {
   "cell_type": "code",
   "execution_count": 83,
   "metadata": {},
   "outputs": [
    {
     "data": {
      "text/html": [
       "<div>\n",
       "<style scoped>\n",
       "    .dataframe tbody tr th:only-of-type {\n",
       "        vertical-align: middle;\n",
       "    }\n",
       "\n",
       "    .dataframe tbody tr th {\n",
       "        vertical-align: top;\n",
       "    }\n",
       "\n",
       "    .dataframe thead th {\n",
       "        text-align: right;\n",
       "    }\n",
       "</style>\n",
       "<table border=\"1\" class=\"dataframe\">\n",
       "  <thead>\n",
       "    <tr style=\"text-align: right;\">\n",
       "      <th></th>\n",
       "      <th>Test_No</th>\n",
       "      <th>Product_No</th>\n",
       "      <th>Site</th>\n",
       "      <th>Series_No</th>\n",
       "      <th>Turning_Cut_Depth</th>\n",
       "      <th>Milling_Gear_Depth</th>\n",
       "      <th>Drilling_Surf_Quality</th>\n",
       "      <th>Drill_Pressure</th>\n",
       "      <th>series</th>\n",
       "    </tr>\n",
       "  </thead>\n",
       "  <tbody>\n",
       "    <tr>\n",
       "      <th>0</th>\n",
       "      <td>1</td>\n",
       "      <td>1</td>\n",
       "      <td>1</td>\n",
       "      <td>YZ00001723</td>\n",
       "      <td>0.637494</td>\n",
       "      <td>0.310224</td>\n",
       "      <td>0.004732</td>\n",
       "      <td>3.493444e+15</td>\n",
       "      <td>0</td>\n",
       "    </tr>\n",
       "    <tr>\n",
       "      <th>1</th>\n",
       "      <td>2</td>\n",
       "      <td>1</td>\n",
       "      <td>1</td>\n",
       "      <td>YZ00001723</td>\n",
       "      <td>0.609082</td>\n",
       "      <td>0.296397</td>\n",
       "      <td>0.004521</td>\n",
       "      <td>3.337748e+15</td>\n",
       "      <td>0</td>\n",
       "    </tr>\n",
       "    <tr>\n",
       "      <th>2</th>\n",
       "      <td>3</td>\n",
       "      <td>1</td>\n",
       "      <td>1</td>\n",
       "      <td>YZ00001723</td>\n",
       "      <td>0.652253</td>\n",
       "      <td>0.317406</td>\n",
       "      <td>0.004841</td>\n",
       "      <td>3.574328e+15</td>\n",
       "      <td>0</td>\n",
       "    </tr>\n",
       "    <tr>\n",
       "      <th>3</th>\n",
       "      <td>4</td>\n",
       "      <td>1</td>\n",
       "      <td>1</td>\n",
       "      <td>YZ00001723</td>\n",
       "      <td>0.684182</td>\n",
       "      <td>0.332944</td>\n",
       "      <td>0.005078</td>\n",
       "      <td>3.749298e+15</td>\n",
       "      <td>0</td>\n",
       "    </tr>\n",
       "    <tr>\n",
       "      <th>4</th>\n",
       "      <td>5</td>\n",
       "      <td>1</td>\n",
       "      <td>1</td>\n",
       "      <td>YZ00001723</td>\n",
       "      <td>0.636033</td>\n",
       "      <td>0.309513</td>\n",
       "      <td>0.004721</td>\n",
       "      <td>3.485438e+15</td>\n",
       "      <td>0</td>\n",
       "    </tr>\n",
       "  </tbody>\n",
       "</table>\n",
       "</div>"
      ],
      "text/plain": [
       "   Test_No  Product_No  Site   Series_No  Turning_Cut_Depth  \\\n",
       "0        1           1     1  YZ00001723           0.637494   \n",
       "1        2           1     1  YZ00001723           0.609082   \n",
       "2        3           1     1  YZ00001723           0.652253   \n",
       "3        4           1     1  YZ00001723           0.684182   \n",
       "4        5           1     1  YZ00001723           0.636033   \n",
       "\n",
       "   Milling_Gear_Depth  Drilling_Surf_Quality  Drill_Pressure  series  \n",
       "0            0.310224               0.004732    3.493444e+15       0  \n",
       "1            0.296397               0.004521    3.337748e+15       0  \n",
       "2            0.317406               0.004841    3.574328e+15       0  \n",
       "3            0.332944               0.005078    3.749298e+15       0  \n",
       "4            0.309513               0.004721    3.485438e+15       0  "
      ]
     },
     "execution_count": 83,
     "metadata": {},
     "output_type": "execute_result"
    }
   ],
   "source": [
    "mt.head()"
   ]
  },
  {
   "cell_type": "markdown",
   "metadata": {},
   "source": [
    "For random sampling, `DataFrame` and `Series` objects have a `sample` method that can be used to draw samples, with or without replacement:"
   ]
  },
  {
   "cell_type": "code",
   "execution_count": 84,
   "metadata": {},
   "outputs": [
    {
     "data": {
      "text/html": [
       "<div>\n",
       "<style scoped>\n",
       "    .dataframe tbody tr th:only-of-type {\n",
       "        vertical-align: middle;\n",
       "    }\n",
       "\n",
       "    .dataframe tbody tr th {\n",
       "        vertical-align: top;\n",
       "    }\n",
       "\n",
       "    .dataframe thead th {\n",
       "        text-align: right;\n",
       "    }\n",
       "</style>\n",
       "<table border=\"1\" class=\"dataframe\">\n",
       "  <thead>\n",
       "    <tr style=\"text-align: right;\">\n",
       "      <th></th>\n",
       "      <th>Test_No</th>\n",
       "      <th>Product_No</th>\n",
       "      <th>Site</th>\n",
       "      <th>Series_No</th>\n",
       "      <th>Turning_Cut_Depth</th>\n",
       "      <th>Milling_Gear_Depth</th>\n",
       "      <th>Drilling_Surf_Quality</th>\n",
       "      <th>Drill_Pressure</th>\n",
       "      <th>series</th>\n",
       "    </tr>\n",
       "  </thead>\n",
       "  <tbody>\n",
       "    <tr>\n",
       "      <th>54</th>\n",
       "      <td>1</td>\n",
       "      <td>10</td>\n",
       "      <td>4</td>\n",
       "      <td>YZ00001723</td>\n",
       "      <td>0.682531</td>\n",
       "      <td>0.307229</td>\n",
       "      <td>0.006774</td>\n",
       "      <td>2.620573e+16</td>\n",
       "      <td>0</td>\n",
       "    </tr>\n",
       "    <tr>\n",
       "      <th>40</th>\n",
       "      <td>5</td>\n",
       "      <td>7</td>\n",
       "      <td>3</td>\n",
       "      <td>YZ00001723</td>\n",
       "      <td>0.787702</td>\n",
       "      <td>0.386003</td>\n",
       "      <td>0.007271</td>\n",
       "      <td>3.306825e+16</td>\n",
       "      <td>0</td>\n",
       "    </tr>\n",
       "    <tr>\n",
       "      <th>36</th>\n",
       "      <td>1</td>\n",
       "      <td>7</td>\n",
       "      <td>3</td>\n",
       "      <td>YZ00001723</td>\n",
       "      <td>0.637793</td>\n",
       "      <td>0.312542</td>\n",
       "      <td>0.005887</td>\n",
       "      <td>2.677496e+16</td>\n",
       "      <td>0</td>\n",
       "    </tr>\n",
       "    <tr>\n",
       "      <th>41</th>\n",
       "      <td>6</td>\n",
       "      <td>7</td>\n",
       "      <td>3</td>\n",
       "      <td>YZ00001723</td>\n",
       "      <td>0.775964</td>\n",
       "      <td>0.380251</td>\n",
       "      <td>0.007163</td>\n",
       "      <td>3.257550e+16</td>\n",
       "      <td>0</td>\n",
       "    </tr>\n",
       "    <tr>\n",
       "      <th>26</th>\n",
       "      <td>3</td>\n",
       "      <td>5</td>\n",
       "      <td>2</td>\n",
       "      <td>XK00001402</td>\n",
       "      <td>0.588832</td>\n",
       "      <td>0.305926</td>\n",
       "      <td>0.005099</td>\n",
       "      <td>1.135688e+16</td>\n",
       "      <td>1</td>\n",
       "    </tr>\n",
       "    <tr>\n",
       "      <th>39</th>\n",
       "      <td>4</td>\n",
       "      <td>7</td>\n",
       "      <td>3</td>\n",
       "      <td>YZ00001723</td>\n",
       "      <td>0.772581</td>\n",
       "      <td>0.378593</td>\n",
       "      <td>0.007131</td>\n",
       "      <td>3.243347e+16</td>\n",
       "      <td>0</td>\n",
       "    </tr>\n",
       "    <tr>\n",
       "      <th>44</th>\n",
       "      <td>3</td>\n",
       "      <td>8</td>\n",
       "      <td>1</td>\n",
       "      <td>WK00001576</td>\n",
       "      <td>0.669181</td>\n",
       "      <td>0.273084</td>\n",
       "      <td>0.006267</td>\n",
       "      <td>3.605598e+15</td>\n",
       "      <td>2</td>\n",
       "    </tr>\n",
       "    <tr>\n",
       "      <th>57</th>\n",
       "      <td>4</td>\n",
       "      <td>10</td>\n",
       "      <td>4</td>\n",
       "      <td>YZ00001723</td>\n",
       "      <td>0.731462</td>\n",
       "      <td>0.329255</td>\n",
       "      <td>0.007260</td>\n",
       "      <td>2.808444e+16</td>\n",
       "      <td>0</td>\n",
       "    </tr>\n",
       "    <tr>\n",
       "      <th>24</th>\n",
       "      <td>1</td>\n",
       "      <td>5</td>\n",
       "      <td>2</td>\n",
       "      <td>XK00001402</td>\n",
       "      <td>0.532740</td>\n",
       "      <td>0.276784</td>\n",
       "      <td>0.004613</td>\n",
       "      <td>1.027504e+16</td>\n",
       "      <td>1</td>\n",
       "    </tr>\n",
       "    <tr>\n",
       "      <th>23</th>\n",
       "      <td>6</td>\n",
       "      <td>4</td>\n",
       "      <td>2</td>\n",
       "      <td>XK00001402</td>\n",
       "      <td>0.484703</td>\n",
       "      <td>0.248338</td>\n",
       "      <td>0.003074</td>\n",
       "      <td>1.575547e+16</td>\n",
       "      <td>1</td>\n",
       "    </tr>\n",
       "  </tbody>\n",
       "</table>\n",
       "</div>"
      ],
      "text/plain": [
       "    Test_No  Product_No  Site   Series_No  Turning_Cut_Depth  \\\n",
       "54        1          10     4  YZ00001723           0.682531   \n",
       "40        5           7     3  YZ00001723           0.787702   \n",
       "36        1           7     3  YZ00001723           0.637793   \n",
       "41        6           7     3  YZ00001723           0.775964   \n",
       "26        3           5     2  XK00001402           0.588832   \n",
       "39        4           7     3  YZ00001723           0.772581   \n",
       "44        3           8     1  WK00001576           0.669181   \n",
       "57        4          10     4  YZ00001723           0.731462   \n",
       "24        1           5     2  XK00001402           0.532740   \n",
       "23        6           4     2  XK00001402           0.484703   \n",
       "\n",
       "    Milling_Gear_Depth  Drilling_Surf_Quality  Drill_Pressure  series  \n",
       "54            0.307229               0.006774    2.620573e+16       0  \n",
       "40            0.386003               0.007271    3.306825e+16       0  \n",
       "36            0.312542               0.005887    2.677496e+16       0  \n",
       "41            0.380251               0.007163    3.257550e+16       0  \n",
       "26            0.305926               0.005099    1.135688e+16       1  \n",
       "39            0.378593               0.007131    3.243347e+16       0  \n",
       "44            0.273084               0.006267    3.605598e+15       2  \n",
       "57            0.329255               0.007260    2.808444e+16       0  \n",
       "24            0.276784               0.004613    1.027504e+16       1  \n",
       "23            0.248338               0.003074    1.575547e+16       1  "
      ]
     },
     "execution_count": 84,
     "metadata": {},
     "output_type": "execute_result"
    }
   ],
   "source": [
    "mt.sample(n=10)"
   ]
  },
  {
   "cell_type": "code",
   "execution_count": 85,
   "metadata": {},
   "outputs": [
    {
     "data": {
      "text/html": [
       "<div>\n",
       "<style scoped>\n",
       "    .dataframe tbody tr th:only-of-type {\n",
       "        vertical-align: middle;\n",
       "    }\n",
       "\n",
       "    .dataframe tbody tr th {\n",
       "        vertical-align: top;\n",
       "    }\n",
       "\n",
       "    .dataframe thead th {\n",
       "        text-align: right;\n",
       "    }\n",
       "</style>\n",
       "<table border=\"1\" class=\"dataframe\">\n",
       "  <thead>\n",
       "    <tr style=\"text-align: right;\">\n",
       "      <th></th>\n",
       "      <th>Test_No</th>\n",
       "      <th>Product_No</th>\n",
       "      <th>Site</th>\n",
       "      <th>Series_No</th>\n",
       "      <th>Turning_Cut_Depth</th>\n",
       "      <th>Milling_Gear_Depth</th>\n",
       "      <th>Drilling_Surf_Quality</th>\n",
       "      <th>Drill_Pressure</th>\n",
       "      <th>series</th>\n",
       "    </tr>\n",
       "  </thead>\n",
       "  <tbody>\n",
       "    <tr>\n",
       "      <th>20</th>\n",
       "      <td>3</td>\n",
       "      <td>4</td>\n",
       "      <td>2</td>\n",
       "      <td>XK00001402</td>\n",
       "      <td>0.597650</td>\n",
       "      <td>0.306207</td>\n",
       "      <td>0.003791</td>\n",
       "      <td>1.942685e+16</td>\n",
       "      <td>1</td>\n",
       "    </tr>\n",
       "    <tr>\n",
       "      <th>49</th>\n",
       "      <td>2</td>\n",
       "      <td>9</td>\n",
       "      <td>2</td>\n",
       "      <td>XK00001402</td>\n",
       "      <td>0.634395</td>\n",
       "      <td>0.292354</td>\n",
       "      <td>0.006473</td>\n",
       "      <td>4.180167e+16</td>\n",
       "      <td>1</td>\n",
       "    </tr>\n",
       "    <tr>\n",
       "      <th>37</th>\n",
       "      <td>2</td>\n",
       "      <td>7</td>\n",
       "      <td>3</td>\n",
       "      <td>YZ00001723</td>\n",
       "      <td>0.669767</td>\n",
       "      <td>0.328211</td>\n",
       "      <td>0.006182</td>\n",
       "      <td>2.811726e+16</td>\n",
       "      <td>0</td>\n",
       "    </tr>\n",
       "    <tr>\n",
       "      <th>55</th>\n",
       "      <td>2</td>\n",
       "      <td>10</td>\n",
       "      <td>4</td>\n",
       "      <td>YZ00001723</td>\n",
       "      <td>0.738027</td>\n",
       "      <td>0.332210</td>\n",
       "      <td>0.007325</td>\n",
       "      <td>2.833651e+16</td>\n",
       "      <td>0</td>\n",
       "    </tr>\n",
       "    <tr>\n",
       "      <th>41</th>\n",
       "      <td>6</td>\n",
       "      <td>7</td>\n",
       "      <td>3</td>\n",
       "      <td>YZ00001723</td>\n",
       "      <td>0.775964</td>\n",
       "      <td>0.380251</td>\n",
       "      <td>0.007163</td>\n",
       "      <td>3.257550e+16</td>\n",
       "      <td>0</td>\n",
       "    </tr>\n",
       "    <tr>\n",
       "      <th>23</th>\n",
       "      <td>6</td>\n",
       "      <td>4</td>\n",
       "      <td>2</td>\n",
       "      <td>XK00001402</td>\n",
       "      <td>0.484703</td>\n",
       "      <td>0.248338</td>\n",
       "      <td>0.003074</td>\n",
       "      <td>1.575547e+16</td>\n",
       "      <td>1</td>\n",
       "    </tr>\n",
       "    <tr>\n",
       "      <th>32</th>\n",
       "      <td>3</td>\n",
       "      <td>6</td>\n",
       "      <td>3</td>\n",
       "      <td>YZ00001723</td>\n",
       "      <td>0.735238</td>\n",
       "      <td>0.360610</td>\n",
       "      <td>0.006163</td>\n",
       "      <td>2.489376e+16</td>\n",
       "      <td>0</td>\n",
       "    </tr>\n",
       "    <tr>\n",
       "      <th>47</th>\n",
       "      <td>6</td>\n",
       "      <td>8</td>\n",
       "      <td>1</td>\n",
       "      <td>WK00001576</td>\n",
       "      <td>0.726403</td>\n",
       "      <td>0.296435</td>\n",
       "      <td>0.006803</td>\n",
       "      <td>3.913916e+15</td>\n",
       "      <td>2</td>\n",
       "    </tr>\n",
       "    <tr>\n",
       "      <th>40</th>\n",
       "      <td>5</td>\n",
       "      <td>7</td>\n",
       "      <td>3</td>\n",
       "      <td>YZ00001723</td>\n",
       "      <td>0.787702</td>\n",
       "      <td>0.386003</td>\n",
       "      <td>0.007271</td>\n",
       "      <td>3.306825e+16</td>\n",
       "      <td>0</td>\n",
       "    </tr>\n",
       "    <tr>\n",
       "      <th>15</th>\n",
       "      <td>4</td>\n",
       "      <td>3</td>\n",
       "      <td>1</td>\n",
       "      <td>WK00001576</td>\n",
       "      <td>0.565129</td>\n",
       "      <td>0.275783</td>\n",
       "      <td>0.004990</td>\n",
       "      <td>4.503235e+14</td>\n",
       "      <td>2</td>\n",
       "    </tr>\n",
       "  </tbody>\n",
       "</table>\n",
       "</div>"
      ],
      "text/plain": [
       "    Test_No  Product_No  Site   Series_No  Turning_Cut_Depth  \\\n",
       "20        3           4     2  XK00001402           0.597650   \n",
       "49        2           9     2  XK00001402           0.634395   \n",
       "37        2           7     3  YZ00001723           0.669767   \n",
       "55        2          10     4  YZ00001723           0.738027   \n",
       "41        6           7     3  YZ00001723           0.775964   \n",
       "23        6           4     2  XK00001402           0.484703   \n",
       "32        3           6     3  YZ00001723           0.735238   \n",
       "47        6           8     1  WK00001576           0.726403   \n",
       "40        5           7     3  YZ00001723           0.787702   \n",
       "15        4           3     1  WK00001576           0.565129   \n",
       "\n",
       "    Milling_Gear_Depth  Drilling_Surf_Quality  Drill_Pressure  series  \n",
       "20            0.306207               0.003791    1.942685e+16       1  \n",
       "49            0.292354               0.006473    4.180167e+16       1  \n",
       "37            0.328211               0.006182    2.811726e+16       0  \n",
       "55            0.332210               0.007325    2.833651e+16       0  \n",
       "41            0.380251               0.007163    3.257550e+16       0  \n",
       "23            0.248338               0.003074    1.575547e+16       1  \n",
       "32            0.360610               0.006163    2.489376e+16       0  \n",
       "47            0.296435               0.006803    3.913916e+15       2  \n",
       "40            0.386003               0.007271    3.306825e+16       0  \n",
       "15            0.275783               0.004990    4.503235e+14       2  "
      ]
     },
     "execution_count": 85,
     "metadata": {},
     "output_type": "execute_result"
    }
   ],
   "source": [
    "mt.sample(n=10, replace=True)"
   ]
  },
  {
   "cell_type": "markdown",
   "metadata": {},
   "source": [
    "## Data aggregation and GroupBy operations\n",
    "\n",
    "One of the most powerful features of Pandas is its **GroupBy** functionality. On some occasions we may want to perform operations on *groups* of observations within a dataset. For example:\n",
    "\n",
    "* **aggregation**, such as computing the sum of mean of each group, which involves applying a function to each group and returning the aggregated results\n",
    "* **slicing** the DataFrame into groups and then doing something with the resulting slices (*e.g.* plotting)\n",
    "* group-wise **transformation**, such as standardization/normalization"
   ]
  },
  {
   "cell_type": "code",
   "execution_count": 86,
   "metadata": {},
   "outputs": [],
   "source": [
    "mt_grouped = mt.groupby(mt.Product_No)"
   ]
  },
  {
   "cell_type": "markdown",
   "metadata": {},
   "source": [
    "However, the grouping is only an intermediate step; for example, we may want to **iterate** over each of the patient groups:"
   ]
  },
  {
   "cell_type": "code",
   "execution_count": 87,
   "metadata": {},
   "outputs": [
    {
     "name": "stdout",
     "output_type": "stream",
     "text": [
      "Product_No 1\n",
      "group    Test_No  Product_No  Site   Series_No  Turning_Cut_Depth  \\\n",
      "0        1           1     1  YZ00001723           0.637494   \n",
      "1        2           1     1  YZ00001723           0.609082   \n",
      "2        3           1     1  YZ00001723           0.652253   \n",
      "3        4           1     1  YZ00001723           0.684182   \n",
      "4        5           1     1  YZ00001723           0.636033   \n",
      "5        6           1     1  YZ00001723           0.684072   \n",
      "\n",
      "   Milling_Gear_Depth  Drilling_Surf_Quality  Drill_Pressure  series  \n",
      "0            0.310224               0.004732    3.493444e+15       0  \n",
      "1            0.296397               0.004521    3.337748e+15       0  \n",
      "2            0.317406               0.004841    3.574328e+15       0  \n",
      "3            0.332944               0.005078    3.749298e+15       0  \n",
      "4            0.309513               0.004721    3.485438e+15       0  \n",
      "5            0.332890               0.005078    3.748692e+15       0  \n",
      "Product_No 2\n",
      "group     Test_No  Product_No  Site   Series_No  Turning_Cut_Depth  \\\n",
      "6         1           2     1  YZ00001723           0.632855   \n",
      "7         2           2     1  YZ00001723           0.572760   \n",
      "8         3           2     1  YZ00001723           0.554027   \n",
      "9         4           2     1  YZ00001723           0.519736   \n",
      "10        5           2     1  YZ00001723           0.531624   \n",
      "11        6           2     1  YZ00001723           0.538097   \n",
      "\n",
      "    Milling_Gear_Depth  Drilling_Surf_Quality  Drill_Pressure  series  \n",
      "6             0.301637               0.007148    1.158858e+15       0  \n",
      "7             0.272994               0.006470    1.048813e+15       0  \n",
      "8             0.264065               0.006258    1.014511e+15       0  \n",
      "9             0.247721               0.005871    9.517193e+14       0  \n",
      "10            0.253387               0.006005    9.734878e+14       0  \n",
      "11            0.256473               0.006078    9.853414e+14       0  \n",
      "Product_No 3\n",
      "group     Test_No  Product_No  Site   Series_No  Turning_Cut_Depth  \\\n",
      "12        1           3     1  WK00001576           0.595691   \n",
      "13        2           3     1  WK00001576           0.568819   \n",
      "14        3           3     1  WK00001576           0.572353   \n",
      "15        4           3     1  WK00001576           0.565129   \n",
      "16        5           3     1  WK00001576           0.596996   \n",
      "17        6           3     1  WK00001576           0.610263   \n",
      "\n",
      "    Milling_Gear_Depth  Drilling_Surf_Quality  Drill_Pressure  series  \n",
      "12            0.290698               0.005260    4.746772e+14       2  \n",
      "13            0.277584               0.005023    4.532639e+14       2  \n",
      "14            0.279309               0.005054    4.560804e+14       2  \n",
      "15            0.275783               0.004990    4.503235e+14       2  \n",
      "16            0.291335               0.005272    4.757171e+14       2  \n",
      "17            0.297809               0.005389    4.862888e+14       2  \n",
      "Product_No 4\n",
      "group     Test_No  Product_No  Site   Series_No  Turning_Cut_Depth  \\\n",
      "18        1           4     2  XK00001402           0.648470   \n",
      "19        2           4     2  XK00001402           0.585047   \n",
      "20        3           4     2  XK00001402           0.597650   \n",
      "21        4           4     2  XK00001402           0.583354   \n",
      "22        5           4     2  XK00001402           0.533717   \n",
      "23        6           4     2  XK00001402           0.484703   \n",
      "\n",
      "    Milling_Gear_Depth  Drilling_Surf_Quality  Drill_Pressure  series  \n",
      "18            0.332244               0.004113    2.107877e+16       1  \n",
      "19            0.299749               0.003711    1.901718e+16       1  \n",
      "20            0.306207               0.003791    1.942685e+16       1  \n",
      "21            0.298882               0.003700    1.896215e+16       1  \n",
      "22            0.273450               0.003385    1.734868e+16       1  \n",
      "23            0.248338               0.003074    1.575547e+16       1  \n",
      "Product_No 5\n",
      "group     Test_No  Product_No  Site   Series_No  Turning_Cut_Depth  \\\n",
      "24        1           5     2  XK00001402           0.532740   \n",
      "25        2           5     2  XK00001402           0.571890   \n",
      "26        3           5     2  XK00001402           0.588832   \n",
      "27        4           5     2  XK00001402           0.603383   \n",
      "28        5           5     2  XK00001402           0.590256   \n",
      "29        6           5     2  XK00001402           0.598110   \n",
      "\n",
      "    Milling_Gear_Depth  Drilling_Surf_Quality  Drill_Pressure  series  \n",
      "24            0.276784               0.004613    1.027504e+16       1  \n",
      "25            0.297124               0.004952    1.103012e+16       1  \n",
      "26            0.305926               0.005099    1.135688e+16       1  \n",
      "27            0.313486               0.005225    1.163754e+16       1  \n",
      "28            0.306666               0.005111    1.138435e+16       1  \n",
      "29            0.310747               0.005179    1.153584e+16       1  \n",
      "Product_No 6\n",
      "group     Test_No  Product_No  Site   Series_No  Turning_Cut_Depth  \\\n",
      "30        1           6     3  YZ00001723           0.638477   \n",
      "31        2           6     3  YZ00001723           0.692714   \n",
      "32        3           6     3  YZ00001723           0.735238   \n",
      "33        4           6     3  YZ00001723           0.724158   \n",
      "34        5           6     3  YZ00001723           0.660666   \n",
      "35        6           6     3  YZ00001723           0.632133   \n",
      "\n",
      "    Milling_Gear_Depth  Drilling_Surf_Quality  Drill_Pressure  series  \n",
      "30            0.313152               0.005352    2.161762e+16       0  \n",
      "31            0.339753               0.005806    2.345398e+16       0  \n",
      "32            0.360610               0.006163    2.489376e+16       0  \n",
      "33            0.355175               0.006070    2.451862e+16       0  \n",
      "34            0.324034               0.005538    2.236888e+16       0  \n",
      "35            0.310040               0.005299    2.140280e+16       0  \n",
      "Product_No 7\n",
      "group     Test_No  Product_No  Site   Series_No  Turning_Cut_Depth  \\\n",
      "36        1           7     3  YZ00001723           0.637793   \n",
      "37        2           7     3  YZ00001723           0.669767   \n",
      "38        3           7     3  YZ00001723           0.719562   \n",
      "39        4           7     3  YZ00001723           0.772581   \n",
      "40        5           7     3  YZ00001723           0.787702   \n",
      "41        6           7     3  YZ00001723           0.775964   \n",
      "\n",
      "    Milling_Gear_Depth  Drilling_Surf_Quality  Drill_Pressure  series  \n",
      "36            0.312542               0.005887    2.677496e+16       0  \n",
      "37            0.328211               0.006182    2.811726e+16       0  \n",
      "38            0.352612               0.006642    3.020768e+16       0  \n",
      "39            0.378593               0.007131    3.243347e+16       0  \n",
      "40            0.386003               0.007271    3.306825e+16       0  \n",
      "41            0.380251               0.007163    3.257550e+16       0  \n",
      "Product_No 8\n",
      "group     Test_No  Product_No  Site   Series_No  Turning_Cut_Depth  \\\n",
      "42        1           8     1  WK00001576           0.714647   \n",
      "43        2           8     1  WK00001576           0.656053   \n",
      "44        3           8     1  WK00001576           0.669181   \n",
      "45        4           8     1  WK00001576           0.777190   \n",
      "46        5           8     1  WK00001576           0.768775   \n",
      "47        6           8     1  WK00001576           0.726403   \n",
      "\n",
      "    Milling_Gear_Depth  Drilling_Surf_Quality  Drill_Pressure  series  \n",
      "42            0.291638               0.006692    3.850570e+15       2  \n",
      "43            0.267726               0.006144    3.534862e+15       2  \n",
      "44            0.273084               0.006267    3.605598e+15       2  \n",
      "45            0.317161               0.007278    4.187560e+15       2  \n",
      "46            0.313727               0.007199    4.142217e+15       2  \n",
      "47            0.296435               0.006803    3.913916e+15       2  \n",
      "Product_No 9\n",
      "group     Test_No  Product_No  Site   Series_No  Turning_Cut_Depth  \\\n",
      "48        1           9     2  XK00001402           0.665860   \n",
      "49        2           9     2  XK00001402           0.634395   \n",
      "50        3           9     2  XK00001402           0.724573   \n",
      "51        4           9     2  XK00001402           0.728811   \n",
      "52        5           9     2  XK00001402           0.600190   \n",
      "53        6           9     2  XK00001402           0.625805   \n",
      "\n",
      "    Milling_Gear_Depth  Drilling_Surf_Quality  Drill_Pressure  series  \n",
      "48            0.306854               0.006794    4.387494e+16       1  \n",
      "49            0.292354               0.006473    4.180167e+16       1  \n",
      "50            0.333912               0.007393    4.774368e+16       1  \n",
      "51            0.335865               0.007436    4.802293e+16       1  \n",
      "52            0.276591               0.006124    3.954779e+16       1  \n",
      "53            0.288395               0.006385    4.123561e+16       1  \n",
      "Product_No 10\n",
      "group     Test_No  Product_No  Site   Series_No  Turning_Cut_Depth  \\\n",
      "54        1          10     4  YZ00001723           0.682531   \n",
      "55        2          10     4  YZ00001723           0.738027   \n",
      "56        3          10     4  YZ00001723           0.744495   \n",
      "57        4          10     4  YZ00001723           0.731462   \n",
      "58        5          10     4  YZ00001723           0.685847   \n",
      "59        6          10     4  YZ00001723           0.732039   \n",
      "\n",
      "    Milling_Gear_Depth  Drilling_Surf_Quality  Drill_Pressure  series  \n",
      "54            0.307229               0.006774    2.620573e+16       0  \n",
      "55            0.332210               0.007325    2.833651e+16       0  \n",
      "56            0.335121               0.007389    2.858482e+16       0  \n",
      "57            0.329255               0.007260    2.808444e+16       0  \n",
      "58            0.308722               0.006807    2.633305e+16       0  \n",
      "59            0.329514               0.007266    2.810658e+16       0  \n"
     ]
    }
   ],
   "source": [
    "for Product_No, group in mt_grouped:\n",
    "    print('Product_No', Product_No)\n",
    "    print('group', group)"
   ]
  },
  {
   "cell_type": "markdown",
   "metadata": {},
   "source": [
    "A common data analysis procedure is the **split-apply-combine** operation, which groups subsets of data together, applies a function to each of the groups, then recombines them into a new data table.\n",
    "\n",
    "For example, we may want to aggregate our data with with some function.\n",
    "\n",
    "![split-apply-combine](http://f.cl.ly/items/0s0Z252j0X0c3k3P1M47/Screen%20Shot%202013-06-02%20at%203.04.04%20PM.png)\n",
    "\n",
    "<div align=\"right\">*(figure taken from \"Python for Data Analysis\", p.251)*</div>"
   ]
  },
  {
   "cell_type": "markdown",
   "metadata": {},
   "source": [
    "We can aggregate in Pandas using the `aggregate` (or `agg`, for short) method:"
   ]
  },
  {
   "cell_type": "code",
   "execution_count": 88,
   "metadata": {},
   "outputs": [
    {
     "name": "stderr",
     "output_type": "stream",
     "text": [
      "C:\\Users\\co023080\\.conda\\envs\\dn_platform\\lib\\site-packages\\ipykernel_launcher.py:1: FutureWarning: Indexing with multiple keys (implicitly converted to a tuple of keys) will be deprecated, use a list instead.\n",
      "  \"\"\"Entry point for launching an IPython kernel.\n"
     ]
    },
    {
     "data": {
      "text/html": [
       "<div>\n",
       "<style scoped>\n",
       "    .dataframe tbody tr th:only-of-type {\n",
       "        vertical-align: middle;\n",
       "    }\n",
       "\n",
       "    .dataframe tbody tr th {\n",
       "        vertical-align: top;\n",
       "    }\n",
       "\n",
       "    .dataframe thead th {\n",
       "        text-align: right;\n",
       "    }\n",
       "</style>\n",
       "<table border=\"1\" class=\"dataframe\">\n",
       "  <thead>\n",
       "    <tr style=\"text-align: right;\">\n",
       "      <th></th>\n",
       "      <th>Turning_Cut_Depth</th>\n",
       "      <th>Milling_Gear_Depth</th>\n",
       "      <th>Drilling_Surf_Quality</th>\n",
       "      <th>Drill_Pressure</th>\n",
       "    </tr>\n",
       "    <tr>\n",
       "      <th>Product_No</th>\n",
       "      <th></th>\n",
       "      <th></th>\n",
       "      <th></th>\n",
       "      <th></th>\n",
       "    </tr>\n",
       "  </thead>\n",
       "  <tbody>\n",
       "    <tr>\n",
       "      <th>1</th>\n",
       "      <td>0.650519</td>\n",
       "      <td>0.316562</td>\n",
       "      <td>0.004829</td>\n",
       "      <td>3.564825e+15</td>\n",
       "    </tr>\n",
       "    <tr>\n",
       "      <th>2</th>\n",
       "      <td>0.558183</td>\n",
       "      <td>0.266046</td>\n",
       "      <td>0.006305</td>\n",
       "      <td>1.022122e+15</td>\n",
       "    </tr>\n",
       "    <tr>\n",
       "      <th>3</th>\n",
       "      <td>0.584875</td>\n",
       "      <td>0.285420</td>\n",
       "      <td>0.005165</td>\n",
       "      <td>4.660585e+14</td>\n",
       "    </tr>\n",
       "    <tr>\n",
       "      <th>4</th>\n",
       "      <td>0.572157</td>\n",
       "      <td>0.293145</td>\n",
       "      <td>0.003629</td>\n",
       "      <td>1.859818e+16</td>\n",
       "    </tr>\n",
       "    <tr>\n",
       "      <th>5</th>\n",
       "      <td>0.580869</td>\n",
       "      <td>0.301789</td>\n",
       "      <td>0.005030</td>\n",
       "      <td>1.120329e+16</td>\n",
       "    </tr>\n",
       "    <tr>\n",
       "      <th>6</th>\n",
       "      <td>0.680565</td>\n",
       "      <td>0.333794</td>\n",
       "      <td>0.005705</td>\n",
       "      <td>2.304261e+16</td>\n",
       "    </tr>\n",
       "    <tr>\n",
       "      <th>7</th>\n",
       "      <td>0.727228</td>\n",
       "      <td>0.356369</td>\n",
       "      <td>0.006713</td>\n",
       "      <td>3.052952e+16</td>\n",
       "    </tr>\n",
       "    <tr>\n",
       "      <th>8</th>\n",
       "      <td>0.718708</td>\n",
       "      <td>0.293295</td>\n",
       "      <td>0.006730</td>\n",
       "      <td>3.872454e+15</td>\n",
       "    </tr>\n",
       "    <tr>\n",
       "      <th>9</th>\n",
       "      <td>0.663272</td>\n",
       "      <td>0.305662</td>\n",
       "      <td>0.006767</td>\n",
       "      <td>4.370444e+16</td>\n",
       "    </tr>\n",
       "    <tr>\n",
       "      <th>10</th>\n",
       "      <td>0.719067</td>\n",
       "      <td>0.323675</td>\n",
       "      <td>0.007137</td>\n",
       "      <td>2.760852e+16</td>\n",
       "    </tr>\n",
       "  </tbody>\n",
       "</table>\n",
       "</div>"
      ],
      "text/plain": [
       "            Turning_Cut_Depth  Milling_Gear_Depth  Drilling_Surf_Quality  \\\n",
       "Product_No                                                                 \n",
       "1                    0.650519            0.316562               0.004829   \n",
       "2                    0.558183            0.266046               0.006305   \n",
       "3                    0.584875            0.285420               0.005165   \n",
       "4                    0.572157            0.293145               0.003629   \n",
       "5                    0.580869            0.301789               0.005030   \n",
       "6                    0.680565            0.333794               0.005705   \n",
       "7                    0.727228            0.356369               0.006713   \n",
       "8                    0.718708            0.293295               0.006730   \n",
       "9                    0.663272            0.305662               0.006767   \n",
       "10                   0.719067            0.323675               0.007137   \n",
       "\n",
       "            Drill_Pressure  \n",
       "Product_No                  \n",
       "1             3.564825e+15  \n",
       "2             1.022122e+15  \n",
       "3             4.660585e+14  \n",
       "4             1.859818e+16  \n",
       "5             1.120329e+16  \n",
       "6             2.304261e+16  \n",
       "7             3.052952e+16  \n",
       "8             3.872454e+15  \n",
       "9             4.370444e+16  \n",
       "10            2.760852e+16  "
      ]
     },
     "execution_count": 88,
     "metadata": {},
     "output_type": "execute_result"
    }
   ],
   "source": [
    "mt_grouped['Turning_Cut_Depth', 'Milling_Gear_Depth', 'Drilling_Surf_Quality', 'Drill_Pressure' ].mean().head(10)"
   ]
  },
  {
   "cell_type": "markdown",
   "metadata": {},
   "source": [
    "Notice that the `site` and `Series_No` variables are <b>not included in the aggregation</b>. Since it does not make sense to aggregate string variables, these columns are simply ignored by the method.\n",
    "\n",
    "Some aggregation functions are so common that Pandas has a convenience method for them, such as `mean`:"
   ]
  },
  {
   "cell_type": "markdown",
   "metadata": {},
   "source": [
    "The `add_prefix` and `add_suffix` methods can be used to give the columns of the resulting table labels that reflect the transformation:"
   ]
  },
  {
   "cell_type": "code",
   "execution_count": 90,
   "metadata": {},
   "outputs": [
    {
     "name": "stderr",
     "output_type": "stream",
     "text": [
      "C:\\Users\\co023080\\.conda\\envs\\dn_platform\\lib\\site-packages\\ipykernel_launcher.py:1: FutureWarning: Indexing with multiple keys (implicitly converted to a tuple of keys) will be deprecated, use a list instead.\n",
      "  \"\"\"Entry point for launching an IPython kernel.\n"
     ]
    },
    {
     "data": {
      "text/html": [
       "<div>\n",
       "<style scoped>\n",
       "    .dataframe tbody tr th:only-of-type {\n",
       "        vertical-align: middle;\n",
       "    }\n",
       "\n",
       "    .dataframe tbody tr th {\n",
       "        vertical-align: top;\n",
       "    }\n",
       "\n",
       "    .dataframe thead th {\n",
       "        text-align: right;\n",
       "    }\n",
       "</style>\n",
       "<table border=\"1\" class=\"dataframe\">\n",
       "  <thead>\n",
       "    <tr style=\"text-align: right;\">\n",
       "      <th></th>\n",
       "      <th>Turning_Cut_Depth_mean</th>\n",
       "      <th>Milling_Gear_Depth_mean</th>\n",
       "      <th>Drilling_Surf_Quality_mean</th>\n",
       "      <th>Drill_Pressure_mean</th>\n",
       "    </tr>\n",
       "    <tr>\n",
       "      <th>Product_No</th>\n",
       "      <th></th>\n",
       "      <th></th>\n",
       "      <th></th>\n",
       "      <th></th>\n",
       "    </tr>\n",
       "  </thead>\n",
       "  <tbody>\n",
       "    <tr>\n",
       "      <th>1</th>\n",
       "      <td>0.650519</td>\n",
       "      <td>0.316562</td>\n",
       "      <td>0.004829</td>\n",
       "      <td>3.564825e+15</td>\n",
       "    </tr>\n",
       "    <tr>\n",
       "      <th>2</th>\n",
       "      <td>0.558183</td>\n",
       "      <td>0.266046</td>\n",
       "      <td>0.006305</td>\n",
       "      <td>1.022122e+15</td>\n",
       "    </tr>\n",
       "    <tr>\n",
       "      <th>3</th>\n",
       "      <td>0.584875</td>\n",
       "      <td>0.285420</td>\n",
       "      <td>0.005165</td>\n",
       "      <td>4.660585e+14</td>\n",
       "    </tr>\n",
       "    <tr>\n",
       "      <th>4</th>\n",
       "      <td>0.572157</td>\n",
       "      <td>0.293145</td>\n",
       "      <td>0.003629</td>\n",
       "      <td>1.859818e+16</td>\n",
       "    </tr>\n",
       "    <tr>\n",
       "      <th>5</th>\n",
       "      <td>0.580869</td>\n",
       "      <td>0.301789</td>\n",
       "      <td>0.005030</td>\n",
       "      <td>1.120329e+16</td>\n",
       "    </tr>\n",
       "  </tbody>\n",
       "</table>\n",
       "</div>"
      ],
      "text/plain": [
       "            Turning_Cut_Depth_mean  Milling_Gear_Depth_mean  \\\n",
       "Product_No                                                    \n",
       "1                         0.650519                 0.316562   \n",
       "2                         0.558183                 0.266046   \n",
       "3                         0.584875                 0.285420   \n",
       "4                         0.572157                 0.293145   \n",
       "5                         0.580869                 0.301789   \n",
       "\n",
       "            Drilling_Surf_Quality_mean  Drill_Pressure_mean  \n",
       "Product_No                                                   \n",
       "1                             0.004829         3.564825e+15  \n",
       "2                             0.006305         1.022122e+15  \n",
       "3                             0.005165         4.660585e+14  \n",
       "4                             0.003629         1.859818e+16  \n",
       "5                             0.005030         1.120329e+16  "
      ]
     },
     "execution_count": 90,
     "metadata": {},
     "output_type": "execute_result"
    }
   ],
   "source": [
    "mt_grouped['Turning_Cut_Depth', 'Milling_Gear_Depth', 'Drilling_Surf_Quality', 'Drill_Pressure' ].mean().add_suffix('_mean').head()"
   ]
  },
  {
   "cell_type": "code",
   "execution_count": 91,
   "metadata": {},
   "outputs": [
    {
     "data": {
      "text/plain": [
       "Product_No\n",
       "1     0.644873\n",
       "2     0.546062\n",
       "3     0.584022\n",
       "4     0.584200\n",
       "5     0.589544\n",
       "6     0.676690\n",
       "7     0.746071\n",
       "8     0.720525\n",
       "9     0.650127\n",
       "10    0.731751\n",
       "Name: Turning_Cut_Depth, dtype: float64"
      ]
     },
     "execution_count": 91,
     "metadata": {},
     "output_type": "execute_result"
    }
   ],
   "source": [
    "# The median of the `twstrs` variable\n",
    "mt_grouped['Turning_Cut_Depth'].quantile(0.5).head(10)"
   ]
  },
  {
   "cell_type": "markdown",
   "metadata": {},
   "source": [
    "If we wish, we can easily aggregate according to multiple keys:"
   ]
  },
  {
   "cell_type": "markdown",
   "metadata": {},
   "source": [
    "## References\n",
    "\n",
    "[Python for Data Analysis](http://shop.oreilly.com/product/0636920023784.do) Wes McKinney"
   ]
  },
  {
   "cell_type": "code",
   "execution_count": null,
   "metadata": {},
   "outputs": [],
   "source": []
  }
 ],
 "metadata": {
  "anaconda-cloud": {},
  "kernelspec": {
   "display_name": "Python 3",
   "language": "python",
   "name": "python3"
  },
  "language_info": {
   "codemirror_mode": {
    "name": "ipython",
    "version": 3
   },
   "file_extension": ".py",
   "mimetype": "text/x-python",
   "name": "python",
   "nbconvert_exporter": "python",
   "pygments_lexer": "ipython3",
   "version": "3.7.6"
  },
  "nav_menu": {},
  "toc": {
   "base_numbering": 1,
   "nav_menu": {},
   "number_sections": false,
   "sideBar": false,
   "skip_h1_title": false,
   "title_cell": "Table of Contents",
   "title_sidebar": "Contents",
   "toc_cell": true,
   "toc_position": {},
   "toc_section_display": "block",
   "toc_window_display": false
  }
 },
 "nbformat": 4,
 "nbformat_minor": 2
}
